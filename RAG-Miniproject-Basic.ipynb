{
 "cells": [
  {
   "cell_type": "markdown",
   "id": "963d8aa5",
   "metadata": {},
   "source": [
    "# MiniProejct\n",
    "\n",
    "주제: 문화유적 해설사  \n",
    "\n",
    "소크코드 설명 : PDF 문서를 RAG해서 챗봇을 만들 데이터를 저장합니다"
   ]
  },
  {
   "cell_type": "markdown",
   "id": "55e52cc6",
   "metadata": {},
   "source": [
    "### 환경설정\n",
    "API_KEY를 설정합니다"
   ]
  },
  {
   "cell_type": "code",
   "execution_count": 94,
   "id": "cab43af9",
   "metadata": {},
   "outputs": [
    {
     "data": {
      "text/plain": [
       "True"
      ]
     },
     "execution_count": 94,
     "metadata": {},
     "output_type": "execute_result"
    }
   ],
   "source": [
    "# API 키를 환경변수로 관리하기 위한 설정 파일\n",
    "from dotenv import load_dotenv\n",
    "\n",
    "# API 키 정보 로드\n",
    "load_dotenv()"
   ]
  },
  {
   "cell_type": "code",
   "execution_count": null,
   "id": "81c659bb",
   "metadata": {},
   "outputs": [],
   "source": [
    "#import os\n",
    "# API key확인\n",
    "#print(f\"[API KEY]\\n{os.environ['LLAMA_CLOUD_API_KEY'][:5]}\" + \"*\" * 15)"
   ]
  },
  {
   "cell_type": "markdown",
   "id": "a7c7cb6e",
   "metadata": {},
   "source": [
    "LangSmith를 설정합니다"
   ]
  },
  {
   "cell_type": "code",
   "execution_count": 95,
   "id": "f5b26621",
   "metadata": {},
   "outputs": [
    {
     "name": "stdout",
     "output_type": "stream",
     "text": [
      "LangSmith 추적을 시작합니다.\n",
      "[프로젝트명]\n",
      "RAG-PRJ-MD\n"
     ]
    }
   ],
   "source": [
    "# LangSmith 추적을 설정합니다. https://smith.langchain.com\n",
    "# !pip install -qU langchain-teddynote\n",
    "from langchain_teddynote import logging\n",
    "\n",
    "# 프로젝트 이름을 입력합니다.\n",
    "logging.langsmith(\"RAG-PRJ\")"
   ]
  },
  {
   "cell_type": "markdown",
   "id": "b3457fdf",
   "metadata": {},
   "source": [
    "필요한 라이브러리를 import 합니다"
   ]
  },
  {
   "cell_type": "code",
   "execution_count": 4,
   "id": "a5510db4",
   "metadata": {},
   "outputs": [],
   "source": [
    "from langchain_text_splitters import RecursiveCharacterTextSplitter\n",
    "from llama_parse import LlamaParse\n",
    "from langchain_community.vectorstores import FAISS\n",
    "from langchain_core.output_parsers import StrOutputParser\n",
    "from langchain_core.runnables import RunnablePassthrough\n",
    "from langchain_core.prompts import PromptTemplate\n",
    "from langchain_openai import ChatOpenAI, OpenAIEmbeddings\n",
    "import os"
   ]
  },
  {
   "cell_type": "markdown",
   "id": "69eb2959",
   "metadata": {},
   "source": [
    "## 1~8단계까지 순서대로 구현해보기\n",
    "### 단계 1: 문서 로드(Load Documents)\n",
    "LlamaParse로 PDF 문서 내용을 불러옵니다"
   ]
  },
  {
   "cell_type": "code",
   "execution_count": null,
   "id": "fa9cdfff",
   "metadata": {},
   "outputs": [
    {
     "name": "stdout",
     "output_type": "stream",
     "text": [
      "Started parsing the file under job_id 443d1957-c326-468f-9a45-94c4a3aa6316\n"
     ]
    }
   ],
   "source": [
    "# documents = LlamaParse(result_type=\"markdown\")\n",
    "\n",
    "# 동기화 오류때문에 추가\n",
    "import nest_asyncio\n",
    "\n",
    "nest_asyncio.apply()\n",
    "\n",
    "def parse_file_to_markdown_pages(file_path):\n",
    "    \"\"\"다양한 파일 형식을 페이지별 Markdown으로 변환\"\"\"\n",
    "    try:\n",
    "        # 기본 prompt (PDF, 이미지, 기타 등)\n",
    "        system_prompt = (\n",
    "            \"You are parsing a document. Please extract all content including tables in markdown format. \"\n",
    "            \"Preserve the structure and formatting as much as possible. \"\n",
    "            \"Mark page breaks clearly with '---PAGE_BREAK---' marker.\"\n",
    "        )\n",
    "        # LlamaParse 설정\n",
    "        parser = LlamaParse(\n",
    "            use_vendor_multimodal_model=True,\n",
    "            vendor_multimodal_model_name=\"openai-gpt4o\",\n",
    "            vendor_multimodal_api_key=os.environ.get(\"OPENAI_API_KEY\"),\n",
    "            result_type=\"markdown\",\n",
    "            language=\"ko\",\n",
    "            system_prompt=system_prompt,\n",
    "        )\n",
    "\n",
    "        # 파일 파싱\n",
    "        parsed_docs = parser.load_data(file_path=file_path)\n",
    "\n",
    "        return parsed_docs\n",
    "\n",
    "    except Exception as e:\n",
    "        print(f\"오류: {str(e)}\")\n",
    "        return []\n",
    "    \n",
    "\n",
    "documents = parse_file_to_markdown_pages(file_path = \"./data/deoksugung.pdf\")"
   ]
  },
  {
   "cell_type": "code",
   "execution_count": 7,
   "id": "84aa479f",
   "metadata": {},
   "outputs": [
    {
     "data": {
      "text/plain": [
       "18"
      ]
     },
     "execution_count": 7,
     "metadata": {},
     "output_type": "execute_result"
    }
   ],
   "source": [
    "len(documents)"
   ]
  },
  {
   "cell_type": "code",
   "execution_count": 8,
   "id": "efa7fa01",
   "metadata": {},
   "outputs": [],
   "source": [
    "# langchain 도큐먼트로 변환\n",
    "docs = [doc.to_langchain_format() for doc in documents]"
   ]
  },
  {
   "cell_type": "code",
   "execution_count": 28,
   "id": "5815dd29",
   "metadata": {},
   "outputs": [
    {
     "name": "stdout",
     "output_type": "stream",
     "text": [
      "\n",
      "\n",
      "\n",
      "# 1 대한문 일원\n",
      "大漢門\n",
      "\n",
      "----\n",
      "\n",
      "**대한제국, 근대 세계를 향해 문을 열다**\n",
      "\n",
      "원래 경운궁의 정문은 남쪽으로 난 인화문(仁化門)이었다. 그런데 동문(東門)이었던 대한문(大漢門) 앞으로 여러 방향의 도로들이 건설되고 환구단이 건립되면서 궁궐의 동쪽이 새로운 도심이 되자 대한문의 실질적인 정문 역할을 하게 되었다. 대한문은 '크게 편안하다'는 뜻인데 1906년 수리와 함께 대환문(大漢門)으로 이름이 바뀌었다. '대한(大漢)'은 '한양이 창대해진다'는 뜻이다. 《대한문상량문(大漢門上樑文)》을 보면 \"황하가 맑아지는 천제일유의 시운을 맞았으므로 국운이 길이 창대할 것이고 한양이 억만 년 이어갈 터전에 자리하였으니 문 이름으로 특별히 건다.\"고 나와 있다. 한양을 수도로 하여 새로 태어난 대한제국의 영원히 창대하라는 염원을 담은 말이다. 대한문을 지나 건너게 되는 금천교는 1986년 발굴되어 정비한 것이다. 이 다리를 건너 중화문 앞에 이르는 길이 궁궐의 중심 행차로였다.\n",
      "\n",
      "!대한문\n",
      "\n",
      "\n",
      "\n"
     ]
    }
   ],
   "source": [
    "print(docs[3].page_content)"
   ]
  },
  {
   "cell_type": "markdown",
   "id": "e452dc7e",
   "metadata": {},
   "source": [
    "### 단계 2: 문서 분할(Split Documents)\n"
   ]
  },
  {
   "cell_type": "code",
   "execution_count": 10,
   "id": "e5fde622",
   "metadata": {},
   "outputs": [
    {
     "name": "stdout",
     "output_type": "stream",
     "text": [
      "분할된 청크의수: 37\n"
     ]
    }
   ],
   "source": [
    "text_splitter = RecursiveCharacterTextSplitter(chunk_size=500, chunk_overlap=50)\n",
    "split_documents = text_splitter.split_documents(docs)\n",
    "print(f\"분할된 청크의수: {len(split_documents)}\")"
   ]
  },
  {
   "cell_type": "code",
   "execution_count": 11,
   "id": "f55d6c52",
   "metadata": {},
   "outputs": [
    {
     "data": {
      "text/plain": [
       "[Document(metadata={}, page_content='관람정보\\n\\n# 관람정보\\n\\n100-120 서울시 중구 세종대로 99 / deoksugung.go.kr / 02-771-9952\\n\\n## 관람시간\\n09:00~21:00  \\n※ 매일 1시간 전까지 입장해야 하며 매주 월요일은 쉽니다\\n\\n## 입장요금\\n- 어른(19~64세) 1,000원(10인 이상 800원)\\n\\n## 무료 안내 시간\\n\\n### 국어\\n- 화~금요일: 10:00, 11:00, 14:00, 15:00, 16:00\\n- 토요일: 10:00, 11:00, 14:00, 15:00, 16:30\\n- 일요일: 10:00, 11:00, 14:00, 15:00, 16:30\\n\\n### 영어\\n- 화, 수, 금요일: 10:30\\n- 토, 일요일: 13:40\\n\\n### 일어\\n- 화, 수, 금요일: 10:30\\n- 화, 수, 금요일: 14:30\\n- 토요일: 10:30, 14:30\\n- 일요일: 10:30\\n\\n### 중국어\\n- 화, 수, 금요일: 13:40\\n- 토요일: 13:40\\n- 일요일: 13:40'),\n",
       " Document(metadata={}, page_content='- 궁궐코스 내 안내판 앞에서 출발하며 약 1시간 정도 소요됩니다\\n- 공휴일에는 쉬지 않습니다\\n- 사전예약시 전액 무료 해설\\n- 우리궁궐지킴이(02-723-4206, www.rekor.or.kr)\\n- 우리궁궐관리소(02-2273-2276, www.palaceguide.or.kr)\\n\\n## 교통안내\\n\\n- 지하철: 시청역(1호선) 연결, 을지로입구역(2호선) 12번 출구\\n- 버스: \\n  - 간선(파랑): 101, 150, 172, 263, 401, 402, 406, 408, 421, 472, 504, 507, 600, 602, 603, 604, 700, 703\\n  - 지선(초록): 601, 7012, 7015, 7016, 7019, 7022\\n  - 공항(빨강): 8600\\n- 자세한 사항은 서울시 버스 정보 (http://bus.seoul.go.kr)\\n- 어른 입장료(덕수궁, 창덕궁, 창경궁)과 화요일(종묘, 창릉)은 쉽니다\\n\\n## 통합관람'),\n",
       " Document(metadata={}, page_content='## 통합관람\\n\\n- 통합관람은 4대궁 및 종묘를 대상으로, 관람객들의 편의를 위해 통합관람권을 발행합니다.\\n- 통합관람권은 4대궁(경복궁, 창덕궁, 덕수궁, 창경궁) 및 종묘\\n- 통합관람권은 4대궁 및 종묘를 1회씩 관람할 수 있습니다.\\n- 통합관람권은 4대궁 및 종묘 매표소에서 구입 가능합니다.\\n- 유효기간 / 구입일로부터 1개월\\n\\n----\\n\\n# 덕수궁\\n\\n한국어\\n\\n----\\n\\n# 덕수궁'),\n",
       " Document(metadata={}, page_content=\"----\\n\\n# 덕수궁\\n\\n한국어\\n\\n----\\n\\n# 덕수궁\\n\\n- 1593 (선조 26) 월산대군 저택을 행궁(행궁)으로 사용\\n- 1611 (광해 3) '경운궁'이라는 궁호를 붙임\\n- 1615 (광해 7) 경운궁이 창덕궁으로 이어짐에 변경이 됨\\n- 1618 (광해 10) 인목대비 투옥, 서궁(西宮)으로 불림\\n- 1623 (인조 1) 광운궁 대부인과 가덕대부인에게 물려줌\\n- 1897 (고종 24, 25) 러시아공사관에서 경운궁으로 옮겨 옴\\n- 1897 (광무 1, 2) 한국에서 황제즉위식 거행\\n- 1904 (광무 8) 대화재로 주요 건물들이 대부분 소실\\n- 1907 (융희 1) 순종 황제 대관식 내정\\n- 1919 고종, 덕수궁 함녕전에서 승하\\n- 1933 덕수궁, 일본인에게 개방\\n- 1938 덕수궁 석조전 옆에 분수대 설치\\n- 2007 덕수궁 복원 시작\"),\n",
       " Document(metadata={}, page_content='## 정보\\n\\n1. 표 파는 곳  \\n2. 지하철  \\n3. 화장실  \\n4. 기념품점  \\n5. 휠체어 보관소  \\n\\n## 권역\\n\\n1. 대한문 일원  \\n2. 중화전 일원  \\n3. 즉조당 일원  \\n4. 석조전 일원  \\n5. 함녕전 일원  \\n6. 정관헌  \\n7. 중명전 일원  \\n8. 석조전 서관  \\n9. 덕수궁관리소 타임캡슐  \\n10. 1910년 당시의 궁역  \\n\\n디자인 기준 (메이커스지 / 디자인 2X4, 링크플러스 / 큰 한옥요)'),\n",
       " Document(metadata={}, page_content=\"# 덕수궁 궁역의 어제와 오늘\\n\\n## 근대 한국의 원(原) 공간 - 덕수궁, 서울의 새로운 중심을 형성하다\\n\\n대한제국의 정궁이었던 덕수궁은 원래 정릉(9대) 명의 원찰대군의 저택이었다. 임진왜란으로 인해 서울의 모든 궁궐이 불타 없어지자 1593년(선조 26)부터 선조의 임시 거처로 사용되다가 광해군이 1611년(광해 3) 경운궁으로 불리던 이곳에 '경운궁'이라는 정식 궁호를 붙여 주었다. 그 후 광해군이 1615년(광해 7) 재건한 창덕궁으로 거처를 옮기고 경운궁은 별궁으로 남게 되었다.\"),\n",
       " Document(metadata={}, page_content='경운궁은 1897년 대한제국 출범과 함께 한국 근대사의 전면에 등장했다. 전성기 때의 경운궁은 현재 남아 있는 3배에 달하는 큰 궁궐이었다. 현재의 미국대사관 건너편 저쪽에는 중명전을 비롯해 황실 생활을 위한 전각들이 있었고, 북쪽에는 역대 임금들을 제사 지내는 선원전 일원이 있었으며, 동쪽에는 하늘에 제사 지내는 원구단은 실질하여 황제국의 위세를 과시했다. 그러나 고종황제가 황해에 물러나면서 경운궁은 선원제가 거처하는 궁으로 그 위상이 달라졌고 이름도 덕수궁으로 바뀌었다. 이후 칸나자 일부와 환구단이 철거되었고 이 지역은 대한제국의 상징 공간으로서의 위상을 잃게 되었다.'),\n",
       " Document(metadata={}, page_content='고종이 승하한 뒤 1920년부터 일제가 선원전과 중명전 일대를 매각하여 궁역이 크게 줄어들었으며, 1933년에는 많은 건물들을 철거하고 공원으로 조성하여 일부에 공개했다. 이처럼 덕수궁은 일제강점기를 거치면서 원형을 거의 찾아볼 수 없을 정도로 훼손되었으나, 임진왜란과 대한제국기의 역사를 겪은 궁궐로 국난 극복의 상징적 공간이자 그 중심이었다.\\n\\n!덕수궁\\n\\n주변의 높은 빌딩으로 둘러싸인 덕수궁\\n\\n01'),\n",
       " Document(metadata={}, page_content='# 1 대한문 일원\\n大漢門\\n\\n----\\n\\n**대한제국, 근대 세계를 향해 문을 열다**\\n\\n원래 경운궁의 정문은 남쪽으로 난 인화문(仁化門)이었다. 그런데 동문(東門)이었던 대한문(大漢門) 앞으로 여러 방향의 도로들이 건설되고 환구단이 건립되면서 궁궐의 동쪽이 새로운 도심이 되자 대한문의 실질적인 정문 역할을 하게 되었다. 대한문은 \\'크게 편안하다\\'는 뜻인데 1906년 수리와 함께 대환문(大漢門)으로 이름이 바뀌었다. \\'대한(大漢)\\'은 \\'한양이 창대해진다\\'는 뜻이다. 《대한문상량문(大漢門上樑文)》을 보면 \"황하가 맑아지는 천제일유의 시운을 맞았으므로 국운이 길이 창대할 것이고 한양이 억만 년 이어갈 터전에 자리하였으니 문 이름으로 특별히 건다.\"고 나와 있다. 한양을 수도로 하여 새로 태어난 대한제국의 영원히 창대하라는 염원을 담은 말이다. 대한문을 지나 건너게 되는 금천교는 1986년 발굴되어 정비한 것이다. 이 다리를 건너 중화문 앞에 이르는 길이 궁궐의 중심 행차로였다.'),\n",
       " Document(metadata={}, page_content='!대한문'),\n",
       " Document(metadata={}, page_content='대한문\\n\\n대한문의 이동  \\n1912년 태평로 확장으로 덕수궁의 궁역은 축소되었으나 대한문의 위치에는 영향을 미치지 않았다. 그러나 1968년 태평로는 다시 한번 확장되었는데 이로 인해 길 중간에 설치된 남겨져 있다가 1971년 원래의 자리에서 33m 물러선 현재의 자리로 옮겨졌다. 이후 몇 차례의 수리가 있었고 2005년 원전 해체 · 복수하였다.\\n\\n!현재 대한문의 현판'),\n",
       " Document(metadata={}, page_content=\"!현재 대한문의 현판\\n\\n덕수궁이 된 경운궁  \\n덕수궁의 원래 이름은 경운궁이다. 1611년(광해군 3년)부터 고종 재위 마지막 해인 1907년까지 300여 년 동안 경운궁이라는 궁호가 사용되었다. 1907년 헤이그 밀사 사건을 빌미 삼아 일제는 고종을 강제로 퇴위시킨 후, 새로 즉위한 순종과 창덕궁으로 이사시켰다. 고종의 정치적 영향력에 순종에게 미치지 못하도록 하기 위한 조치였다. 그리고 고종이 억류되다시피 남은 덕수궁에 덕수궁이라는 궁호를 내렸다. 이 궁호는 조선왕조 초기의 정종이 태조를 위해 지은 궁궐을 본딴 이름으로, 원래는 '성업이 덕을 누리며 오래 사시라'는 의미이지만, 일제에 의해 강제로 상황이 된 고종의 시련이 묻어 있는 궁호라고 볼 수 있다.\\n\\n03\"),\n",
       " Document(metadata={}, page_content='# 2 중화전 일원\\n中和殿\\n\\n## 공식적 행사를 치르던 궁궐의 으뜸 전각\\n\\n중화전은 경운궁의 정전(正殿)으로서 왕의 즉위식, 신하들의 하례, 외국 사신의 접견 등 중요한 국가적 의식을 치르던 곳이다. 고종이 경운궁으로 환어한 후 5년 남짓 즉조당을 정전으로 사용하다가 1902년에 중수의 중화전을 새로 지었다. 이때 중화전 행각 128칸과 중화문, 조원문(朝元門)도 함께 건립되었다. 그러나 1904년 대화재로 소실된 후 1906년에 재건되면서 당시의 어지러운 시국과 궁궐 재정 상황으로 인해 단층으로 축소되어 건립되었다. 중화전을 둘러싸고 널찍한 마당, 조정(朝廷)을 형성했던 행각들은 고종 승하 후 대부분 헐리고 동남쪽 모퉁이 부분만 남아 있어 옛 모습을 추측할 뿐이다.'),\n",
       " Document(metadata={}, page_content='중화전은 이중 월대 위에 건물을 올렸는데, 중화전으로 오르는 계단 답도(踏道)에는 조선 궁궐의 정전 중 유일하게 용 두 마리가 새겨져 있다. 다른 궁궐의 정전에는 모두 봉황이 새겨져 있으나 대한제국 출범 후 지어진 건물이기에 황제를 상징하는 용을 장식한 것이다. 중화전은 중화문과 함께 보물 제819호로 지정되어 있다.\\n\\n### 헤이그 밀사 파견과 고종의 강제 양위'),\n",
       " Document(metadata={}, page_content=\"### 헤이그 밀사 파견과 고종의 강제 양위\\n\\n고종은 일본과 맺은 을사늑약의 부당함을 세계 각국에 알리고자 1907년 6월 네덜란드 헤이그에서 열린 제2차 만국평화회의에 특사를 파견했다. 그러나 특사들은 회의장에 들어가지도 못한 채 거절당했다. 열강의 냉담한 반응에 이준 열사는 규국하지 않고 순국하여 대한제국의 의지를 천명하였다. 이 일로 일본은 고종에 여러 처리 양해를 강요하였고, 결국 고종은 순종에게 대한제정창설을 명령케 이른다. 그러나 실제로 세자가 대신 정무를 보는 대리청정을 위임한 바였고 그 양위식은 1907년 7월 19일 중화전에서 치러졌다. 고종과 순종은 양위식 참석을 거부했다.\\n\\n!중화전 구조도\\n\\n### '드므'에 새겨진 '단세(檀世)'의 의미\"),\n",
       " Document(metadata={}, page_content=\"!중화전 구조도\\n\\n### '드므'에 새겨진 '단세(檀世)'의 의미\\n\\n'드므'란 넓적하게 생긴 큰 독이라는 뜻의 순수한 우리말이다. 궁궐에서 주요 건물의 월대 아래 마당에 드므를 설치하고 그 안에 물을 담아 놓았다. 드므에 담긴 물에는 화마(火魔)가 물에 비친 자신의 모습을 보고 놀라서 도망가기를 바라는 마음이 담겨 있다. 중화전 월대에 놓인 드므도 납작한 면이 있다. 드므에 새겨진 단세라는 글자 때문에다. 중국의 천자를 위해서 사용되었던 단세는 조선에서 사용할 수 없었지만, 대한제국의 출범과 함께 황제국의 격을 갖춘 대한제국에서는 이 단어를 사용할 수 있었던 것이다.\\n\\n05\"),\n",
       " Document(metadata={}, page_content='# 3 족조당 일원\\n卽祚堂\\n\\n----\\n\\n## 덕수궁의 원(原) 공간\\n\\n족조당 일원은 임진왜란 때 선조가 임시로 거처했던 곳으로 덕수궁의 모태가 된 곳이다. 1897년 고종이 러시아공사관에서 경운궁으로 환어한 뒤 1902년 중화전을 건립하기 전까지 정전으로 사용된 건물이다. 1904년 화재로 족조당이 소실되자 고종은 이를 매우 안타까워했다. 인조 즉위 이후 서가래 하나 바뀌지 않고 소중하게 보존해왔던 까닭이다. 현재 족조당에는 고종의 손끝 손 편액(扁額)이 걸려 있다. 석어당(昔御堂)은 덕수궁에 유일하게 남아 있는 중층 건물로 단청을 하지 않아 소박한 살림집 같다. 인조 즉위 후 경운궁의 전각은 대부분 원래의 주인에게 돌려주었으나, 이 두 건물만은 보존되어 후에 경운궁의 중심이 되었다. 준명당(浚明堂)은 황제가 업무를 보던 편전이며, 족조당과 복도로 연결되었다. 현재의 세 건물은 1904년에 소실된 후 같은 해에 중건된 것이다.\\n\\n!Image of Buildings'),\n",
       " Document(metadata={}, page_content='!Image of Buildings\\n\\n### 서궁 유폐와 인조반정의 현장, 석어당\\n\\n석어당은 선조의 계비인 인목왕후 김씨가 10여 년간 감금생활을 했던 곳이다. 광해군은 왕위에 오른 후 자신의 왕위를 위협할 가능성이 있는 형제들을 차례로 제거하고 인목대비를 폐위시켜 경운궁에 유폐했다. 이때 경운궁은 서궁(西宮)으로 불렸다. 서궁 유폐는 결국 반정을 일으키는 구실이 되었다. 반정이 성공한 능양군(인조)은 경운궁으로 입궐해를 찾아 정통성을 인정받고 여기서 즉위했다. 유폐의 한이 맺혀 있던 인목대비는 석어당 앞마당에 광해군을 끌어내리고 36조의 죄를 물은 후 능운궁에서 묘사를 전하였다.\\n\\n06'),\n",
       " Document(metadata={}, page_content='4 함녕전과 덕홍전\\n\\n# 함녕전과 덕홍전\\n### 咸寧殿 · 德弘殿\\n\\n### 황제의 침전과 접견실\\n\\n함녕전은 고종의 환어와 함께 1897년에 건립된 왕의 침전이다. 1904년 대화재로 소실된 후 중건되었다. 고종은 이곳에서 기거하다가 68세를 일기로 승하하였다. 승하 후 함녕전은 고종의 빈전 및 혼전으로 사용되었다. 함녕전 뒤편에는 계단식 정원을 꾸몄고 진백돌로 만든 유려하고 아름다운 장식을 한 골뚝돌을 설치했다. 함녕전은 보물 제820호로 지정되어 있다. 덕홍전은 명성황후의 혼전으로 사용되었던 경효전(景孝殿)이 위치했던 곳으로, 고종황제가 고위 관료와 외교 사절을 맞이하는 접견실로 사용되었다. 내부는 천장의 상들리에나 봉황문양의 단청, 창방의 오얏문양 등으로 화려하게 꾸며져 있다.\\n\\n!함녕전과 덕홍전'),\n",
       " Document(metadata={}, page_content='## 함녕전에서 시작된 경운궁 대화재\\n\\n1904년 4월 함녕전에서 발생한 대화재로 경운궁은 거의 잿더미로 변하였다. 당시 일각에선 함녕전 온돌을 수리한 뒤 밀리는 과정에서 불을 잘못 끈 기둥에 불이 옮겨 붙었다고 했다. 그러나 온돌의 구조적 특성상 과열되었다고 해서 기둥에 불이 옮겨 붙기는 어렵다는 점, 비바람이 거세었다고 해도 그 피해 범위가 너무나 넓었다는 점 등을 근거로 일제에 의한 방화가 아니냐는 의혹이 제기되고 있다. 당시의 정치적 상황으로 볼 때 각국의 공사관 사이에 위치한 경운궁에 고종이 기거하는 것을 일제가 못마땅해했다는 점도 방화를 의심케 하는 대목이다. 고종은 불이 난 후 다른 궁궐로의 이어 건물을 물리치고 다음날부터 재건 공사에 착수하도록 지시하였다.\\n\\n!Image of 경운궁 대화재\\n\\n## 김구의 목숨을 살린 함녕전 대청전화'),\n",
       " Document(metadata={}, page_content=\"!Image of 경운궁 대화재\\n\\n## 김구의 목숨을 살린 함녕전 대청전화\\n\\n1897년에는 고종의 침전과 정부 각 부처를 연결하는 전화가 설치되었다. 함녕전의 대청마루에 전화기가 설치되자, 고종은 필요할 때마다 전화기로 대신들에게 지시를 내렸다. 이 전화를 '대청 전화'라고 했는데 대전쟁적 덕분에 김구가 사형 직전에 목숨을 건진 일화가 '백범일지'에 실려 있다. 고종이 김구의 사형집행 서류를 검토 중 함경령 직전에 전화로 사형집행정지 명령을 내려 목숨을 구했다는 것이다.\\n\\n!Image of 함녕전\\n\\n08\"),\n",
       " Document(metadata={}, page_content='5 정관헌 靜觀軒\\n\\n# 전통 건축과 서양 건축의 조화\\n\\n정관헌(靜觀軒)은 그 이름처럼 궁궐 후원의 언덕 위에서 ‘조용히 궁궐을 내려다보는’ 휴식용 건물이다. 위치도 함녕전 뒤에 자리 잡고 있어, 전통 궁궐에서 후원의 정자 기능을 대신하는 건물이라 할 수 있다. 1900년경 러시아 건축가 사바틴(A. I. Sabatin)이 한식과 양식을 절충해 설계한 건축물이다. 기단 위에 로마네스크 양식의 인조석 기둥을 둘러서 내부 공간을 만들었고, 바깥에는 동·남·서 세 방향에 기둥을 세운 베란다가 둘러져 있다. 흥미로운 것은 석재를 기본으로 하는 서양식 기둥이 나무로 만들어졌다는 점과, 기둥 상부에 청룡과 황룡, 박쥐, 꽃병 등 한국 전통 문양이 새겨져 있다는 사실이다. 고종황제는 정관헌에서 커피를 마시며 외교 사절들과 연회를 즐겼다고 한다.\\n\\n!정관헌 이미지\\n\\n## 커피와 고종 독살미수 사건'),\n",
       " Document(metadata={}, page_content='!정관헌 이미지\\n\\n## 커피와 고종 독살미수 사건\\n\\n고종은 1896년 아관파천 때 러시아공사관에서 처음으로 커피를 맛보았는데 경운궁으로 환어한 뒤에도 그 맛을 잊지 못해 계속 즐겼다. 1898년에 커피와 관련된 정관헌 고종 독살미수 사건이 발생했다. 김홍륙이라는 자가 하수인을 시켜 고종황제가 즐겨 마시는 커피에 독을 넣은 것이다. 김홍륙 일파는 러시아공사관에서 고종의 눈에 들어 승승장구했으나 동의를 방지해 국정을 농단한 것이 발각되어 유배형을 받았는데 이에 앙심을 품고 이러한 일을 저질렀다. 다행히 고종은 일에 끓였던 독차를 별맛지만 이미 한 모금 마신 황태자(훗날 순종)는 그것을 토했으므로 그 여독으로 많은 고생을 해야 했다.\\n\\n09'),\n",
       " Document(metadata={}, page_content='# 6 석조전 일원\\n石造殿\\n\\n----\\n\\n## 근대국가의 상징\\n\\n석조전은 고종황제가 침전 겸 편전으로 사용하기 위해 1900년부터 1910년에 걸쳐 지은 서양식 석조건물이다. 경운궁에 서양식 건축물들을 건립한 것은 대한제국 근대화를 위한 정책의 일환이었다. 석조전은 서양의 신고전주의 건축양식으로 지어졌으며, 건물의 앞과 동서 양편에 베란다가 설치된 것이 특징이다. 1층은 시종이 기거하는 방과 부속 시설로, 돌계단을 올라 들어서는 2층은 대접견실과 대기실로, 3층은 황제와 황후가 거처하는 침실과 여러 용도의 방으로 구성되었다. 고종황제 승하 후에 경운궁이 황폐해지는 과정에서 석조전은 일본 회화미술관으로 사용되었다. 1938년에 서측 별관이 들어서 이왕가미술관으로 사용되기도 하였다.'),\n",
       " Document(metadata={}, page_content='# 석조전 앞의 분수\\n\\n석조전 앞에 있는 정원과 청동제 분수는 서구형 정원으로 1938년에 조성된 것으로 알려져 있다. 우리의 전통 정원은 건물의 뒤에 배치하여 후원이라 하는 데 비해, 석조전은 건물 앞에 정원을 조성하였다. 또한 우리 전통 조경에서는 분수를 찾아볼 수 없는데, 이는 한국인의 자연관에서 비롯된 것이다. 우리 조상들은 물을 높은 곳에서 낮은 곳으로 흐르는 것이 자연의 이치라 여겼기에, 정원에 인공으로 폭포를 만들긴 했지만 물이 억으로 치솟는 분수는 만들지 않았던 것이다.\\n\\n!Image of a fountain in front of Seokjojeon\\n\\n# 덕수궁 미술관\\n\\n덕수궁 미술관 圖書館\\n\\n광명문 光明門\\n\\n석조전 石造殿\\n\\n!Illustration of Deoksugung Palace\\n\\n# 석조전을 시공한 오쿠라 토목회사'),\n",
       " Document(metadata={}, page_content='# 석조전을 시공한 오쿠라 토목회사\\n\\n석조전은 처음에 대한제국의 재정고문이었던 영국인 브라운(J. M. Brown)이 발의하여 짓기 시작했으며 설계도 영국인 하딩(G. R. Harding) 등이 하였다. 그러다가 1905년에 일본인 메가타 대체제국의 재정고문이 되면서 일본의 오쿠라 토목회사가 시공을 맡게 된다. 오쿠라 토목회사는 아시아 여러 나라에 수많은 건축 화재를 일본으로 빼돌린 기업으로도 유명하다. 실제로 1917년 경복궁 자선당을 해체해 일본으로 빼돌려 오쿠라의 개인 저택에 ‘아고 조선관’이라는 이름의 사설박물관으로 사용했다. 석조전은 1923년 관동 대지진으로 불타 버려 초석만 남아 있다가 1995년 한국으로 돌아왔다.\\n\\n!Image of a historical artifact\\n\\n11'),\n",
       " Document(metadata={}, page_content='# 7 권내각사 터와 환구단\\n關內各司址 · 圜丘壇\\n\\n----\\n\\n## 환구단, 황제국 선포를 하늘에 고하다'),\n",
       " Document(metadata={}, page_content='현재의 덕수궁 동쪽 담장 안쪽과 담장 너머 서울광장 일부는 궁궐 안 관청들이 있던 권내각사 일원이었다. 경운궁으로 정궁을 이전하면서 군사권을 관장하던 원수부와 황실의 업무를 보던 궁내부를 비롯해 기양원, 태의원, 전화국 등 여러 관청이 권내에 위치하게 되었다. 후에 태평로 개설로 인해 절반 이상의 건각이 사라졌고, 나머지 건각 역시 1933년 공원으로 조성되는 과정에서 철거되었다. 환구단은 현 서울광장 너머에 있었던 남별궁 터(현 조선호텔 자리)에 건축되었다. 남별궁은 본디 태종의 둘째 공주인 경정공주가 거주했던 곳으로 1583년(선조 16년)에 의안군이 거주하면서 남별궁이라 불렸다. 이후 인조 때 중국 사신을 접대하던 태평관이 철폐되자 중국 사신의 거처로 사용되다가, 1897년 고종이 황제에 오름을 하늘에 고하기 위한 환구단이 이곳에 건축되었다. 이후 1914년 조선철도호텔 건설 때 파괴되었으나 신위를 모셨던 황궁우와 돌북(石鼓)이 남아 대한제국의 흔적을 보여주고 있다. 환구단은'),\n",
       " Document(metadata={}, page_content='신위를 모셨던 황궁우와 돌북(石鼓)이 남아 대한제국의 흔적을 보여주고 있다. 환구단은 사적 제157호로 지정되었다.'),\n",
       " Document(metadata={}, page_content='!Diagram of the area\\n\\n- 서울시청 首爾市廳\\n- 서울광장 首爾廣場\\n- 황궁우 皇穹宇\\n- 서울프라자호텔 首爾廣場酒店\\n- 권내각사 터\\n\\n----\\n\\n### 환구단의 규모\\n\\n환구단은 돌을 쌓아올린 3층의 거대한 원형 제단이었으며, 신위를 모신 부속 건물 황궁우를 비롯하여 그 일대가 사방의 성역을 갖추었다. 1층이 지름이 140m에 임한 구면으로서 1000명 넘의 숙련된 일꾼이 겨우 한 달 동안 쉼 새 없이 일해서 완성하였다. 환구단은 1914년 조선철도호텔 건설 때 파괴되었으나, 신위의 위패를 모신 황궁우와 돌북(石鼓)이 남아 대한제국의 흔적을 보여 준다.\\n\\n12'),\n",
       " Document(metadata={}, page_content='8 선원전 터  \\n璿源殿址\\n\\n# 대한제국 영욕의 현장\\n\\n1897년 대한제국의 으뜸 궁궐이 된 경운궁은 예원학교와 덕수초등학교, 옛 경기여고 터를 포함하는 넓은 영역이었으나 1919년 고종황제가 세상을 떠난 후 궁역이 해체되면서 오늘의 덕수궁 영역으로 축소되었다. 현재의 석조전 뒤편에는 돈덕전(惇德殿)이 있었다. 서양 건축양식으로 지어진 돈덕전은 1907년 순종이 즉위한 곳이지만, 1922년 궁역 해체와 동시에 미국대사관과 덕수궁 사이에 도로가 개설되면서 철거되었다. 미국대사관저 서쪽에 위치한 중명전 일원에는 환벽정과 만희당 등이 있었으나 경술국치와 함께 해체되기 시작하여 현 예원학교 터의 토지 소유권은 미국감리교선교부, 이화학당에 넘어갔다.'),\n",
       " Document(metadata={}, page_content='1900년에 완성된 선원전전에는 숙종을 비롯한 7위의 어진(御眞, 임금의 초상화)을 모신 황실의 격을 갖추었으며, 빈전(殯殿)과 혼전(魂殿)도 설치했다. 선원전 일대는 대한제국을 상징하는 신성한 공간이었으나, 1919년 고종황제 승하 후 1년제가 끝나자마자 일제는 어진들을 돌볼 사람이 없다는 이유로 선원전을 혈의 순종이 있는 창덕궁으로 옮겼고, 그 부지는 조선은행, 식산은행, 경성일보사 등에 매각했다. 이후 해인사와 불교중앙포교소와 경성여자공립보통학교(현 덕수초등학교 터), 경기여고터가 차례로 건축되면서 이 일대는 완전히 해체되었다. 현재는 경기여고 터의 선원전 복원을 비롯한 덕수궁 장기 복원계획이 수립되어 추진 중이다.\\n\\n!영친왕의 선원전 참배\\n\\n13'),\n",
       " Document(metadata={}, page_content=\"영성문 대궐\\n\\n1900년 10월 14일에 궁궐 동쪽의 포덕문 안에 위치했던 선원전의 후지가 발생해 건물은 물론 연잇까지 모두 불타고 말았다. 고종은 영양을 고려 추정 중건하도록 명령을 내리고, 그 결과 복사적인 영성문(永成門) 안으로 옮겨지면서 선원전은 '영성문 대궐'로도 불렸다.\\n\\n선원전도(璿源殿圖)\\n\\n!선원전도\\n\\n구세군교회 救世軍敎會  \\n홍국생명 興國生命  \\n조선일보사 朝鮮日報社  \\n\\n1910년 당시의 궁역\\n\\n빈전과 혼전\"),\n",
       " Document(metadata={}, page_content='1910년 당시의 궁역\\n\\n빈전과 혼전\\n\\n빈전은 장례를 치를 때까지 임금 또는 왕비의 관을 모셔 두는 전각을 일컫는다. 1896년 9월 4일 명성황후의 원래파 시설을 경복궁의 태원전(泰元殿)에서 건춘궁의 경소전(景昭殿)으로 옮겼는데, 태원전과 경소전이 빈전이다. 혼전은 임금이나 왕비의 국상 중 장사를 마치고 종묘에 입향할 때까지 신위를 모셔 두는 곳이다. 명성황후의 혼전인 경효전(景孝殿)은 빈전으로 쓰였던 경소전을 중수하여 사용하였다. 영성문 대궐에 있는 건물들은 빈전과 혼전으로 사용한 것에서 이 권역을 신성한 영역으로 만들고자 했던 고종의 의도를 엿볼 수 있다.\\n\\n14'),\n",
       " Document(metadata={}, page_content='# 9 중명전 일원\\n重明殿\\n\\n## 황제국 건설의 희망과 절망\\n\\n중명전 일대는 경운궁을 확장할 때 가장 먼저 궁궐로 편입된 곳이지만, 경운궁과 중명전 사이에 이미 미국공사관이 자리 잡고 있던 터라 별궁처럼 되었다. 중명전은 러시아 건축가 사바틴이 설계한 2층의 붉은 벽돌 건물로 경운궁에 지어진 최초의 서양식 건물이었다. 처음에는 수옥헌으로 불리며 황실도서관으로 지어졌으나 1904년 대한제국 고종이 임시 기거하면서 연회장이나 외국 사절의 접견소로도 이용되었다. 수옥헌이 중명전으로 불리게 된 것은 1906년 이후로 보여 진다. 이 일대에는 환벽당과 만화당을 비롯한 10여 채의 전각들이 들어서 있었다. 1905년 을사늑약 체결된 곳도 중명전이고, 1907년 헤이그 만국평화회의의 특사 파견이 이루어진 곳도 중명전이다. 이처럼 중명전은 대한제국의 좌절과 국권 수호 의지가 모두 담긴 역사의 현장이다.\\n\\n!Image of 중명전 일원\\n\\n## 중명전에서 공포 분위기 속에 을사늑약 체결'),\n",
       " Document(metadata={}, page_content='!Image of 중명전 일원\\n\\n## 중명전에서 공포 분위기 속에 을사늑약 체결\\n\\n1905년 11월 17일 밤, 일제는 경운궁 안팎에 무장한 일본군을 배치하고 당시 고종이 기거하고 있던 중명전에서 고종과 대신들에게 보호조약에 조인할 것을 강요하였다. 이날 일본공사가 하야시가 이미 일본대사관으로 대사를 불러 협박해 체결을 종용하였으나 오후가 되도록 뜻을 이루지 못하자 경운궁에서 전화회를 열어 강요하였다. 공포 분위기 속에서도 고종과 대신들은 여전히 조인을 거부하였고, 이를 해결하는 세 번에 걸쳐 고종을 협박하였다. 고종이 끝내 거부하자 이토는 찬성하는 대신들(을사오적)만 데리고 조약을 체결하였다. 고종은 서명이나 옥새 날인을 하지 않음으로써 끝까지 이를 승인하지 않았다.\\n\\n15'),\n",
       " Document(metadata={}, page_content=\"I'm unable to provide a description of the image.\")]"
      ]
     },
     "execution_count": 11,
     "metadata": {},
     "output_type": "execute_result"
    }
   ],
   "source": [
    "split_documents"
   ]
  },
  {
   "cell_type": "markdown",
   "id": "c6962b72",
   "metadata": {},
   "source": [
    "### 단계 3: 임베딩(Embedding) 생성"
   ]
  },
  {
   "cell_type": "code",
   "execution_count": 12,
   "id": "f22489b2",
   "metadata": {},
   "outputs": [],
   "source": [
    "embeddings = OpenAIEmbeddings(model=\"text-embedding-3-small\")"
   ]
  },
  {
   "cell_type": "markdown",
   "id": "7a7a8083",
   "metadata": {},
   "source": [
    "### 단계 4: DB 생성(Create DB) 및 저장"
   ]
  },
  {
   "cell_type": "markdown",
   "id": "1b6ecc6b",
   "metadata": {},
   "source": [
    "FAISS를 활용합니다"
   ]
  },
  {
   "cell_type": "code",
   "execution_count": 13,
   "id": "0d161dce",
   "metadata": {},
   "outputs": [],
   "source": [
    "# 벡터스토어에 임베딩과정을 거쳐서 저장\n",
    "vectorstore = FAISS.from_documents(documents=split_documents, embedding=embeddings)"
   ]
  },
  {
   "cell_type": "code",
   "execution_count": 14,
   "id": "5116c4b0",
   "metadata": {},
   "outputs": [
    {
     "name": "stdout",
     "output_type": "stream",
     "text": [
      "# 6 석조전 일원\n",
      "石造殿\n",
      "\n",
      "----\n",
      "\n",
      "## 근대국가의 상징\n",
      "\n",
      "석조전은 고종황제가 침전 겸 편전으로 사용하기 위해 1900년부터 1910년에 걸쳐 지은 서양식 석조건물이다. 경운궁에 서양식 건축물들을 건립한 것은 대한제국 근대화를 위한 정책의 일환이었다. 석조전은 서양의 신고전주의 건축양식으로 지어졌으며, 건물의 앞과 동서 양편에 베란다가 설치된 것이 특징이다. 1층은 시종이 기거하는 방과 부속 시설로, 돌계단을 올라 들어서는 2층은 대접견실과 대기실로, 3층은 황제와 황후가 거처하는 침실과 여러 용도의 방으로 구성되었다. 고종황제 승하 후에 경운궁이 황폐해지는 과정에서 석조전은 일본 회화미술관으로 사용되었다. 1938년에 서측 별관이 들어서 이왕가미술관으로 사용되기도 하였다.\n",
      "==========================================================================================\n",
      "# 석조전을 시공한 오쿠라 토목회사\n",
      "\n",
      "석조전은 처음에 대한제국의 재정고문이었던 영국인 브라운(J. M. Brown)이 발의하여 짓기 시작했으며 설계도 영국인 하딩(G. R. Harding) 등이 하였다. 그러다가 1905년에 일본인 메가타 대체제국의 재정고문이 되면서 일본의 오쿠라 토목회사가 시공을 맡게 된다. 오쿠라 토목회사는 아시아 여러 나라에 수많은 건축 화재를 일본으로 빼돌린 기업으로도 유명하다. 실제로 1917년 경복궁 자선당을 해체해 일본으로 빼돌려 오쿠라의 개인 저택에 ‘아고 조선관’이라는 이름의 사설박물관으로 사용했다. 석조전은 1923년 관동 대지진으로 불타 버려 초석만 남아 있다가 1995년 한국으로 돌아왔다.\n",
      "\n",
      "!Image of a historical artifact\n",
      "\n",
      "11\n",
      "==========================================================================================\n",
      "# 석조전 앞의 분수\n",
      "\n",
      "석조전 앞에 있는 정원과 청동제 분수는 서구형 정원으로 1938년에 조성된 것으로 알려져 있다. 우리의 전통 정원은 건물의 뒤에 배치하여 후원이라 하는 데 비해, 석조전은 건물 앞에 정원을 조성하였다. 또한 우리 전통 조경에서는 분수를 찾아볼 수 없는데, 이는 한국인의 자연관에서 비롯된 것이다. 우리 조상들은 물을 높은 곳에서 낮은 곳으로 흐르는 것이 자연의 이치라 여겼기에, 정원에 인공으로 폭포를 만들긴 했지만 물이 억으로 치솟는 분수는 만들지 않았던 것이다.\n",
      "\n",
      "!Image of a fountain in front of Seokjojeon\n",
      "\n",
      "# 덕수궁 미술관\n",
      "\n",
      "덕수궁 미술관 圖書館\n",
      "\n",
      "광명문 光明門\n",
      "\n",
      "석조전 石造殿\n",
      "\n",
      "!Illustration of Deoksugung Palace\n",
      "\n",
      "# 석조전을 시공한 오쿠라 토목회사\n",
      "==========================================================================================\n",
      "1900년에 완성된 선원전전에는 숙종을 비롯한 7위의 어진(御眞, 임금의 초상화)을 모신 황실의 격을 갖추었으며, 빈전(殯殿)과 혼전(魂殿)도 설치했다. 선원전 일대는 대한제국을 상징하는 신성한 공간이었으나, 1919년 고종황제 승하 후 1년제가 끝나자마자 일제는 어진들을 돌볼 사람이 없다는 이유로 선원전을 혈의 순종이 있는 창덕궁으로 옮겼고, 그 부지는 조선은행, 식산은행, 경성일보사 등에 매각했다. 이후 해인사와 불교중앙포교소와 경성여자공립보통학교(현 덕수초등학교 터), 경기여고터가 차례로 건축되면서 이 일대는 완전히 해체되었다. 현재는 경기여고 터의 선원전 복원을 비롯한 덕수궁 장기 복원계획이 수립되어 추진 중이다.\n",
      "\n",
      "!영친왕의 선원전 참배\n",
      "\n",
      "13\n",
      "==========================================================================================\n"
     ]
    }
   ],
   "source": [
    "# 검색으로 임베딩 결과를 확인\n",
    "for doc in vectorstore.similarity_search(\"석조전\"):\n",
    "    print(doc.page_content)\n",
    "    print(\"===\"*30)"
   ]
  },
  {
   "cell_type": "code",
   "execution_count": 15,
   "id": "77c5f498",
   "metadata": {},
   "outputs": [],
   "source": [
    "# 로컬 Disk 에 저장\n",
    "vectorstore.save_local(folder_path=\"faiss_db\", index_name=\"faiss_index\")"
   ]
  },
  {
   "cell_type": "markdown",
   "id": "44742da7",
   "metadata": {},
   "source": [
    "### 단계 5: 검색기(Retriever) 생성"
   ]
  },
  {
   "cell_type": "code",
   "execution_count": 16,
   "id": "24e775f6",
   "metadata": {},
   "outputs": [],
   "source": [
    "# 문서내용에서 정보를 검색하고 답을 생성\n",
    "retriever = vectorstore.as_retriever()"
   ]
  },
  {
   "cell_type": "code",
   "execution_count": 17,
   "id": "fe83ce44",
   "metadata": {},
   "outputs": [
    {
     "data": {
      "text/plain": [
       "[Document(id='3c126a05-f6d6-4568-b20b-03b7682b696d', metadata={}, page_content='# 6 석조전 일원\\n石造殿\\n\\n----\\n\\n## 근대국가의 상징\\n\\n석조전은 고종황제가 침전 겸 편전으로 사용하기 위해 1900년부터 1910년에 걸쳐 지은 서양식 석조건물이다. 경운궁에 서양식 건축물들을 건립한 것은 대한제국 근대화를 위한 정책의 일환이었다. 석조전은 서양의 신고전주의 건축양식으로 지어졌으며, 건물의 앞과 동서 양편에 베란다가 설치된 것이 특징이다. 1층은 시종이 기거하는 방과 부속 시설로, 돌계단을 올라 들어서는 2층은 대접견실과 대기실로, 3층은 황제와 황후가 거처하는 침실과 여러 용도의 방으로 구성되었다. 고종황제 승하 후에 경운궁이 황폐해지는 과정에서 석조전은 일본 회화미술관으로 사용되었다. 1938년에 서측 별관이 들어서 이왕가미술관으로 사용되기도 하였다.'),\n",
       " Document(id='9c3cdeac-5756-4173-9392-d171ad49c3b5', metadata={}, page_content='# 석조전 앞의 분수\\n\\n석조전 앞에 있는 정원과 청동제 분수는 서구형 정원으로 1938년에 조성된 것으로 알려져 있다. 우리의 전통 정원은 건물의 뒤에 배치하여 후원이라 하는 데 비해, 석조전은 건물 앞에 정원을 조성하였다. 또한 우리 전통 조경에서는 분수를 찾아볼 수 없는데, 이는 한국인의 자연관에서 비롯된 것이다. 우리 조상들은 물을 높은 곳에서 낮은 곳으로 흐르는 것이 자연의 이치라 여겼기에, 정원에 인공으로 폭포를 만들긴 했지만 물이 억으로 치솟는 분수는 만들지 않았던 것이다.\\n\\n!Image of a fountain in front of Seokjojeon\\n\\n# 덕수궁 미술관\\n\\n덕수궁 미술관 圖書館\\n\\n광명문 光明門\\n\\n석조전 石造殿\\n\\n!Illustration of Deoksugung Palace\\n\\n# 석조전을 시공한 오쿠라 토목회사'),\n",
       " Document(id='fc8b4e7e-fdfd-40dd-abd0-7d7007bd9f12', metadata={}, page_content='# 석조전을 시공한 오쿠라 토목회사\\n\\n석조전은 처음에 대한제국의 재정고문이었던 영국인 브라운(J. M. Brown)이 발의하여 짓기 시작했으며 설계도 영국인 하딩(G. R. Harding) 등이 하였다. 그러다가 1905년에 일본인 메가타 대체제국의 재정고문이 되면서 일본의 오쿠라 토목회사가 시공을 맡게 된다. 오쿠라 토목회사는 아시아 여러 나라에 수많은 건축 화재를 일본으로 빼돌린 기업으로도 유명하다. 실제로 1917년 경복궁 자선당을 해체해 일본으로 빼돌려 오쿠라의 개인 저택에 ‘아고 조선관’이라는 이름의 사설박물관으로 사용했다. 석조전은 1923년 관동 대지진으로 불타 버려 초석만 남아 있다가 1995년 한국으로 돌아왔다.\\n\\n!Image of a historical artifact\\n\\n11'),\n",
       " Document(id='7ce56ae6-f9c9-4af5-892f-447292aaf8e7', metadata={}, page_content='# 3 족조당 일원\\n卽祚堂\\n\\n----\\n\\n## 덕수궁의 원(原) 공간\\n\\n족조당 일원은 임진왜란 때 선조가 임시로 거처했던 곳으로 덕수궁의 모태가 된 곳이다. 1897년 고종이 러시아공사관에서 경운궁으로 환어한 뒤 1902년 중화전을 건립하기 전까지 정전으로 사용된 건물이다. 1904년 화재로 족조당이 소실되자 고종은 이를 매우 안타까워했다. 인조 즉위 이후 서가래 하나 바뀌지 않고 소중하게 보존해왔던 까닭이다. 현재 족조당에는 고종의 손끝 손 편액(扁額)이 걸려 있다. 석어당(昔御堂)은 덕수궁에 유일하게 남아 있는 중층 건물로 단청을 하지 않아 소박한 살림집 같다. 인조 즉위 후 경운궁의 전각은 대부분 원래의 주인에게 돌려주었으나, 이 두 건물만은 보존되어 후에 경운궁의 중심이 되었다. 준명당(浚明堂)은 황제가 업무를 보던 편전이며, 족조당과 복도로 연결되었다. 현재의 세 건물은 1904년에 소실된 후 같은 해에 중건된 것이다.\\n\\n!Image of Buildings')]"
      ]
     },
     "execution_count": 17,
     "metadata": {},
     "output_type": "execute_result"
    }
   ],
   "source": [
    "# 검색기에 쿼리를 날려 검색된 chunk 결과를 확인\n",
    "retriever.invoke(\"석조전에 용도가 뭐야?\")"
   ]
  },
  {
   "cell_type": "markdown",
   "id": "ae276bdf",
   "metadata": {},
   "source": [
    "### 단계 6: 프롬프트 생성(Create Prompt)"
   ]
  },
  {
   "cell_type": "code",
   "execution_count": 18,
   "id": "1b5dd88e",
   "metadata": {},
   "outputs": [],
   "source": [
    "# 프롬프트를 생성\n",
    "prompt = PromptTemplate.from_template(\n",
    "    \"\"\"You are an assistant for question-answering tasks. \n",
    "Use the following pieces of retrieved context to answer the question. \n",
    "If you don't know the answer, just say that you don't know. \n",
    "Answer in Korean.\n",
    "\n",
    "#Context: \n",
    "{context}\n",
    "\n",
    "#Question:\n",
    "{question}\n",
    "\n",
    "#Answer:\"\"\"\n",
    ")"
   ]
  },
  {
   "cell_type": "markdown",
   "id": "71b0dfc4",
   "metadata": {},
   "source": [
    "### 단계 7: 언어모델(LLM) 생성"
   ]
  },
  {
   "cell_type": "code",
   "execution_count": 19,
   "id": "9b2bf90a",
   "metadata": {},
   "outputs": [],
   "source": [
    "\n",
    "# 모델(LLM) 을 생성합니다.\n",
    "llm = ChatOpenAI(model_name=\"gpt-4.1-mini\", temperature=0)"
   ]
  },
  {
   "cell_type": "markdown",
   "id": "a7296149",
   "metadata": {},
   "source": [
    "### 단계 8: 체인(Chain) 생성"
   ]
  },
  {
   "cell_type": "code",
   "execution_count": 20,
   "id": "1a147899",
   "metadata": {},
   "outputs": [],
   "source": [
    "\n",
    "chain = (\n",
    "    {\"context\": retriever, \"question\": RunnablePassthrough()}\n",
    "    | prompt\n",
    "    | llm\n",
    "    | StrOutputParser() # 출력에 page_content내용만 보일 수 있도록\n",
    ")"
   ]
  },
  {
   "cell_type": "code",
   "execution_count": 21,
   "id": "644fb3e9",
   "metadata": {},
   "outputs": [
    {
     "name": "stdout",
     "output_type": "stream",
     "text": [
      "석조전은 고종황제가 침전 겸 편전으로 사용하기 위해 지은 서양식 건물입니다. 1층은 시종이 기거하는 방과 부속 시설, 2층은 대접견실과 대기실, 3층은 황제와 황후가 거처하는 침실과 여러 용도의 방으로 구성되어 있습니다. 즉, 석조전은 황제의 거처이자 공식적인 접견 장소로 사용되었습니다.\n"
     ]
    }
   ],
   "source": [
    "# 체인 실행(Run Chain)\n",
    "# 문서에 대한 질의를 입력하고, 답변을 출력합니다.\n",
    "question = \"석조전의 용도는 무엇인가요?\"\n",
    "response = chain.invoke(question)\n",
    "print(response)"
   ]
  },
  {
   "cell_type": "code",
   "execution_count": 22,
   "id": "f36ed71f",
   "metadata": {},
   "outputs": [
    {
     "name": "stdout",
     "output_type": "stream",
     "text": [
      "덕수궁에 돌로 만든 건물의 이름은 석조전입니다.\n"
     ]
    }
   ],
   "source": [
    "# 체인 실행(Run Chain)\n",
    "# 문서에 대한 질의를 입력하고, 답변을 출력합니다.\n",
    "question = \"덕수궁에 돌로만든 건물의 이름은 뭐지?\"\n",
    "response = chain.invoke(question)\n",
    "print(response)"
   ]
  },
  {
   "cell_type": "markdown",
   "id": "4047e974",
   "metadata": {},
   "source": [
    "## FAISS"
   ]
  },
  {
   "cell_type": "code",
   "execution_count": 23,
   "id": "3ca44083",
   "metadata": {},
   "outputs": [],
   "source": [
    "# 저장된 데이터를 로드\n",
    "db = FAISS.load_local(\n",
    "    folder_path=\"faiss_db\",\n",
    "    index_name=\"faiss_index\",\n",
    "    embeddings=embeddings,\n",
    "    allow_dangerous_deserialization=True,\n",
    ")"
   ]
  },
  {
   "cell_type": "code",
   "execution_count": 24,
   "id": "36b62e27",
   "metadata": {},
   "outputs": [
    {
     "data": {
      "text/plain": [
       "{0: '4a476652-4267-45ce-b7f4-ffa22634a2fc',\n",
       " 1: '3ad2aa8f-8565-456d-9229-ebcd8f6d0a32',\n",
       " 2: '6c139653-026c-4514-aa30-21a186ccc042',\n",
       " 3: '125ed819-5b33-4685-8df9-0d2f99ad1cf0',\n",
       " 4: '775031b2-7a51-4881-8f41-dcda465d5350',\n",
       " 5: 'eeef7646-8e15-44a1-9015-251654f355b1',\n",
       " 6: 'a352a794-83f5-41cf-a64d-567a8ffa821a',\n",
       " 7: '3992fa66-4b81-488f-ac1d-a11256d49a7d',\n",
       " 8: 'f7f2f3fd-24a4-4295-82b4-bc9b979938cb',\n",
       " 9: '0426f607-5241-4a62-abb6-923cef454e23',\n",
       " 10: 'a05107bf-38c5-4297-a6df-71e8eb17b9f6',\n",
       " 11: '831de023-6ac3-4435-a63e-dbf448c73c81',\n",
       " 12: 'c21b105d-46f1-404d-a44c-029f149cd948',\n",
       " 13: '8e617aae-2874-47ca-aadf-4b52699f09ae',\n",
       " 14: '03c84490-6fc8-488c-ac04-0a565fed985f',\n",
       " 15: 'eb7d35aa-72af-4149-8cd8-94f955b3214a',\n",
       " 16: '7ce56ae6-f9c9-4af5-892f-447292aaf8e7',\n",
       " 17: '4f765aac-2694-4bf1-a0fa-ba0770631830',\n",
       " 18: 'fe005cd2-73bd-4d20-b557-902ba9f3aa33',\n",
       " 19: 'fb460b2d-d75f-4232-8e56-00fc5aa0f6b6',\n",
       " 20: 'f1d0292b-a4d7-4e7e-a826-3016e27a164f',\n",
       " 21: '9d5a7297-4f99-4201-a891-2b6d4d48cafa',\n",
       " 22: 'add56cc9-03ef-4936-9aa9-159220ca70fb',\n",
       " 23: '3c126a05-f6d6-4568-b20b-03b7682b696d',\n",
       " 24: '9c3cdeac-5756-4173-9392-d171ad49c3b5',\n",
       " 25: 'fc8b4e7e-fdfd-40dd-abd0-7d7007bd9f12',\n",
       " 26: 'f1fa4fd1-e64d-4dea-903e-a5bf9e619e07',\n",
       " 27: '96e8ac6c-fc18-4153-9140-a4b14a5db0fa',\n",
       " 28: 'a8b13225-62dc-48f1-94f5-4961806a5c1c',\n",
       " 29: '6b4afae4-1eb7-4e8d-a77b-abcd31423328',\n",
       " 30: 'ce5c603d-2abc-4451-8a29-2e0118271986',\n",
       " 31: '48097d6c-fa9b-4005-877b-88b64f8e5c7f',\n",
       " 32: 'd46e0c4e-dadb-45cd-b9b5-7693cfe85d48',\n",
       " 33: '59af98bf-d142-4b15-8cc0-18b922018d9e',\n",
       " 34: 'f813c889-9a32-427b-83c1-7e01562b07dd',\n",
       " 35: 'bc85196c-8cac-4898-835c-e71abbc76afe',\n",
       " 36: 'a2698f82-f3cc-4158-b01d-a0d02def36b8'}"
      ]
     },
     "execution_count": 24,
     "metadata": {},
     "output_type": "execute_result"
    }
   ],
   "source": [
    "# db 의 데이터 확인\n",
    "db.index_to_docstore_id"
   ]
  },
  {
   "cell_type": "markdown",
   "id": "a60df0e7",
   "metadata": {},
   "source": [
    "## markdown파일을 변형해서 검색성능 비교"
   ]
  },
  {
   "cell_type": "markdown",
   "id": "86f1a224",
   "metadata": {},
   "source": [
    "1. PDF 문서를 로드해서 markdown으로 저장합니다  \n",
    "2. 저장된 makedown문서를 \\n\\n\\n으로 구분되도록 편집합니다  \n",
    "3. 편집하지 않고 임베딩을 해서 벡터스토어에 저장한 것과 편집해서 임베딩한 문서의 검색성능을 비교합니다  \n",
    "\n",
    "md파일경로 : C:\\Users\\yujap\\github\\langchain-kr\\88_myproject\\data\\deoksugung.md"
   ]
  },
  {
   "cell_type": "code",
   "execution_count": null,
   "id": "bbb9634a",
   "metadata": {},
   "outputs": [
    {
     "name": "stdout",
     "output_type": "stream",
     "text": [
      "🔄 './data/deoksugung.pdf' 파일 파싱을 시작합니다...\n",
      "Started parsing the file under job_id e3c7ee3f-d6cc-4178-bd69-508a6fe74a6e\n",
      "✅ 파일 저장 완료: ./data/deoksugung.md\n"
     ]
    }
   ],
   "source": [
    "# 문서를 로드하고 markdown 파일로 저장\n",
    "import os\n",
    "from llama_parse import LlamaParse\n",
    "# 동기화 오류때문에 추가\n",
    "import nest_asyncio\n",
    "\n",
    "nest_asyncio.apply()\n",
    "\n",
    "documents = LlamaParse(result_type=\"markdown\")\n",
    "\n",
    "\n",
    "def pdf_parser(pdf_file_path: str):\n",
    "    \"\"\"\n",
    "    PDF 파일을 파싱하여 그 내용을 Markdown 파일로 저장합니다.\n",
    "\n",
    "    Args:\n",
    "        pdf_file_path (str): 처리할 PDF 파일의 경로.\n",
    "    \"\"\"\n",
    "    print(f\"🔄 '{pdf_file_path}' 파일 파싱을 시작합니다...\")\n",
    "\n",
    "    try:\n",
    "        # parsing instruction 을 지정합니다.\n",
    "        parsing_instruction = (\n",
    "            \"You are parsing a AI Report. Please extract tables in markdown format.\"\n",
    "        )\n",
    "\n",
    "        # LlamaParse 설정\n",
    "        parser = LlamaParse(\n",
    "            use_vendor_multimodal_model=True,\n",
    "            vendor_multimodal_model_name=\"openai-gpt4o\", # 모델설정\n",
    "            vendor_multimodal_api_key=os.environ[\"OPENAI_API_KEY\"],\n",
    "            result_type=\"markdown\", # 결과 출력 형식\n",
    "            # high_res_ocr=True,\n",
    "            parsing_mode=\"Unstructured\",\n",
    "            language=\"ko\", # 언어\n",
    "            parsing_instruction=parsing_instruction, \n",
    "        )\n",
    "\n",
    "        # 1. LlamaParse를 사용하여 PDF 파일을 로드합니다.\n",
    "        # 'documents' 객체는 이 함수 외부에서 미리 정의되어 있어야 합니다.\n",
    "        parsed_docs = documents.load_data(file_path=pdf_file_path)\n",
    "\n",
    "        # 2. LangChain 형식의 도큐먼트로 변환합니다.\n",
    "        docs = [doc.to_langchain_format() for doc in parsed_docs]\n",
    "\n",
    "        # 3. 저장할 Markdown 파일의 경로를 생성합니다. (확장자 변경)\n",
    "        file_root, _ = os.path.splitext(pdf_file_path)\n",
    "        output_file_path = file_root + \".md\"\n",
    "\n",
    "        # 4. 모든 페이지의 내용을 하나의 텍스트로 합칩니다.\n",
    "        #    페이지 사이는 두 줄로 띄어 가독성을 높입니다.\n",
    "        full_text = \"\\n\\n\".join([doc.page_content for doc in docs])\n",
    "\n",
    "        # 5. 추출된 전체 텍스트를 .md 파일로 저장합니다.\n",
    "        with open(output_file_path, \"w\", encoding=\"utf-8\") as f:\n",
    "            f.write(full_text)\n",
    "\n",
    "        print(f\"✅ 파일 저장 완료: {output_file_path}\")\n",
    "\n",
    "    except FileNotFoundError:\n",
    "        print(f\"❌ 오류: 파일을 찾을 수 없습니다 - {pdf_file_path}\")\n",
    "    except Exception as e:\n",
    "        print(f\"❌ 오류 발생: {e}\")\n",
    "\n",
    "\n",
    "# --- 함수 사용 예시 ---\n",
    "# 이 코드를 실행하기 전에 'documents' 파서 객체를 초기화해야 합니다.\n",
    "# file_to_parse = \"data/디지털정부혁신추진계획.pdf\"\n",
    "file_to_parse = \"./data/deoksugung.pdf\"\n",
    "pdf_parser(file_to_parse)"
   ]
  },
  {
   "cell_type": "code",
   "execution_count": 78,
   "id": "aa860643",
   "metadata": {},
   "outputs": [],
   "source": [
    "from IPython.display import display, Markdown\n",
    "from langchain.schema import Document\n",
    "\n",
    "def display_md_file_in_notebook(file_path):\n",
    "    \"\"\"\n",
    "    MD 파일을 읽어와 Jupyter Notebook에 마크다운 형식으로 표시합니다.\n",
    "    \"\"\"\n",
    "    try:\n",
    "        with open(file_path, 'r', encoding='utf-8') as f:\n",
    "            md_content = f.read()\n",
    "            # display(Markdown(md_content))\n",
    "        return md_content\n",
    "    except FileNotFoundError:\n",
    "        print(f\"오류: '{file_path}' 파일을 찾을 수 없습니다.\")\n",
    "    except Exception as e:\n",
    "        print(f\"파일을 읽는 중 오류가 발생했습니다: {e}\")\n",
    "        return []\n",
    "\n",
    "# 사용 예시\n",
    "# './data/deoksugung.md' 파일을 로드하여 표시합니다.\n",
    "file_to_display = './data/deoksugung.md'\n",
    "markdown_text = display_md_file_in_notebook(file_to_display)"
   ]
  },
  {
   "cell_type": "code",
   "execution_count": 79,
   "id": "ebc4d822",
   "metadata": {},
   "outputs": [],
   "source": [
    "def print_doc_contecnt(docs):\n",
    "    for i,con in enumerate(docs):\n",
    "        print(f\"{i+1}번째 문서\")\n",
    "        print(f\"내용:\\n{con.page_content}\")\n",
    "        print(\"---\" * 30)"
   ]
  },
  {
   "cell_type": "code",
   "execution_count": 80,
   "id": "edabd77a",
   "metadata": {},
   "outputs": [],
   "source": [
    "markdown_textdocs = [Document(page_content=markdown_text, metadata={\"source\": file_to_display})]"
   ]
  },
  {
   "cell_type": "code",
   "execution_count": null,
   "id": "3a6d7d45",
   "metadata": {},
   "outputs": [],
   "source": [
    "markdown_textdocs"
   ]
  },
  {
   "cell_type": "code",
   "execution_count": 86,
   "id": "d54c3bdb",
   "metadata": {},
   "outputs": [
    {
     "name": "stdout",
     "output_type": "stream",
     "text": [
      "분할된 청크의수: 28\n"
     ]
    }
   ],
   "source": [
    "text_splitter = RecursiveCharacterTextSplitter(\n",
    "    separators=[\"\\n \\n \\n\",\"\\n\\n\",\" \"],\n",
    "    chunk_size=600, \n",
    "    chunk_overlap=50,\n",
    "    )\n",
    "split_documents = text_splitter.split_documents(markdown_textdocs)\n",
    "print(f\"분할된 청크의수: {len(split_documents)}\")"
   ]
  },
  {
   "cell_type": "code",
   "execution_count": 87,
   "id": "5149254a",
   "metadata": {},
   "outputs": [
    {
     "data": {
      "text/plain": [
       "'# 관람정보\\n100-120 서울시 중구 세종대로 99 / deoksugung.go.kr / 02-771-9952\\n  \\n  \\n  \\n## 관람시간\\n09:00~21:00  \\n※ 매일 1시간 전까지 입장해야 하며 매주 월요일은 쉽니다\\n  \\n  \\n  \\n## 입장요금\\n- 어른(19~64세) 1,000원(10인 이상 800원)\\n  \\n  \\n  \\n## 무료 안내 시간\\n\\n### 국어\\n- 화~금요일: 10:00, 11:00, 14:00, 15:00, 16:00\\n- 토요일: 10:00, 11:00, 14:00, 15:00, 16:30\\n- 일요일: 10:00, 11:00, 14:00, 15:00, 16:30\\n\\n### 영어\\n- 화, 수, 금요일: 10:30\\n- 토, 일요일: 13:40\\n\\n### 일어\\n- 화, 수, 금요일: 10:30\\n- 화, 수, 금요일: 14:30\\n- 토요일: 10:30, 14:30\\n- 일요일: 10:30\\n\\n### 중국어\\n- 화, 수, 금요일: 13:40\\n- 토요일: 13:40\\n- 일요일: 13:40'"
      ]
     },
     "execution_count": 87,
     "metadata": {},
     "output_type": "execute_result"
    }
   ],
   "source": [
    "split_documents[0].page_content\n",
    "#split_documents"
   ]
  },
  {
   "cell_type": "code",
   "execution_count": 88,
   "id": "5e517a35",
   "metadata": {},
   "outputs": [],
   "source": [
    "# 단계 3: 임베딩(Embedding) 생성\n",
    "# 단계 4: DB 생성(Create DB) 및 저장\n",
    "embeddings = OpenAIEmbeddings()\n",
    "vectorstore = FAISS.from_documents(documents=split_documents, embedding=embeddings)"
   ]
  },
  {
   "cell_type": "code",
   "execution_count": 89,
   "id": "5c1ac406",
   "metadata": {},
   "outputs": [],
   "source": [
    "# 로컬 Disk 에 저장\n",
    "vectorstore.save_local(folder_path=\"faiss_db2\", index_name=\"faiss_index\")"
   ]
  },
  {
   "cell_type": "code",
   "execution_count": 90,
   "id": "06f5ece6",
   "metadata": {},
   "outputs": [
    {
     "name": "stdout",
     "output_type": "stream",
     "text": [
      "석어당은 선조의 계비인 인목왕후 김씨가 10여 년간 감금생활을 했던 곳이다. 광해군은 왕위에 오른 후 자신의 왕위를 위협할 가능성이 있는 형제들을 차례로 제거하고 인목대비를 폐위시켜 경운궁에 유폐했다. 이때 경운궁은 서궁(西宮)으로 불렸다. 서궁 유폐는 결국 반정을 일으키는 구실이 되었다. 반정이 성공한 능양군(인조)은 경운궁으로 입궐해를 찾아 정통성을 인정받고 여기서 즉위했다. 유폐의 한이 맺혀 있던 인목대비는 석어당 앞마당에 광해군을 끌어내리고 36조의 죄를 물은 후 능운궁에서 묘사를 전하였다.\n",
      "  \n",
      "  \n",
      "  \n",
      "4 함녕전과 덕홍전\n",
      "\n",
      "# 함녕전과 덕홍전\n",
      "### 咸寧殿 · 德弘殿\n",
      "\n",
      "### 황제의 침전과 접견실\n",
      "==========================================================================================\n",
      "1897년에는 고종의 침전과 정부 각 부처를 연결하는 전화가 설치되었다. 함녕전의 대청마루에 전화기가 설치되자, 고종은 필요할 때마다 전화기로 대신들에게 지시를 내렸다. 이 전화를 '대청 전화'라고 했는데 대전쟁적 덕분에 김구가 사형 직전에 목숨을 건진 일화가 '백범일지'에 실려 있다. 고종이 김구의 사형집행 서류를 검토 중 함경령 직전에 전화로 사형집행정지 명령을 내려 목숨을 구했다는 것이다.\n",
      "\n",
      "!Image of 함녕전\n",
      "  \n",
      "  \n",
      "  \n",
      "5 정관헌 靜觀軒\n",
      "\n",
      "# 전통 건축과 서양 건축의 조화\n",
      "==========================================================================================\n",
      "!Image of 중명전 일원\n",
      "  \n",
      "## 중명전에서 공포 분위기 속에 을사늑약 체결\n",
      "\n",
      "1905년 11월 17일 밤, 일제는 경운궁 안팎에 무장한 일본군을 배치하고 당시 고종이 기거하고 있던 중명전에서 고종과 대신들에게 보호조약에 조인할 것을 강요하였다. 이날 일본공사가 하야시가 이미 일본대사관으로 대사를 불러 협박해 체결을 종용하였으나 오후가 되도록 뜻을 이루지 못하자 경운궁에서 전화회를 열어 강요하였다. 공포 분위기 속에서도 고종과 대신들은 여전히 조인을 거부하였고, 이를 해결하는 세 번에 걸쳐 고종을 협박하였다. 고종이 끝내 거부하자 이토는 찬성하는 대신들(을사오적)만 데리고 조약을 체결하였다. 고종은 서명이나 옥새 날인을 하지 않음으로써 끝까지 이를 승인하지 않았다.\n",
      "==========================================================================================\n",
      "경운궁은 1897년 대한제국 출범과 함께 한국 근대사의 전면에 등장했다. 전성기 때의 경운궁은 현재 남아 있는 3배에 달하는 큰 궁궐이었다. 현재의 미국대사관 건너편 저쪽에는 중명전을 비롯해 황실 생활을 위한 전각들이 있었고, 북쪽에는 역대 임금들을 제사 지내는 선원전 일원이 있었으며, 동쪽에는 하늘에 제사 지내는 원구단은 실질하여 황제국의 위세를 과시했다. 그러나 고종황제가 황해에 물러나면서 경운궁은 선원제가 거처하는 궁으로 그 위상이 달라졌고 이름도 덕수궁으로 바뀌었다. 이후 칸나자 일부와 환구단이 철거되었고 이 지역은 대한제국의 상징 공간으로서의 위상을 잃게 되었다.\n",
      "\n",
      "고종이 승하한 뒤 1920년부터 일제가 선원전과 중명전 일대를 매각하여 궁역이 크게 줄어들었으며, 1933년에는 많은 건물들을 철거하고 공원으로 조성하여 일부에 공개했다. 이처럼 덕수궁은 일제강점기를 거치면서 원형을 거의 찾아볼 수 없을 정도로 훼손되었으나, 임진왜란과 대한제국기의 역사를 겪은 궁궐로 국난 극복의 상징적 공간이자 그 중심이었다.\n",
      "\n",
      "!덕수궁\n",
      "\n",
      "주변의 높은 빌딩으로 둘러싸인 덕수궁\n",
      "  \n",
      "  \n",
      "  \n",
      "# 1 대한문 일원\n",
      "大漢門\n",
      "\n",
      "**대한제국, 근대 세계를 향해 문을 열다**\n",
      "==========================================================================================\n"
     ]
    }
   ],
   "source": [
    "for doc in vectorstore.similarity_search(\"인목왕후\"):\n",
    "    print(doc.page_content)\n",
    "    print(\"===\"*30)"
   ]
  },
  {
   "cell_type": "code",
   "execution_count": 91,
   "id": "eafff37f",
   "metadata": {},
   "outputs": [
    {
     "name": "stdout",
     "output_type": "stream",
     "text": [
      "1번째 문서\n",
      "내용:\n",
      "석어당은 선조의 계비인 인목왕후 김씨가 10여 년간 감금생활을 했던 곳이다. 광해군은 왕위에 오른 후 자신의 왕위를 위협할 가능성이 있는 형제들을 차례로 제거하고 인목대비를 폐위시켜 경운궁에 유폐했다. 이때 경운궁은 서궁(西宮)으로 불렸다. 서궁 유폐는 결국 반정을 일으키는 구실이 되었다. 반정이 성공한 능양군(인조)은 경운궁으로 입궐해를 찾아 정통성을 인정받고 여기서 즉위했다. 유폐의 한이 맺혀 있던 인목대비는 석어당 앞마당에 광해군을 끌어내리고 36조의 죄를 물은 후 능운궁에서 묘사를 전하였다.\n",
      "  \n",
      "  \n",
      "  \n",
      "4 함녕전과 덕홍전\n",
      "\n",
      "# 함녕전과 덕홍전\n",
      "### 咸寧殿 · 德弘殿\n",
      "\n",
      "### 황제의 침전과 접견실\n",
      "------------------------------------------------------------------------------------------\n",
      "2번째 문서\n",
      "내용:\n",
      "## 환구단, 황제국 선포를 하늘에 고하다\n",
      "\n",
      "현재의 덕수궁 동쪽 담장 안쪽과 담장 너머 서울광장 일부는 궁궐 안 관청들이 있던 권내각사 일원이었다. 경운궁으로 정궁을 이전하면서 군사권을 관장하던 원수부와 황실의 업무를 보던 궁내부를 비롯해 기양원, 태의원, 전화국 등 여러 관청이 권내에 위치하게 되었다. 후에 태평로 개설로 인해 절반 이상의 건각이 사라졌고, 나머지 건각 역시 1933년 공원으로 조성되는 과정에서 철거되었다. 환구단은 현 서울광장 너머에 있었던 남별궁 터(현 조선호텔 자리)에 건축되었다. 남별궁은 본디 태종의 둘째 공주인 경정공주가 거주했던 곳으로 1583년(선조 16년)에 의안군이 거주하면서 남별궁이라 불렸다. 이후 인조 때 중국 사신을 접대하던 태평관이 철폐되자 중국 사신의 거처로 사용되다가, 1897년 고종이 황제에 오름을 하늘에 고하기 위한 환구단이 이곳에 건축되었다. 이후 1914년 조선철도호텔 건설 때 파괴되었으나 신위를 모셨던 황궁우와 돌북(石鼓)이 남아 대한제국의 흔적을 보여주고 있다. 환구단은 사적 제157호로 지정되었다.\n",
      "\n",
      "!Diagram of the area\n",
      "------------------------------------------------------------------------------------------\n",
      "3번째 문서\n",
      "내용:\n",
      "1900년에 완성된 선원전전에는 숙종을 비롯한 7위의 어진(御眞, 임금의 초상화)을 모신 황실의 격을 갖추었으며, 빈전(殯殿)과 혼전(魂殿)도 설치했다. 선원전 일대는 대한제국을 상징하는 신성한 공간이었으나, 1919년 고종황제 승하 후 1년제가 끝나자마자 일제는 어진들을 돌볼 사람이 없다는 이유로 선원전을 혈의 순종이 있는 창덕궁으로 옮겼고, 그 부지는 조선은행, 식산은행, 경성일보사 등에 매각했다. 이후 해인사와 불교중앙포교소와 경성여자공립보통학교(현 덕수초등학교 터), 경기여고터가 차례로 건축되면서 이 일대는 완전히 해체되었다. 현재는 경기여고 터의 선원전 복원을 비롯한 덕수궁 장기 복원계획이 수립되어 추진 중이다.\n",
      "\n",
      "!영친왕의 선원전 참배\n",
      "  \n",
      "  \n",
      "  \n",
      "영성문 대궐\n",
      "\n",
      "1900년 10월 14일에 궁궐 동쪽의 포덕문 안에 위치했던 선원전의 후지가 발생해 건물은 물론 연잇까지 모두 불타고 말았다. 고종은 영양을 고려 추정 중건하도록 명령을 내리고, 그 결과 복사적인 영성문(永成門) 안으로 옮겨지면서 선원전은 '영성문 대궐'로도 불렸다.  \n",
      "  \n",
      "  \n",
      "  \n",
      "선원전도(璿源殿圖)\n",
      "------------------------------------------------------------------------------------------\n",
      "4번째 문서\n",
      "내용:\n",
      "경운궁은 1897년 대한제국 출범과 함께 한국 근대사의 전면에 등장했다. 전성기 때의 경운궁은 현재 남아 있는 3배에 달하는 큰 궁궐이었다. 현재의 미국대사관 건너편 저쪽에는 중명전을 비롯해 황실 생활을 위한 전각들이 있었고, 북쪽에는 역대 임금들을 제사 지내는 선원전 일원이 있었으며, 동쪽에는 하늘에 제사 지내는 원구단은 실질하여 황제국의 위세를 과시했다. 그러나 고종황제가 황해에 물러나면서 경운궁은 선원제가 거처하는 궁으로 그 위상이 달라졌고 이름도 덕수궁으로 바뀌었다. 이후 칸나자 일부와 환구단이 철거되었고 이 지역은 대한제국의 상징 공간으로서의 위상을 잃게 되었다.\n",
      "\n",
      "고종이 승하한 뒤 1920년부터 일제가 선원전과 중명전 일대를 매각하여 궁역이 크게 줄어들었으며, 1933년에는 많은 건물들을 철거하고 공원으로 조성하여 일부에 공개했다. 이처럼 덕수궁은 일제강점기를 거치면서 원형을 거의 찾아볼 수 없을 정도로 훼손되었으나, 임진왜란과 대한제국기의 역사를 겪은 궁궐로 국난 극복의 상징적 공간이자 그 중심이었다.\n",
      "\n",
      "!덕수궁\n",
      "\n",
      "주변의 높은 빌딩으로 둘러싸인 덕수궁\n",
      "  \n",
      "  \n",
      "  \n",
      "# 1 대한문 일원\n",
      "大漢門\n",
      "\n",
      "**대한제국, 근대 세계를 향해 문을 열다**\n",
      "------------------------------------------------------------------------------------------\n"
     ]
    }
   ],
   "source": [
    "retriever = vectorstore.as_retriever()\n",
    "query = \"인목왕후가 감금되어 있었던 곳인 어디인가?\"\n",
    "\n",
    "# 리트리버를 사용하여 검색\n",
    "retrieved_docs = retriever.invoke(query)\n",
    "print_doc_contecnt(retrieved_docs)"
   ]
  },
  {
   "cell_type": "code",
   "execution_count": 40,
   "id": "2cd9da5d",
   "metadata": {},
   "outputs": [
    {
     "name": "stdout",
     "output_type": "stream",
     "text": [
      "1번째 문서\n",
      "내용:\n",
      "## 근대국가의 상징\n",
      "\n",
      "석조전은 고종황제가 침전 겸 편전으로 사용하기 위해 1900년부터 1910년에 걸쳐 지은 서양식 석조건물이다. 경운궁에 서양식 건축물들을 건립한 것은 대한제국 근대화를 위한 정책의 일환이었다. 석조전은 서양의 신고전주의 건축양식으로 지어졌으며, 건물의 앞과 동서 양편에 베란다가 설치된 것이 특징이다. 1층은 시종이 기거하는 방과 부속 시설로, 돌계단을 올라 들어서는 2층은 대접견실과 대기실로, 3층은 황제와 황후가 거처하는 침실과 여러 용도의 방으로 구성되었다. 고종황제 승하 후에 경운궁이 황폐해지는 과정에서 석조전은 일본 회화미술관으로 사용되었다. 1938년에 서측 별관이 들어서 이왕가미술관으로 사용되기도 하였다.\n",
      "  \n",
      "  \n",
      "  \n",
      "# 석조전 앞의 분수\n",
      "------------------------------------------------------------------------------------------\n",
      "2번째 문서\n",
      "내용:\n",
      "# 전통 건축과 서양 건축의 조화\n",
      "\n",
      "정관헌(靜觀軒)은 그 이름처럼 궁궐 후원의 언덕 위에서 ‘조용히 궁궐을 내려다보는’ 휴식용 건물이다. 위치도 함녕전 뒤에 자리 잡고 있어, 전통 궁궐에서 후원의 정자 기능을 대신하는 건물이라 할 수 있다. 1900년경 러시아 건축가 사바틴(A. I. Sabatin)이 한식과 양식을 절충해 설계한 건축물이다. 기단 위에 로마네스크 양식의 인조석 기둥을 둘러서 내부 공간을 만들었고, 바깥에는 동·남·서 세 방향에 기둥을 세운 베란다가 둘러져 있다. 흥미로운 것은 석재를 기본으로 하는 서양식 기둥이 나무로 만들어졌다는 점과, 기둥 상부에 청룡과 황룡, 박쥐, 꽃병 등 한국 전통 문양이 새겨져 있다는 사실이다. 고종황제는 정관헌에서 커피를 마시며 외교 사절들과 연회를 즐겼다고 한다.\n",
      "\n",
      "!정관헌 이미지\n",
      "  \n",
      "  \n",
      "  \n",
      "## 커피와 고종 독살미수 사건\n",
      "------------------------------------------------------------------------------------------\n",
      "3번째 문서\n",
      "내용:\n",
      "1897년 대한제국의 으뜸 궁궐이 된 경운궁은 예원학교와 덕수초등학교, 옛 경기여고 터를 포함하는 넓은 영역이었으나 1919년 고종황제가 세상을 떠난 후 궁역이 해체되면서 오늘의 덕수궁 영역으로 축소되었다. 현재의 석조전 뒤편에는 돈덕전(惇德殿)이 있었다. 서양 건축양식으로 지어진 돈덕전은 1907년 순종이 즉위한 곳이지만, 1922년 궁역 해체와 동시에 미국대사관과 덕수궁 사이에 도로가 개설되면서 철거되었다. 미국대사관저 서쪽에 위치한 중명전 일원에는 환벽정과 만희당 등이 있었으나 경술국치와 함께 해체되기 시작하여 현 예원학교 터의 토지 소유권은 미국감리교선교부, 이화학당에 넘어갔다.\n",
      "------------------------------------------------------------------------------------------\n",
      "4번째 문서\n",
      "내용:\n",
      "1897년에는 고종의 침전과 정부 각 부처를 연결하는 전화가 설치되었다. 함녕전의 대청마루에 전화기가 설치되자, 고종은 필요할 때마다 전화기로 대신들에게 지시를 내렸다. 이 전화를 '대청 전화'라고 했는데 대전쟁적 덕분에 김구가 사형 직전에 목숨을 건진 일화가 '백범일지'에 실려 있다. 고종이 김구의 사형집행 서류를 검토 중 함경령 직전에 전화로 사형집행정지 명령을 내려 목숨을 구했다는 것이다.\n",
      "\n",
      "!Image of 함녕전\n",
      "  \n",
      "  \n",
      "  \n",
      "5 정관헌 靜觀軒\n",
      "\n",
      "# 전통 건축과 서양 건축의 조화\n",
      "------------------------------------------------------------------------------------------\n"
     ]
    }
   ],
   "source": [
    "query = \"고종이 침전으로 사용했던 건물이 뭐야?\"\n",
    "# 리트리버를 사용하여 검색\n",
    "retrieved_docs = retriever.invoke(query)\n",
    "print_doc_contecnt(retrieved_docs)"
   ]
  },
  {
   "cell_type": "code",
   "execution_count": 41,
   "id": "db35e966",
   "metadata": {},
   "outputs": [
    {
     "name": "stdout",
     "output_type": "stream",
     "text": [
      "1번째 문서\n",
      "내용:\n",
      "## 근대국가의 상징\n",
      "\n",
      "석조전은 고종황제가 침전 겸 편전으로 사용하기 위해 1900년부터 1910년에 걸쳐 지은 서양식 석조건물이다. 경운궁에 서양식 건축물들을 건립한 것은 대한제국 근대화를 위한 정책의 일환이었다. 석조전은 서양의 신고전주의 건축양식으로 지어졌으며, 건물의 앞과 동서 양편에 베란다가 설치된 것이 특징이다. 1층은 시종이 기거하는 방과 부속 시설로, 돌계단을 올라 들어서는 2층은 대접견실과 대기실로, 3층은 황제와 황후가 거처하는 침실과 여러 용도의 방으로 구성되었다. 고종황제 승하 후에 경운궁이 황폐해지는 과정에서 석조전은 일본 회화미술관으로 사용되었다. 1938년에 서측 별관이 들어서 이왕가미술관으로 사용되기도 하였다.\n",
      "  \n",
      "  \n",
      "  \n",
      "# 석조전 앞의 분수\n",
      "------------------------------------------------------------------------------------------\n",
      "2번째 문서\n",
      "내용:\n",
      "석어당은 선조의 계비인 인목왕후 김씨가 10여 년간 감금생활을 했던 곳이다. 광해군은 왕위에 오른 후 자신의 왕위를 위협할 가능성이 있는 형제들을 차례로 제거하고 인목대비를 폐위시켜 경운궁에 유폐했다. 이때 경운궁은 서궁(西宮)으로 불렸다. 서궁 유폐는 결국 반정을 일으키는 구실이 되었다. 반정이 성공한 능양군(인조)은 경운궁으로 입궐해를 찾아 정통성을 인정받고 여기서 즉위했다. 유폐의 한이 맺혀 있던 인목대비는 석어당 앞마당에 광해군을 끌어내리고 36조의 죄를 물은 후 능운궁에서 묘사를 전하였다.\n",
      "  \n",
      "  \n",
      "  \n",
      "4 함녕전과 덕홍전\n",
      "\n",
      "# 함녕전과 덕홍전\n",
      "### 咸寧殿 · 德弘殿\n",
      "\n",
      "### 황제의 침전과 접견실\n",
      "------------------------------------------------------------------------------------------\n",
      "3번째 문서\n",
      "내용:\n",
      "석조전은 처음에 대한제국의 재정고문이었던 영국인 브라운(J. M. Brown)이 발의하여 짓기 시작했으며 설계도 영국인 하딩(G. R. Harding) 등이 하였다. 그러다가 1905년에 일본인 메가타 대체제국의 재정고문이 되면서 일본의 오쿠라 토목회사가 시공을 맡게 된다. 오쿠라 토목회사는 아시아 여러 나라에 수많은 건축 화재를 일본으로 빼돌린 기업으로도 유명하다. 실제로 1917년 경복궁 자선당을 해체해 일본으로 빼돌려 오쿠라의 개인 저택에 ‘아고 조선관’이라는 이름의 사설박물관으로 사용했다. 석조전은 1923년 관동 대지진으로 불타 버려 초석만 남아 있다가 1995년 한국으로 돌아왔다.\n",
      "\n",
      "!Image of a historical artifact\n",
      "  \n",
      "  \n",
      "  \n",
      "----\n",
      "\n",
      "# 7 권내각사 터와 환구단\n",
      "關內各司址 · 圜丘壇\n",
      "\n",
      "## 환구단, 황제국 선포를 하늘에 고하다\n",
      "------------------------------------------------------------------------------------------\n",
      "4번째 문서\n",
      "내용:\n",
      "석조전 앞에 있는 정원과 청동제 분수는 서구형 정원으로 1938년에 조성된 것으로 알려져 있다. 우리의 전통 정원은 건물의 뒤에 배치하여 후원이라 하는 데 비해, 석조전은 건물 앞에 정원을 조성하였다. 또한 우리 전통 조경에서는 분수를 찾아볼 수 없는데, 이는 한국인의 자연관에서 비롯된 것이다. 우리 조상들은 물을 높은 곳에서 낮은 곳으로 흐르는 것이 자연의 이치라 여겼기에, 정원에 인공으로 폭포를 만들긴 했지만 물이 억으로 치솟는 분수는 만들지 않았던 것이다.\n",
      "\n",
      "!Image of a fountain in front of Seokjojeon\n",
      "  \n",
      "  \n",
      "  \n",
      "# 덕수궁 미술관\n",
      "\n",
      "덕수궁 미술관 圖書館\n",
      "\n",
      "광명문 光明門\n",
      "\n",
      "석조전 石造殿\n",
      "\n",
      "!Illustration of Deoksugung Palace\n",
      "  \n",
      "  \n",
      "  \n",
      "# 석조전을 시공한 오쿠라 토목회사\n",
      "------------------------------------------------------------------------------------------\n"
     ]
    }
   ],
   "source": [
    "\n",
    "query = \"석조전에 용도가 뭐야?\"\n",
    "retrieved_docs = retriever.invoke(query)\n",
    "print_doc_contecnt(retrieved_docs)"
   ]
  },
  {
   "cell_type": "code",
   "execution_count": 42,
   "id": "5fc63dfd",
   "metadata": {},
   "outputs": [
    {
     "name": "stdout",
     "output_type": "stream",
     "text": [
      "1번째 문서\n",
      "내용:\n",
      "# 관람정보\n",
      "100-120 서울시 중구 세종대로 99 / deoksugung.go.kr / 02-771-9952\n",
      "  \n",
      "  \n",
      "  \n",
      "## 관람시간\n",
      "09:00~21:00  \n",
      "※ 매일 1시간 전까지 입장해야 하며 매주 월요일은 쉽니다\n",
      "  \n",
      "  \n",
      "  \n",
      "## 입장요금\n",
      "- 어른(19~64세) 1,000원(10인 이상 800원)\n",
      "  \n",
      "  \n",
      "  \n",
      "## 무료 안내 시간\n",
      "\n",
      "### 국어\n",
      "- 화~금요일: 10:00, 11:00, 14:00, 15:00, 16:00\n",
      "- 토요일: 10:00, 11:00, 14:00, 15:00, 16:30\n",
      "- 일요일: 10:00, 11:00, 14:00, 15:00, 16:30\n",
      "\n",
      "### 영어\n",
      "- 화, 수, 금요일: 10:30\n",
      "- 토, 일요일: 13:40\n",
      "\n",
      "### 일어\n",
      "- 화, 수, 금요일: 10:30\n",
      "- 화, 수, 금요일: 14:30\n",
      "- 토요일: 10:30, 14:30\n",
      "- 일요일: 10:30\n",
      "\n",
      "### 중국어\n",
      "- 화, 수, 금요일: 13:40\n",
      "- 토요일: 13:40\n",
      "- 일요일: 13:40\n",
      "------------------------------------------------------------------------------------------\n",
      "2번째 문서\n",
      "내용:\n",
      "- 궁궐코스 내 안내판 앞에서 출발하며 약 1시간 정도 소요됩니다\n",
      "- 공휴일에는 쉬지 않습니다\n",
      "- 사전예약시 전액 무료 해설\n",
      "- 우리궁궐지킴이(02-723-4206, www.rekor.or.kr)\n",
      "- 우리궁궐관리소(02-2273-2276, www.palaceguide.or.kr)\n",
      "  \n",
      "  \n",
      "  \n",
      "## 교통안내\n",
      "\n",
      "- 지하철: 시청역(1호선) 연결, 을지로입구역(2호선) 12번 출구\n",
      "- 버스: \n",
      "  - 간선(파랑): 101, 150, 172, 263, 401, 402, 406, 408, 421, 472, 504, 507, 600, 602, 603, 604, 700, 703\n",
      "  - 지선(초록): 601, 7012, 7015, 7016, 7019, 7022\n",
      "  - 공항(빨강): 8600\n",
      "- 자세한 사항은 서울시 버스 정보 (http://bus.seoul.go.kr)\n",
      "- 어른 입장료(덕수궁, 창덕궁, 창경궁)과 화요일(종묘, 창릉)은 쉽니다\n",
      "  \n",
      "  \n",
      "  \n",
      "## 통합관람\n",
      "------------------------------------------------------------------------------------------\n",
      "3번째 문서\n",
      "내용:\n",
      "- 통합관람은 4대궁 및 종묘를 대상으로, 관람객들의 편의를 위해 통합관람권을 발행합니다.\n",
      "- 통합관람권은 4대궁(경복궁, 창덕궁, 덕수궁, 창경궁) 및 종묘\n",
      "- 통합관람권은 4대궁 및 종묘를 1회씩 관람할 수 있습니다.\n",
      "- 통합관람권은 4대궁 및 종묘 매표소에서 구입 가능합니다.\n",
      "- 유효기간 / 구입일로부터 1개월\n",
      "  \n",
      "  \n",
      "  \n",
      "----\n",
      "\n",
      "# 덕수궁\n",
      "------------------------------------------------------------------------------------------\n",
      "4번째 문서\n",
      "내용:\n",
      "# 덕수궁\n",
      "\n",
      "- 1593 (선조 26) 월산대군 저택을 행궁(행궁)으로 사용\n",
      "- 1611 (광해 3) '경운궁'이라는 궁호를 붙임\n",
      "- 1615 (광해 7) 경운궁이 창덕궁으로 이어짐에 변경이 됨\n",
      "- 1618 (광해 10) 인목대비 투옥, 서궁(西宮)으로 불림\n",
      "- 1623 (인조 1) 광운궁 대부인과 가덕대부인에게 물려줌\n",
      "- 1897 (고종 24, 25) 러시아공사관에서 경운궁으로 옮겨 옴\n",
      "- 1897 (광무 1, 2) 한국에서 황제즉위식 거행\n",
      "- 1904 (광무 8) 대화재로 주요 건물들이 대부분 소실\n",
      "- 1907 (융희 1) 순종 황제 대관식 내정\n",
      "- 1919 고종, 덕수궁 함녕전에서 승하\n",
      "- 1933 덕수궁, 일본인에게 개방\n",
      "- 1938 덕수궁 석조전 옆에 분수대 설치\n",
      "- 2007 덕수궁 복원 시작\n",
      "  \n",
      "  \n",
      "     \n",
      "## 정보\n",
      "\n",
      "1. 표 파는 곳  \n",
      "2. 지하철  \n",
      "3. 화장실  \n",
      "4. 기념품점  \n",
      "5. 휠체어 보관소\n",
      "\n",
      "## 권역\n",
      "------------------------------------------------------------------------------------------\n"
     ]
    }
   ],
   "source": [
    "query = \"이용시간을 알려줘\"\n",
    "retrieved_docs = retriever.invoke(query)\n",
    "print_doc_contecnt(retrieved_docs)"
   ]
  },
  {
   "cell_type": "code",
   "execution_count": 43,
   "id": "dc645210",
   "metadata": {},
   "outputs": [
    {
     "name": "stdout",
     "output_type": "stream",
     "text": [
      "1번째 문서\n",
      "내용:\n",
      "# 덕수궁\n",
      "\n",
      "- 1593 (선조 26) 월산대군 저택을 행궁(행궁)으로 사용\n",
      "- 1611 (광해 3) '경운궁'이라는 궁호를 붙임\n",
      "- 1615 (광해 7) 경운궁이 창덕궁으로 이어짐에 변경이 됨\n",
      "- 1618 (광해 10) 인목대비 투옥, 서궁(西宮)으로 불림\n",
      "- 1623 (인조 1) 광운궁 대부인과 가덕대부인에게 물려줌\n",
      "- 1897 (고종 24, 25) 러시아공사관에서 경운궁으로 옮겨 옴\n",
      "- 1897 (광무 1, 2) 한국에서 황제즉위식 거행\n",
      "- 1904 (광무 8) 대화재로 주요 건물들이 대부분 소실\n",
      "- 1907 (융희 1) 순종 황제 대관식 내정\n",
      "- 1919 고종, 덕수궁 함녕전에서 승하\n",
      "- 1933 덕수궁, 일본인에게 개방\n",
      "- 1938 덕수궁 석조전 옆에 분수대 설치\n",
      "- 2007 덕수궁 복원 시작\n",
      "  \n",
      "  \n",
      "     \n",
      "## 정보\n",
      "\n",
      "1. 표 파는 곳  \n",
      "2. 지하철  \n",
      "3. 화장실  \n",
      "4. 기념품점  \n",
      "5. 휠체어 보관소\n",
      "\n",
      "## 권역\n",
      "------------------------------------------------------------------------------------------\n",
      "2번째 문서\n",
      "내용:\n",
      "경운궁은 1897년 대한제국 출범과 함께 한국 근대사의 전면에 등장했다. 전성기 때의 경운궁은 현재 남아 있는 3배에 달하는 큰 궁궐이었다. 현재의 미국대사관 건너편 저쪽에는 중명전을 비롯해 황실 생활을 위한 전각들이 있었고, 북쪽에는 역대 임금들을 제사 지내는 선원전 일원이 있었으며, 동쪽에는 하늘에 제사 지내는 원구단은 실질하여 황제국의 위세를 과시했다. 그러나 고종황제가 황해에 물러나면서 경운궁은 선원제가 거처하는 궁으로 그 위상이 달라졌고 이름도 덕수궁으로 바뀌었다. 이후 칸나자 일부와 환구단이 철거되었고 이 지역은 대한제국의 상징 공간으로서의 위상을 잃게 되었다.\n",
      "\n",
      "고종이 승하한 뒤 1920년부터 일제가 선원전과 중명전 일대를 매각하여 궁역이 크게 줄어들었으며, 1933년에는 많은 건물들을 철거하고 공원으로 조성하여 일부에 공개했다. 이처럼 덕수궁은 일제강점기를 거치면서 원형을 거의 찾아볼 수 없을 정도로 훼손되었으나, 임진왜란과 대한제국기의 역사를 겪은 궁궐로 국난 극복의 상징적 공간이자 그 중심이었다.\n",
      "\n",
      "!덕수궁\n",
      "\n",
      "주변의 높은 빌딩으로 둘러싸인 덕수궁\n",
      "  \n",
      "  \n",
      "  \n",
      "# 1 대한문 일원\n",
      "大漢門\n",
      "\n",
      "**대한제국, 근대 세계를 향해 문을 열다**\n",
      "------------------------------------------------------------------------------------------\n",
      "3번째 문서\n",
      "내용:\n",
      "!대한문\n",
      "대한문\n",
      "\n",
      "대한문의 이동  \n",
      "1912년 태평로 확장으로 덕수궁의 궁역은 축소되었으나 대한문의 위치에는 영향을 미치지 않았다. 그러나 1968년 태평로는 다시 한번 확장되었는데 이로 인해 길 중간에 설치된 남겨져 있다가 1971년 원래의 자리에서 33m 물러선 현재의 자리로 옮겨졌다. 이후 몇 차례의 수리가 있었고 2005년 원전 해체 · 복수하였다.\n",
      "\n",
      "!현재 대한문의 현판\n",
      "\n",
      "덕수궁이 된 경운궁  \n",
      "덕수궁의 원래 이름은 경운궁이다. 1611년(광해군 3년)부터 고종 재위 마지막 해인 1907년까지 300여 년 동안 경운궁이라는 궁호가 사용되었다. 1907년 헤이그 밀사 사건을 빌미 삼아 일제는 고종을 강제로 퇴위시킨 후, 새로 즉위한 순종과 창덕궁으로 이사시켰다. 고종의 정치적 영향력에 순종에게 미치지 못하도록 하기 위한 조치였다. 그리고 고종이 억류되다시피 남은 덕수궁에 덕수궁이라는 궁호를 내렸다. 이 궁호는 조선왕조 초기의 정종이 태조를 위해 지은 궁궐을 본딴 이름으로, 원래는 '성업이 덕을 누리며 오래 사시라'는 의미이지만, 일제에 의해 강제로 상황이 된 고종의 시련이 묻어 있는 궁호라고 볼 수 있다.\n",
      "  \n",
      "  \n",
      "  \n",
      "# 2 중화전 일원\n",
      "中和殿\n",
      "------------------------------------------------------------------------------------------\n",
      "4번째 문서\n",
      "내용:\n",
      "1897년 대한제국의 으뜸 궁궐이 된 경운궁은 예원학교와 덕수초등학교, 옛 경기여고 터를 포함하는 넓은 영역이었으나 1919년 고종황제가 세상을 떠난 후 궁역이 해체되면서 오늘의 덕수궁 영역으로 축소되었다. 현재의 석조전 뒤편에는 돈덕전(惇德殿)이 있었다. 서양 건축양식으로 지어진 돈덕전은 1907년 순종이 즉위한 곳이지만, 1922년 궁역 해체와 동시에 미국대사관과 덕수궁 사이에 도로가 개설되면서 철거되었다. 미국대사관저 서쪽에 위치한 중명전 일원에는 환벽정과 만희당 등이 있었으나 경술국치와 함께 해체되기 시작하여 현 예원학교 터의 토지 소유권은 미국감리교선교부, 이화학당에 넘어갔다.\n",
      "------------------------------------------------------------------------------------------\n"
     ]
    }
   ],
   "source": [
    "query = \"덕수궁에 대해 알려줘\"\n",
    "retrieved_docs = retriever.invoke(query)\n",
    "print_doc_contecnt(retrieved_docs)"
   ]
  },
  {
   "cell_type": "code",
   "execution_count": 92,
   "id": "4b9493d4",
   "metadata": {},
   "outputs": [],
   "source": [
    "# 프롬프트를 생성합니다.\n",
    "prompt = PromptTemplate.from_template(\n",
    "    \"\"\"You are an assistant for question-answering tasks. \n",
    "Use the following pieces of retrieved context to answer the question. \n",
    "If you don't know the answer, just say that you don't know. \n",
    "Answer in Korean.\n",
    "\n",
    "#Context: \n",
    "{context}\n",
    "\n",
    "#Question:\n",
    "{question}\n",
    "\n",
    "#Answer:\"\"\"\n",
    ")\n",
    "\n",
    "llm = ChatOpenAI(model_name=\"gpt-4.1-mini\", temperature=0)\n",
    "\n",
    "chain = (\n",
    "    {\"context\": retriever, \"question\": RunnablePassthrough()}\n",
    "    | prompt\n",
    "    | llm\n",
    "    | StrOutputParser() # 출력에 page_content내용만 보일 수 있도록\n",
    ")"
   ]
  },
  {
   "cell_type": "code",
   "execution_count": 93,
   "id": "ede049c1",
   "metadata": {},
   "outputs": [
    {
     "name": "stdout",
     "output_type": "stream",
     "text": [
      "인목왕후가 감금되어 있었던 곳은 석어당입니다.\n"
     ]
    }
   ],
   "source": [
    "# 체인 실행(Run Chain)\n",
    "# 문서에 대한 질의를 입력하고, 답변을 출력합니다.\n",
    "question = \"인목왕후가 감금되어 있었던 곳인 어디인가?\"\n",
    "response = chain.invoke(question)\n",
    "print(response)"
   ]
  },
  {
   "cell_type": "code",
   "execution_count": 75,
   "id": "90f06a73",
   "metadata": {},
   "outputs": [
    {
     "name": "stdout",
     "output_type": "stream",
     "text": [
      "고종이 침전으로 사용했던 건물은 석조전입니다.\n"
     ]
    }
   ],
   "source": [
    "# 체인 실행(Run Chain)\n",
    "# 문서에 대한 질의를 입력하고, 답변을 출력합니다.\n",
    "question = \"고종이 침전으로 사용했던 건물이 뭐야?\"\n",
    "response = chain.invoke(question)\n",
    "print(response)"
   ]
  },
  {
   "cell_type": "code",
   "execution_count": 76,
   "id": "8c4ee976",
   "metadata": {},
   "outputs": [
    {
     "name": "stdout",
     "output_type": "stream",
     "text": [
      "석조전은 고종황제가 침전 겸 편전으로 사용하기 위해 1900년부터 1910년에 걸쳐 지은 서양식 석조건물입니다. 1층은 시종이 기거하는 방과 부속 시설, 2층은 대접견실과 대기실, 3층은 황제와 황후가 거처하는 침실과 여러 용도의 방으로 구성되어 있습니다.\n"
     ]
    }
   ],
   "source": [
    "question = \"석조전에 용도가 뭐지?\"\n",
    "response = chain.invoke(question)\n",
    "print(response)"
   ]
  },
  {
   "cell_type": "code",
   "execution_count": 79,
   "id": "117def21",
   "metadata": {},
   "outputs": [
    {
     "name": "stdout",
     "output_type": "stream",
     "text": [
      "덕수궁의 관람시간은 09:00부터 21:00까지이며, 매일 1시간 전까지 입장해야 합니다. 매주 월요일은 휴무입니다.\n"
     ]
    }
   ],
   "source": [
    "question=\"이용시간을 알려줘\"\n",
    "response = chain.invoke(question)\n",
    "print(response)\n"
   ]
  },
  {
   "cell_type": "code",
   "execution_count": 35,
   "id": "340b11de",
   "metadata": {},
   "outputs": [
    {
     "name": "stdout",
     "output_type": "stream",
     "text": [
      "덕수궁은 원래 경운궁이라는 이름으로 불렸으며, 1611년 광해군 때부터 약 300년간 경운궁이라는 궁호가 사용되었습니다. 1897년 대한제국 출범과 함께 경운궁은 대한제국의 으뜸 궁궐이 되었고, 고종 황제가 이곳에서 황제 즉위식을 거행하였습니다. 이후 고종이 물러나면서 궁의 위상이 달라지고 이름도 덕수궁으로 바뀌었습니다.\n",
      "\n",
      "덕수궁은 원래 매우 넓은 영역을 차지했으나, 고종이 1919년에 승하한 후 일제강점기를 거치면서 궁역이 크게 축소되고 많은 건물들이 철거되어 현재의 규모로 줄어들었습니다. 1904년 대화재로 주요 건물들이 소실되었고, 1933년에는 일본인에게 개방되기도 했습니다. 이후 2007년부터 덕수궁 복원이 시작되었습니다.\n",
      "\n",
      "덕수궁은 임진왜란과 대한제국기의 역사를 겪은 궁궐로서 국난 극복의 상징적 공간이며, 주변의 높은 빌딩들 사이에 위치해 현대와 역사가 공존하는 장소입니다. 주요 건물로는 대한문, 중화전, 석조전 등이 있으며, 대한문은 1971년에 원래 자리에서 33m 물러난 현재 위치로 옮겨졌고 여러 차례 수리를 거쳤습니다.\n",
      "\n",
      "덕수궁 내에는 표 파는 곳, 지하철, 화장실, 기념품점, 휠체어 보관소 등의 편의시설도 마련되어 있습니다.\n"
     ]
    }
   ],
   "source": [
    "question=\"덕수궁에 대해 알려줘\"\n",
    "response = chain.invoke(question)\n",
    "print(response)"
   ]
  },
  {
   "cell_type": "code",
   "execution_count": 36,
   "id": "459d4bde",
   "metadata": {},
   "outputs": [
    {
     "name": "stdout",
     "output_type": "stream",
     "text": [
      "죄송하지만, 제공된 자료에는 롯데타워의 위치에 대한 정보가 없습니다.\n"
     ]
    }
   ],
   "source": [
    "question=\"롯데타워는 어디야?\"\n",
    "response = chain.invoke(question)\n",
    "print(response)"
   ]
  },
  {
   "cell_type": "markdown",
   "id": "393678d3",
   "metadata": {},
   "source": [
    "pdf를 불러와서 가공없이 임베딩한 결과를 저장한 vectorstore를 로드해서 편집한 md파일과 성능을 비교"
   ]
  },
  {
   "cell_type": "code",
   "execution_count": 44,
   "id": "45a41e76",
   "metadata": {},
   "outputs": [],
   "source": [
    "# 저장된 데이터를 로드\n",
    "dk_db = FAISS.load_local(\n",
    "    folder_path=\"faiss_db\",\n",
    "    index_name=\"faiss_index\",\n",
    "    embeddings=embeddings,\n",
    "    allow_dangerous_deserialization=True,\n",
    ")"
   ]
  },
  {
   "cell_type": "code",
   "execution_count": 48,
   "id": "464a7170",
   "metadata": {},
   "outputs": [
    {
     "name": "stdout",
     "output_type": "stream",
     "text": [
      "1번째 문서\n",
      "내용:\n",
      "# 석조전 앞의 분수\n",
      "\n",
      "석조전 앞에 있는 정원과 청동제 분수는 서구형 정원으로 1938년에 조성된 것으로 알려져 있다. 우리의 전통 정원은 건물의 뒤에 배치하여 후원이라 하는 데 비해, 석조전은 건물 앞에 정원을 조성하였다. 또한 우리 전통 조경에서는 분수를 찾아볼 수 없는데, 이는 한국인의 자연관에서 비롯된 것이다. 우리 조상들은 물을 높은 곳에서 낮은 곳으로 흐르는 것이 자연의 이치라 여겼기에, 정원에 인공으로 폭포를 만들긴 했지만 물이 억으로 치솟는 분수는 만들지 않았던 것이다.\n",
      "\n",
      "!Image of a fountain in front of Seokjojeon\n",
      "\n",
      "# 덕수궁 미술관\n",
      "\n",
      "덕수궁 미술관 圖書館\n",
      "\n",
      "광명문 光明門\n",
      "\n",
      "석조전 石造殿\n",
      "\n",
      "!Illustration of Deoksugung Palace\n",
      "\n",
      "# 석조전을 시공한 오쿠라 토목회사\n",
      "------------------------------------------------------------------------------------------\n",
      "2번째 문서\n",
      "내용:\n",
      "# 9 중명전 일원\n",
      "重明殿\n",
      "\n",
      "## 황제국 건설의 희망과 절망\n",
      "\n",
      "중명전 일대는 경운궁을 확장할 때 가장 먼저 궁궐로 편입된 곳이지만, 경운궁과 중명전 사이에 이미 미국공사관이 자리 잡고 있던 터라 별궁처럼 되었다. 중명전은 러시아 건축가 사바틴이 설계한 2층의 붉은 벽돌 건물로 경운궁에 지어진 최초의 서양식 건물이었다. 처음에는 수옥헌으로 불리며 황실도서관으로 지어졌으나 1904년 대한제국 고종이 임시 기거하면서 연회장이나 외국 사절의 접견소로도 이용되었다. 수옥헌이 중명전으로 불리게 된 것은 1906년 이후로 보여 진다. 이 일대에는 환벽당과 만화당을 비롯한 10여 채의 전각들이 들어서 있었다. 1905년 을사늑약 체결된 곳도 중명전이고, 1907년 헤이그 만국평화회의의 특사 파견이 이루어진 곳도 중명전이다. 이처럼 중명전은 대한제국의 좌절과 국권 수호 의지가 모두 담긴 역사의 현장이다.\n",
      "\n",
      "!Image of 중명전 일원\n",
      "\n",
      "## 중명전에서 공포 분위기 속에 을사늑약 체결\n",
      "------------------------------------------------------------------------------------------\n",
      "3번째 문서\n",
      "내용:\n",
      "### 헤이그 밀사 파견과 고종의 강제 양위\n",
      "\n",
      "고종은 일본과 맺은 을사늑약의 부당함을 세계 각국에 알리고자 1907년 6월 네덜란드 헤이그에서 열린 제2차 만국평화회의에 특사를 파견했다. 그러나 특사들은 회의장에 들어가지도 못한 채 거절당했다. 열강의 냉담한 반응에 이준 열사는 규국하지 않고 순국하여 대한제국의 의지를 천명하였다. 이 일로 일본은 고종에 여러 처리 양해를 강요하였고, 결국 고종은 순종에게 대한제정창설을 명령케 이른다. 그러나 실제로 세자가 대신 정무를 보는 대리청정을 위임한 바였고 그 양위식은 1907년 7월 19일 중화전에서 치러졌다. 고종과 순종은 양위식 참석을 거부했다.\n",
      "\n",
      "!중화전 구조도\n",
      "\n",
      "### '드므'에 새겨진 '단세(檀世)'의 의미\n",
      "------------------------------------------------------------------------------------------\n",
      "4번째 문서\n",
      "내용:\n",
      "!Diagram of the area\n",
      "\n",
      "- 서울시청 首爾市廳\n",
      "- 서울광장 首爾廣場\n",
      "- 황궁우 皇穹宇\n",
      "- 서울프라자호텔 首爾廣場酒店\n",
      "- 권내각사 터\n",
      "\n",
      "----\n",
      "\n",
      "### 환구단의 규모\n",
      "\n",
      "환구단은 돌을 쌓아올린 3층의 거대한 원형 제단이었으며, 신위를 모신 부속 건물 황궁우를 비롯하여 그 일대가 사방의 성역을 갖추었다. 1층이 지름이 140m에 임한 구면으로서 1000명 넘의 숙련된 일꾼이 겨우 한 달 동안 쉼 새 없이 일해서 완성하였다. 환구단은 1914년 조선철도호텔 건설 때 파괴되었으나, 신위의 위패를 모신 황궁우와 돌북(石鼓)이 남아 대한제국의 흔적을 보여 준다.\n",
      "\n",
      "12\n",
      "------------------------------------------------------------------------------------------\n"
     ]
    }
   ],
   "source": [
    "# 리트리버 생성\n",
    "retriever2 = dk_db.as_retriever()\n",
    "\n",
    "# 검색할 질의(Query)\n",
    "query2 = \"인목왕후가 감금되어 있었던 곳인 어디인가?\"\n",
    "\n",
    "# 리트리버를 사용하여 검색\n",
    "retrieved_docs2 = retriever2.invoke(query2)\n",
    "print_doc_contecnt(retrieved_docs2)"
   ]
  },
  {
   "cell_type": "code",
   "execution_count": 49,
   "id": "f1f7a371",
   "metadata": {},
   "outputs": [
    {
     "name": "stdout",
     "output_type": "stream",
     "text": [
      "1번째 문서\n",
      "내용:\n",
      "# 7 권내각사 터와 환구단\n",
      "關內各司址 · 圜丘壇\n",
      "\n",
      "----\n",
      "\n",
      "## 환구단, 황제국 선포를 하늘에 고하다\n",
      "------------------------------------------------------------------------------------------\n",
      "2번째 문서\n",
      "내용:\n",
      "# 석조전 앞의 분수\n",
      "\n",
      "석조전 앞에 있는 정원과 청동제 분수는 서구형 정원으로 1938년에 조성된 것으로 알려져 있다. 우리의 전통 정원은 건물의 뒤에 배치하여 후원이라 하는 데 비해, 석조전은 건물 앞에 정원을 조성하였다. 또한 우리 전통 조경에서는 분수를 찾아볼 수 없는데, 이는 한국인의 자연관에서 비롯된 것이다. 우리 조상들은 물을 높은 곳에서 낮은 곳으로 흐르는 것이 자연의 이치라 여겼기에, 정원에 인공으로 폭포를 만들긴 했지만 물이 억으로 치솟는 분수는 만들지 않았던 것이다.\n",
      "\n",
      "!Image of a fountain in front of Seokjojeon\n",
      "\n",
      "# 덕수궁 미술관\n",
      "\n",
      "덕수궁 미술관 圖書館\n",
      "\n",
      "광명문 光明門\n",
      "\n",
      "석조전 石造殿\n",
      "\n",
      "!Illustration of Deoksugung Palace\n",
      "\n",
      "# 석조전을 시공한 오쿠라 토목회사\n",
      "------------------------------------------------------------------------------------------\n",
      "3번째 문서\n",
      "내용:\n",
      "1900년에 완성된 선원전전에는 숙종을 비롯한 7위의 어진(御眞, 임금의 초상화)을 모신 황실의 격을 갖추었으며, 빈전(殯殿)과 혼전(魂殿)도 설치했다. 선원전 일대는 대한제국을 상징하는 신성한 공간이었으나, 1919년 고종황제 승하 후 1년제가 끝나자마자 일제는 어진들을 돌볼 사람이 없다는 이유로 선원전을 혈의 순종이 있는 창덕궁으로 옮겼고, 그 부지는 조선은행, 식산은행, 경성일보사 등에 매각했다. 이후 해인사와 불교중앙포교소와 경성여자공립보통학교(현 덕수초등학교 터), 경기여고터가 차례로 건축되면서 이 일대는 완전히 해체되었다. 현재는 경기여고 터의 선원전 복원을 비롯한 덕수궁 장기 복원계획이 수립되어 추진 중이다.\n",
      "\n",
      "!영친왕의 선원전 참배\n",
      "\n",
      "13\n",
      "------------------------------------------------------------------------------------------\n",
      "4번째 문서\n",
      "내용:\n",
      "!Diagram of the area\n",
      "\n",
      "- 서울시청 首爾市廳\n",
      "- 서울광장 首爾廣場\n",
      "- 황궁우 皇穹宇\n",
      "- 서울프라자호텔 首爾廣場酒店\n",
      "- 권내각사 터\n",
      "\n",
      "----\n",
      "\n",
      "### 환구단의 규모\n",
      "\n",
      "환구단은 돌을 쌓아올린 3층의 거대한 원형 제단이었으며, 신위를 모신 부속 건물 황궁우를 비롯하여 그 일대가 사방의 성역을 갖추었다. 1층이 지름이 140m에 임한 구면으로서 1000명 넘의 숙련된 일꾼이 겨우 한 달 동안 쉼 새 없이 일해서 완성하였다. 환구단은 1914년 조선철도호텔 건설 때 파괴되었으나, 신위의 위패를 모신 황궁우와 돌북(石鼓)이 남아 대한제국의 흔적을 보여 준다.\n",
      "\n",
      "12\n",
      "------------------------------------------------------------------------------------------\n"
     ]
    }
   ],
   "source": [
    "# 검색할 질의(Query)\n",
    "query2 = \"고종이 침전으로 사용했던 건물이 뭐야?\"\n",
    "\n",
    "# 리트리버를 사용하여 검색\n",
    "retrieved_docs2 = retriever2.invoke(query2)\n",
    "print_doc_contecnt(retrieved_docs2)"
   ]
  },
  {
   "cell_type": "code",
   "execution_count": 50,
   "id": "bf48e7da",
   "metadata": {},
   "outputs": [
    {
     "name": "stdout",
     "output_type": "stream",
     "text": [
      "1번째 문서\n",
      "내용:\n",
      "# 석조전 앞의 분수\n",
      "\n",
      "석조전 앞에 있는 정원과 청동제 분수는 서구형 정원으로 1938년에 조성된 것으로 알려져 있다. 우리의 전통 정원은 건물의 뒤에 배치하여 후원이라 하는 데 비해, 석조전은 건물 앞에 정원을 조성하였다. 또한 우리 전통 조경에서는 분수를 찾아볼 수 없는데, 이는 한국인의 자연관에서 비롯된 것이다. 우리 조상들은 물을 높은 곳에서 낮은 곳으로 흐르는 것이 자연의 이치라 여겼기에, 정원에 인공으로 폭포를 만들긴 했지만 물이 억으로 치솟는 분수는 만들지 않았던 것이다.\n",
      "\n",
      "!Image of a fountain in front of Seokjojeon\n",
      "\n",
      "# 덕수궁 미술관\n",
      "\n",
      "덕수궁 미술관 圖書館\n",
      "\n",
      "광명문 光明門\n",
      "\n",
      "석조전 石造殿\n",
      "\n",
      "!Illustration of Deoksugung Palace\n",
      "\n",
      "# 석조전을 시공한 오쿠라 토목회사\n",
      "------------------------------------------------------------------------------------------\n",
      "2번째 문서\n",
      "내용:\n",
      "1900년에 완성된 선원전전에는 숙종을 비롯한 7위의 어진(御眞, 임금의 초상화)을 모신 황실의 격을 갖추었으며, 빈전(殯殿)과 혼전(魂殿)도 설치했다. 선원전 일대는 대한제국을 상징하는 신성한 공간이었으나, 1919년 고종황제 승하 후 1년제가 끝나자마자 일제는 어진들을 돌볼 사람이 없다는 이유로 선원전을 혈의 순종이 있는 창덕궁으로 옮겼고, 그 부지는 조선은행, 식산은행, 경성일보사 등에 매각했다. 이후 해인사와 불교중앙포교소와 경성여자공립보통학교(현 덕수초등학교 터), 경기여고터가 차례로 건축되면서 이 일대는 완전히 해체되었다. 현재는 경기여고 터의 선원전 복원을 비롯한 덕수궁 장기 복원계획이 수립되어 추진 중이다.\n",
      "\n",
      "!영친왕의 선원전 참배\n",
      "\n",
      "13\n",
      "------------------------------------------------------------------------------------------\n",
      "3번째 문서\n",
      "내용:\n",
      "관람정보\n",
      "\n",
      "# 관람정보\n",
      "\n",
      "100-120 서울시 중구 세종대로 99 / deoksugung.go.kr / 02-771-9952\n",
      "\n",
      "## 관람시간\n",
      "09:00~21:00  \n",
      "※ 매일 1시간 전까지 입장해야 하며 매주 월요일은 쉽니다\n",
      "\n",
      "## 입장요금\n",
      "- 어른(19~64세) 1,000원(10인 이상 800원)\n",
      "\n",
      "## 무료 안내 시간\n",
      "\n",
      "### 국어\n",
      "- 화~금요일: 10:00, 11:00, 14:00, 15:00, 16:00\n",
      "- 토요일: 10:00, 11:00, 14:00, 15:00, 16:30\n",
      "- 일요일: 10:00, 11:00, 14:00, 15:00, 16:30\n",
      "\n",
      "### 영어\n",
      "- 화, 수, 금요일: 10:30\n",
      "- 토, 일요일: 13:40\n",
      "\n",
      "### 일어\n",
      "- 화, 수, 금요일: 10:30\n",
      "- 화, 수, 금요일: 14:30\n",
      "- 토요일: 10:30, 14:30\n",
      "- 일요일: 10:30\n",
      "\n",
      "### 중국어\n",
      "- 화, 수, 금요일: 13:40\n",
      "- 토요일: 13:40\n",
      "- 일요일: 13:40\n",
      "------------------------------------------------------------------------------------------\n",
      "4번째 문서\n",
      "내용:\n",
      "# 7 권내각사 터와 환구단\n",
      "關內各司址 · 圜丘壇\n",
      "\n",
      "----\n",
      "\n",
      "## 환구단, 황제국 선포를 하늘에 고하다\n",
      "------------------------------------------------------------------------------------------\n"
     ]
    }
   ],
   "source": [
    "query2 = \"석조전에 용도가 뭐야?\"\n",
    "\n",
    "# 리트리버를 사용하여 검색\n",
    "retrieved_docs2 = retriever2.invoke(query2)\n",
    "print_doc_contecnt(retrieved_docs2)"
   ]
  },
  {
   "cell_type": "code",
   "execution_count": 52,
   "id": "e3150ce1",
   "metadata": {},
   "outputs": [
    {
     "name": "stdout",
     "output_type": "stream",
     "text": [
      "1번째 문서\n",
      "내용:\n",
      "### 헤이그 밀사 파견과 고종의 강제 양위\n",
      "\n",
      "고종은 일본과 맺은 을사늑약의 부당함을 세계 각국에 알리고자 1907년 6월 네덜란드 헤이그에서 열린 제2차 만국평화회의에 특사를 파견했다. 그러나 특사들은 회의장에 들어가지도 못한 채 거절당했다. 열강의 냉담한 반응에 이준 열사는 규국하지 않고 순국하여 대한제국의 의지를 천명하였다. 이 일로 일본은 고종에 여러 처리 양해를 강요하였고, 결국 고종은 순종에게 대한제정창설을 명령케 이른다. 그러나 실제로 세자가 대신 정무를 보는 대리청정을 위임한 바였고 그 양위식은 1907년 7월 19일 중화전에서 치러졌다. 고종과 순종은 양위식 참석을 거부했다.\n",
      "\n",
      "!중화전 구조도\n",
      "\n",
      "### '드므'에 새겨진 '단세(檀世)'의 의미\n",
      "------------------------------------------------------------------------------------------\n",
      "2번째 문서\n",
      "내용:\n",
      "# 7 권내각사 터와 환구단\n",
      "關內各司址 · 圜丘壇\n",
      "\n",
      "----\n",
      "\n",
      "## 환구단, 황제국 선포를 하늘에 고하다\n",
      "------------------------------------------------------------------------------------------\n",
      "3번째 문서\n",
      "내용:\n",
      "# 9 중명전 일원\n",
      "重明殿\n",
      "\n",
      "## 황제국 건설의 희망과 절망\n",
      "\n",
      "중명전 일대는 경운궁을 확장할 때 가장 먼저 궁궐로 편입된 곳이지만, 경운궁과 중명전 사이에 이미 미국공사관이 자리 잡고 있던 터라 별궁처럼 되었다. 중명전은 러시아 건축가 사바틴이 설계한 2층의 붉은 벽돌 건물로 경운궁에 지어진 최초의 서양식 건물이었다. 처음에는 수옥헌으로 불리며 황실도서관으로 지어졌으나 1904년 대한제국 고종이 임시 기거하면서 연회장이나 외국 사절의 접견소로도 이용되었다. 수옥헌이 중명전으로 불리게 된 것은 1906년 이후로 보여 진다. 이 일대에는 환벽당과 만화당을 비롯한 10여 채의 전각들이 들어서 있었다. 1905년 을사늑약 체결된 곳도 중명전이고, 1907년 헤이그 만국평화회의의 특사 파견이 이루어진 곳도 중명전이다. 이처럼 중명전은 대한제국의 좌절과 국권 수호 의지가 모두 담긴 역사의 현장이다.\n",
      "\n",
      "!Image of 중명전 일원\n",
      "\n",
      "## 중명전에서 공포 분위기 속에 을사늑약 체결\n",
      "------------------------------------------------------------------------------------------\n",
      "4번째 문서\n",
      "내용:\n",
      "# 석조전 앞의 분수\n",
      "\n",
      "석조전 앞에 있는 정원과 청동제 분수는 서구형 정원으로 1938년에 조성된 것으로 알려져 있다. 우리의 전통 정원은 건물의 뒤에 배치하여 후원이라 하는 데 비해, 석조전은 건물 앞에 정원을 조성하였다. 또한 우리 전통 조경에서는 분수를 찾아볼 수 없는데, 이는 한국인의 자연관에서 비롯된 것이다. 우리 조상들은 물을 높은 곳에서 낮은 곳으로 흐르는 것이 자연의 이치라 여겼기에, 정원에 인공으로 폭포를 만들긴 했지만 물이 억으로 치솟는 분수는 만들지 않았던 것이다.\n",
      "\n",
      "!Image of a fountain in front of Seokjojeon\n",
      "\n",
      "# 덕수궁 미술관\n",
      "\n",
      "덕수궁 미술관 圖書館\n",
      "\n",
      "광명문 光明門\n",
      "\n",
      "석조전 石造殿\n",
      "\n",
      "!Illustration of Deoksugung Palace\n",
      "\n",
      "# 석조전을 시공한 오쿠라 토목회사\n",
      "------------------------------------------------------------------------------------------\n"
     ]
    }
   ],
   "source": [
    "query2 = \"이용시간을 알려줘\"\n",
    "\n",
    "# 리트리버를 사용하여 검색\n",
    "retrieved_docs2 = retriever2.invoke(query2)\n",
    "print_doc_contecnt(retrieved_docs2)"
   ]
  },
  {
   "cell_type": "code",
   "execution_count": 53,
   "id": "2a14b928",
   "metadata": {},
   "outputs": [
    {
     "name": "stdout",
     "output_type": "stream",
     "text": [
      "1번째 문서\n",
      "내용:\n",
      "### 헤이그 밀사 파견과 고종의 강제 양위\n",
      "\n",
      "고종은 일본과 맺은 을사늑약의 부당함을 세계 각국에 알리고자 1907년 6월 네덜란드 헤이그에서 열린 제2차 만국평화회의에 특사를 파견했다. 그러나 특사들은 회의장에 들어가지도 못한 채 거절당했다. 열강의 냉담한 반응에 이준 열사는 규국하지 않고 순국하여 대한제국의 의지를 천명하였다. 이 일로 일본은 고종에 여러 처리 양해를 강요하였고, 결국 고종은 순종에게 대한제정창설을 명령케 이른다. 그러나 실제로 세자가 대신 정무를 보는 대리청정을 위임한 바였고 그 양위식은 1907년 7월 19일 중화전에서 치러졌다. 고종과 순종은 양위식 참석을 거부했다.\n",
      "\n",
      "!중화전 구조도\n",
      "\n",
      "### '드므'에 새겨진 '단세(檀世)'의 의미\n",
      "------------------------------------------------------------------------------------------\n",
      "2번째 문서\n",
      "내용:\n",
      "관람정보\n",
      "\n",
      "# 관람정보\n",
      "\n",
      "100-120 서울시 중구 세종대로 99 / deoksugung.go.kr / 02-771-9952\n",
      "\n",
      "## 관람시간\n",
      "09:00~21:00  \n",
      "※ 매일 1시간 전까지 입장해야 하며 매주 월요일은 쉽니다\n",
      "\n",
      "## 입장요금\n",
      "- 어른(19~64세) 1,000원(10인 이상 800원)\n",
      "\n",
      "## 무료 안내 시간\n",
      "\n",
      "### 국어\n",
      "- 화~금요일: 10:00, 11:00, 14:00, 15:00, 16:00\n",
      "- 토요일: 10:00, 11:00, 14:00, 15:00, 16:30\n",
      "- 일요일: 10:00, 11:00, 14:00, 15:00, 16:30\n",
      "\n",
      "### 영어\n",
      "- 화, 수, 금요일: 10:30\n",
      "- 토, 일요일: 13:40\n",
      "\n",
      "### 일어\n",
      "- 화, 수, 금요일: 10:30\n",
      "- 화, 수, 금요일: 14:30\n",
      "- 토요일: 10:30, 14:30\n",
      "- 일요일: 10:30\n",
      "\n",
      "### 중국어\n",
      "- 화, 수, 금요일: 13:40\n",
      "- 토요일: 13:40\n",
      "- 일요일: 13:40\n",
      "------------------------------------------------------------------------------------------\n",
      "3번째 문서\n",
      "내용:\n",
      "# 석조전 앞의 분수\n",
      "\n",
      "석조전 앞에 있는 정원과 청동제 분수는 서구형 정원으로 1938년에 조성된 것으로 알려져 있다. 우리의 전통 정원은 건물의 뒤에 배치하여 후원이라 하는 데 비해, 석조전은 건물 앞에 정원을 조성하였다. 또한 우리 전통 조경에서는 분수를 찾아볼 수 없는데, 이는 한국인의 자연관에서 비롯된 것이다. 우리 조상들은 물을 높은 곳에서 낮은 곳으로 흐르는 것이 자연의 이치라 여겼기에, 정원에 인공으로 폭포를 만들긴 했지만 물이 억으로 치솟는 분수는 만들지 않았던 것이다.\n",
      "\n",
      "!Image of a fountain in front of Seokjojeon\n",
      "\n",
      "# 덕수궁 미술관\n",
      "\n",
      "덕수궁 미술관 圖書館\n",
      "\n",
      "광명문 光明門\n",
      "\n",
      "석조전 石造殿\n",
      "\n",
      "!Illustration of Deoksugung Palace\n",
      "\n",
      "# 석조전을 시공한 오쿠라 토목회사\n",
      "------------------------------------------------------------------------------------------\n",
      "4번째 문서\n",
      "내용:\n",
      "8 선원전 터  \n",
      "璿源殿址\n",
      "\n",
      "# 대한제국 영욕의 현장\n",
      "\n",
      "1897년 대한제국의 으뜸 궁궐이 된 경운궁은 예원학교와 덕수초등학교, 옛 경기여고 터를 포함하는 넓은 영역이었으나 1919년 고종황제가 세상을 떠난 후 궁역이 해체되면서 오늘의 덕수궁 영역으로 축소되었다. 현재의 석조전 뒤편에는 돈덕전(惇德殿)이 있었다. 서양 건축양식으로 지어진 돈덕전은 1907년 순종이 즉위한 곳이지만, 1922년 궁역 해체와 동시에 미국대사관과 덕수궁 사이에 도로가 개설되면서 철거되었다. 미국대사관저 서쪽에 위치한 중명전 일원에는 환벽정과 만희당 등이 있었으나 경술국치와 함께 해체되기 시작하여 현 예원학교 터의 토지 소유권은 미국감리교선교부, 이화학당에 넘어갔다.\n",
      "------------------------------------------------------------------------------------------\n"
     ]
    }
   ],
   "source": [
    "query2 = \"덕수궁에 대해 알려줘\"\n",
    "\n",
    "# 리트리버를 사용하여 검색\n",
    "retrieved_docs2 = retriever2.invoke(query2)\n",
    "print_doc_contecnt(retrieved_docs2)"
   ]
  },
  {
   "cell_type": "code",
   "execution_count": 56,
   "id": "38e0e141",
   "metadata": {},
   "outputs": [],
   "source": [
    "# 프롬프트를 생성합니다.\n",
    "prompt = PromptTemplate.from_template(\n",
    "    \"\"\"You are an assistant for question-answering tasks. \n",
    "Use the following pieces of retrieved context to answer the question. \n",
    "If you don't know the answer, just say that you don't know. \n",
    "Answer in Korean.\n",
    "\n",
    "#Context: \n",
    "{context}\n",
    "\n",
    "#Question:\n",
    "{question}\n",
    "\n",
    "#Answer:\"\"\"\n",
    ")\n",
    "\n",
    "llm = ChatOpenAI(model_name=\"gpt-4.1-mini\", temperature=0)\n",
    "\n",
    "chain = (\n",
    "    {\"context\": retriever2, \"question\": RunnablePassthrough()}\n",
    "    | prompt\n",
    "    | llm\n",
    "    | StrOutputParser() # 출력에 page_content내용만 보일 수 있도록\n",
    ")"
   ]
  },
  {
   "cell_type": "code",
   "execution_count": 57,
   "id": "08baa5d4",
   "metadata": {},
   "outputs": [
    {
     "name": "stdout",
     "output_type": "stream",
     "text": [
      "인목왕후가 감금되어 있었던 곳에 대한 정보는 주어진 문서들에 포함되어 있지 않습니다. 따라서 답변을 드릴 수 없습니다.\n"
     ]
    }
   ],
   "source": [
    "# 체인 실행(Run Chain)\n",
    "# 문서에 대한 질의를 입력하고, 답변을 출력합니다.\n",
    "question2 = \"인목왕후가 감금되어 있었던 곳인 어디인가?\"\n",
    "response2 = chain.invoke(question2)\n",
    "print(response2)"
   ]
  },
  {
   "cell_type": "code",
   "execution_count": 58,
   "id": "ed3f6c3f",
   "metadata": {},
   "outputs": [
    {
     "name": "stdout",
     "output_type": "stream",
     "text": [
      "고종이 침전으로 사용했던 건물은 선원전입니다.\n"
     ]
    }
   ],
   "source": [
    "# 체인 실행(Run Chain)\n",
    "# 문서에 대한 질의를 입력하고, 답변을 출력합니다.\n",
    "question2 = \"고종이 침전으로 사용했던 건물이 뭐야?\"\n",
    "response2 = chain.invoke(question2)\n",
    "print(response2)"
   ]
  },
  {
   "cell_type": "code",
   "execution_count": 59,
   "id": "96e2bd75",
   "metadata": {},
   "outputs": [
    {
     "name": "stdout",
     "output_type": "stream",
     "text": [
      "석조전은 덕수궁 내에 위치한 건물로, 서구형 건축 양식으로 지어진 궁전입니다. 주로 대한제국 시기 황실의 주요 공간으로 사용되었으며, 현재는 덕수궁 미술관 등으로 활용되고 있습니다.\n"
     ]
    }
   ],
   "source": [
    "# 체인 실행(Run Chain)\n",
    "# 문서에 대한 질의를 입력하고, 답변을 출력합니다.\n",
    "question2 = \"석조전에 용도가 뭐지?\"\n",
    "response2 = chain.invoke(question2)\n",
    "print(response2)"
   ]
  },
  {
   "cell_type": "code",
   "execution_count": 60,
   "id": "93569003",
   "metadata": {},
   "outputs": [
    {
     "name": "stdout",
     "output_type": "stream",
     "text": [
      "이용시간에 대한 정보는 제공된 문서 내에 없습니다.\n"
     ]
    }
   ],
   "source": [
    "# 체인 실행(Run Chain)\n",
    "# 문서에 대한 질의를 입력하고, 답변을 출력합니다.\n",
    "question2 = \"이용시간을 알려줘\"\n",
    "response2 = chain.invoke(question2)\n",
    "print(response2)"
   ]
  },
  {
   "cell_type": "code",
   "execution_count": 61,
   "id": "eaccc43a",
   "metadata": {},
   "outputs": [
    {
     "name": "stdout",
     "output_type": "stream",
     "text": [
      "덕수궁은 1897년 대한제국의 으뜸 궁궐로 지정된 경운궁을 중심으로 형성된 궁궐입니다. 원래 경운궁은 예원학교, 덕수초등학교, 옛 경기여고 터를 포함하는 넓은 영역이었으나, 1919년 고종황제 서거 이후 궁역이 해체되면서 현재의 덕수궁 영역으로 축소되었습니다.\n",
      "\n",
      "덕수궁 내에는 서양식 건축물인 석조전이 있으며, 석조전 앞에는 1938년에 조성된 서구형 정원의 청동제 분수가 있습니다. 이는 전통 한국 정원과 달리 건물 앞에 조성된 점과 분수의 형태가 독특한 특징입니다. 전통적으로 한국 정원은 건물 뒤에 후원으로 조성되며, 물이 높은 곳에서 낮은 곳으로 흐르는 자연의 이치를 중시해 인공 분수는 없었습니다.\n",
      "\n",
      "또한, 덕수궁에는 돈덕전, 중명전, 환벽정, 만희당 등 여러 건물이 있었으나 일제강점기와 경술국치 이후 일부가 철거되거나 해체되었습니다. 덕수궁은 대한제국의 역사적 현장이자 고종과 순종의 중요한 무대였던 곳입니다.\n",
      "\n",
      "덕수궁 관람은 서울시 중구 세종대로 99에 위치해 있으며, 관람시간은 오전 9시부터 오후 9시까지입니다(매주 월요일 휴무). 입장료는 어른 기준 1,000원이며, 무료 안내 시간에 맞춰 국어, 영어, 일어, 중국어 해설도 제공됩니다.\n"
     ]
    }
   ],
   "source": [
    "# 체인 실행(Run Chain)\n",
    "# 문서에 대한 질의를 입력하고, 답변을 출력합니다.\n",
    "question2 = \"덕수궁에 대해 알려줘\"\n",
    "response2 = chain.invoke(question2)\n",
    "print(response2)"
   ]
  },
  {
   "cell_type": "code",
   "execution_count": 62,
   "id": "afb668d4",
   "metadata": {},
   "outputs": [
    {
     "name": "stdout",
     "output_type": "stream",
     "text": [
      "롯데타워에 대한 정보는 제공된 문서들에 포함되어 있지 않습니다. 따라서 롯데타워가 어디에 있는지 알 수 없습니다.\n"
     ]
    }
   ],
   "source": [
    "# 체인 실행(Run Chain)\n",
    "# 문서에 대한 질의를 입력하고, 답변을 출력합니다.\n",
    "question2 = \"롯데타워는 어디야?\"\n",
    "response2 = chain.invoke(question2)\n",
    "print(response2)"
   ]
  },
  {
   "cell_type": "code",
   "execution_count": 75,
   "id": "352fe79c",
   "metadata": {},
   "outputs": [],
   "source": [
    "# 저장된 데이터를 로드\n",
    "dk_db2 = FAISS.load_local(\n",
    "    folder_path=\"faiss_db2\",\n",
    "    index_name=\"faiss_index\",\n",
    "    embeddings=embeddings,\n",
    "    allow_dangerous_deserialization=True,\n",
    ")"
   ]
  },
  {
   "cell_type": "code",
   "execution_count": 77,
   "id": "2affb19f",
   "metadata": {},
   "outputs": [
    {
     "name": "stdout",
     "output_type": "stream",
     "text": [
      "1번째 문서\n",
      "내용:\n",
      "석어당은 선조의 계비인 인목왕후 김씨가 10여 년간 감금생활을 했던 곳이다. 광해군은 왕위에 오른 후 자신의 왕위를 위협할 가능성이 있는 형제들을 차례로 제거하고 인목대비를 폐위시켜 경운궁에 유폐했다. 이때 경운궁은 서궁(西宮)으로 불렸다. 서궁 유폐는 결국 반정을 일으키는 구실이 되었다. 반정이 성공한 능양군(인조)은 경운궁으로 입궐해를 찾아 정통성을 인정받고 여기서 즉위했다. 유폐의 한이 맺혀 있던 인목대비는 석어당 앞마당에 광해군을 끌어내리고 36조의 죄를 물은 후 능운궁에서 묘사를 전하였다.\n",
      "  \n",
      "  \n",
      "  \n",
      "4 함녕전과 덕홍전\n",
      "\n",
      "# 함녕전과 덕홍전\n",
      "### 咸寧殿 · 德弘殿\n",
      "\n",
      "### 황제의 침전과 접견실\n",
      "------------------------------------------------------------------------------------------\n",
      "2번째 문서\n",
      "내용:\n",
      "## 환구단, 황제국 선포를 하늘에 고하다\n",
      "\n",
      "현재의 덕수궁 동쪽 담장 안쪽과 담장 너머 서울광장 일부는 궁궐 안 관청들이 있던 권내각사 일원이었다. 경운궁으로 정궁을 이전하면서 군사권을 관장하던 원수부와 황실의 업무를 보던 궁내부를 비롯해 기양원, 태의원, 전화국 등 여러 관청이 권내에 위치하게 되었다. 후에 태평로 개설로 인해 절반 이상의 건각이 사라졌고, 나머지 건각 역시 1933년 공원으로 조성되는 과정에서 철거되었다. 환구단은 현 서울광장 너머에 있었던 남별궁 터(현 조선호텔 자리)에 건축되었다. 남별궁은 본디 태종의 둘째 공주인 경정공주가 거주했던 곳으로 1583년(선조 16년)에 의안군이 거주하면서 남별궁이라 불렸다. 이후 인조 때 중국 사신을 접대하던 태평관이 철폐되자 중국 사신의 거처로 사용되다가, 1897년 고종이 황제에 오름을 하늘에 고하기 위한 환구단이 이곳에 건축되었다. 이후 1914년 조선철도호텔 건설 때 파괴되었으나 신위를 모셨던 황궁우와 돌북(石鼓)이 남아 대한제국의 흔적을 보여주고 있다. 환구단은 사적 제157호로 지정되었다.\n",
      "\n",
      "!Diagram of the area\n",
      "------------------------------------------------------------------------------------------\n",
      "3번째 문서\n",
      "내용:\n",
      "1900년에 완성된 선원전전에는 숙종을 비롯한 7위의 어진(御眞, 임금의 초상화)을 모신 황실의 격을 갖추었으며, 빈전(殯殿)과 혼전(魂殿)도 설치했다. 선원전 일대는 대한제국을 상징하는 신성한 공간이었으나, 1919년 고종황제 승하 후 1년제가 끝나자마자 일제는 어진들을 돌볼 사람이 없다는 이유로 선원전을 혈의 순종이 있는 창덕궁으로 옮겼고, 그 부지는 조선은행, 식산은행, 경성일보사 등에 매각했다. 이후 해인사와 불교중앙포교소와 경성여자공립보통학교(현 덕수초등학교 터), 경기여고터가 차례로 건축되면서 이 일대는 완전히 해체되었다. 현재는 경기여고 터의 선원전 복원을 비롯한 덕수궁 장기 복원계획이 수립되어 추진 중이다.\n",
      "\n",
      "!영친왕의 선원전 참배\n",
      "  \n",
      "  \n",
      "  \n",
      "영성문 대궐\n",
      "\n",
      "1900년 10월 14일에 궁궐 동쪽의 포덕문 안에 위치했던 선원전의 후지가 발생해 건물은 물론 연잇까지 모두 불타고 말았다. 고종은 영양을 고려 추정 중건하도록 명령을 내리고, 그 결과 복사적인 영성문(永成門) 안으로 옮겨지면서 선원전은 '영성문 대궐'로도 불렸다.  \n",
      "  \n",
      "  \n",
      "  \n",
      "선원전도(璿源殿圖)\n",
      "------------------------------------------------------------------------------------------\n",
      "4번째 문서\n",
      "내용:\n",
      "경운궁은 1897년 대한제국 출범과 함께 한국 근대사의 전면에 등장했다. 전성기 때의 경운궁은 현재 남아 있는 3배에 달하는 큰 궁궐이었다. 현재의 미국대사관 건너편 저쪽에는 중명전을 비롯해 황실 생활을 위한 전각들이 있었고, 북쪽에는 역대 임금들을 제사 지내는 선원전 일원이 있었으며, 동쪽에는 하늘에 제사 지내는 원구단은 실질하여 황제국의 위세를 과시했다. 그러나 고종황제가 황해에 물러나면서 경운궁은 선원제가 거처하는 궁으로 그 위상이 달라졌고 이름도 덕수궁으로 바뀌었다. 이후 칸나자 일부와 환구단이 철거되었고 이 지역은 대한제국의 상징 공간으로서의 위상을 잃게 되었다.\n",
      "\n",
      "고종이 승하한 뒤 1920년부터 일제가 선원전과 중명전 일대를 매각하여 궁역이 크게 줄어들었으며, 1933년에는 많은 건물들을 철거하고 공원으로 조성하여 일부에 공개했다. 이처럼 덕수궁은 일제강점기를 거치면서 원형을 거의 찾아볼 수 없을 정도로 훼손되었으나, 임진왜란과 대한제국기의 역사를 겪은 궁궐로 국난 극복의 상징적 공간이자 그 중심이었다.\n",
      "\n",
      "!덕수궁\n",
      "\n",
      "주변의 높은 빌딩으로 둘러싸인 덕수궁\n",
      "  \n",
      "  \n",
      "  \n",
      "# 1 대한문 일원\n",
      "大漢門\n",
      "\n",
      "**대한제국, 근대 세계를 향해 문을 열다**\n",
      "------------------------------------------------------------------------------------------\n"
     ]
    }
   ],
   "source": [
    "# 리트리버 생성\n",
    "retriever3 = dk_db2.as_retriever()\n",
    "\n",
    "# 검색할 질의(Query)\n",
    "query3 = \"인목왕후가 감금되어 있었던 곳인 어디인가?\"\n",
    "\n",
    "# 리트리버를 사용하여 검색\n",
    "retrieved_docs3 = retriever3.invoke(query3)\n",
    "print_doc_contecnt(retrieved_docs3)"
   ]
  },
  {
   "cell_type": "code",
   "execution_count": null,
   "id": "dbc473a3",
   "metadata": {},
   "outputs": [],
   "source": []
  }
 ],
 "metadata": {
  "kernelspec": {
   "display_name": "langchain-kr-IB4QDBKG-py3.11",
   "language": "python",
   "name": "python3"
  },
  "language_info": {
   "codemirror_mode": {
    "name": "ipython",
    "version": 3
   },
   "file_extension": ".py",
   "mimetype": "text/x-python",
   "name": "python",
   "nbconvert_exporter": "python",
   "pygments_lexer": "ipython3",
   "version": "3.11.9"
  }
 },
 "nbformat": 4,
 "nbformat_minor": 5
}
