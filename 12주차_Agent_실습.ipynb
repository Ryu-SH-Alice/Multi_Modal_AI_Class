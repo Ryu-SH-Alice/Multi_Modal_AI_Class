{
 "cells": [
  {
   "cell_type": "markdown",
   "id": "51d150e7",
   "metadata": {},
   "source": [
    "# Tool, Agent 학습"
   ]
  },
  {
   "cell_type": "markdown",
   "id": "1078573d",
   "metadata": {},
   "source": [
    "## Agent\n",
    "- LLM과 결합하여 복잡한 문제를 추론 능력과 도구를 이용하여 스스로 해결\n",
    "- 계획-실행-반복의 순환 구조\n",
    "- 에이전트는 주어진 목표를 달성하기 위해 필요한 단계를 스스로 계획하고 실행\n",
    "\n",
    "\n",
    "**주요 동작 흐름**\n",
    "\n",
    "1. 사용자 질문 (질문): 사용자가 \"판교 용중헌 전화번호가 뭐야?\"와 같은 질문을 합니다. 이 질문은 LLM이 자체적으로는 답할 수 없는 외부 정보에 대한 요청입니다.\n",
    "\n",
    "2. 생각 (Thought): LLM은 질문을 분석하고, \"어떤 도구를 사용해야 할까?\"라고 스스로 생각합니다.\n",
    "\n",
    "3. 행동 (Action): 이 단계는 LLM은 결정한 도구로 계획을 실제 행동으로 옮기는 과정입니다.\n",
    "\n",
    "4. 관찰 (Observation): 도구가 실행되면, 실행 결과가 반환됩니다. 이는 LLM이 행동의 결과를 '관찰'하는 단계입니다. 이 관찰 결과를 통해 LLM은 원하는 정보를 얻었는지 확인합니다.\n",
    "\n",
    "5. 정보 확인 및 반복: LLM은 '관찰'된 검색 결과가 질문에 대한 답인지 확인합니다.\n",
    "    YES: 만약 검색 결과에 \"판교 용중헌 전화번호: XXX-XXXX-XXXX\"와 같이 원하는 정보가 있다면, LLM은 최종 답변을 생성하고 동작을 종료합니다.\n",
    "\n",
    "    NO: 만약 검색 결과가 불완전하거나 원하는 정보를 찾지 못했다면, 다시 생각 (Thought) 단계로 돌아가 다른 검색어를 사용하거나 다른 도구를 시도하는 등 새로운 계획을 세웁니다.\n"
   ]
  },
  {
   "cell_type": "markdown",
   "id": "2b50c576",
   "metadata": {},
   "source": [
    "### 0. 환경설정"
   ]
  },
  {
   "cell_type": "code",
   "execution_count": 1,
   "id": "a7c88279",
   "metadata": {},
   "outputs": [
    {
     "data": {
      "text/plain": [
       "True"
      ]
     },
     "execution_count": 1,
     "metadata": {},
     "output_type": "execute_result"
    }
   ],
   "source": [
    "# API 키를 환경변수로 관리하기 위한 설정 파일\n",
    "from dotenv import load_dotenv\n",
    "\n",
    "# API 키 정보 로드\n",
    "load_dotenv()"
   ]
  },
  {
   "cell_type": "code",
   "execution_count": 2,
   "id": "9abaf793",
   "metadata": {},
   "outputs": [
    {
     "name": "stdout",
     "output_type": "stream",
     "text": [
      "LangSmith 추적을 시작합니다.\n",
      "[프로젝트명]\n",
      "CH15-Agents\n"
     ]
    }
   ],
   "source": [
    "# LangSmith 추적을 설정합니다. https://smith.langchain.com\n",
    "# !pip install -qU langchain-teddynote\n",
    "from langchain_teddynote import logging\n",
    "\n",
    "# 프로젝트 이름을 입력합니다.\n",
    "logging.langsmith(\"CH15-Agents\")"
   ]
  },
  {
   "cell_type": "markdown",
   "id": "378ae0f9",
   "metadata": {},
   "source": [
    "## 도구(Tool)\n",
    "LLM이 외부와 상호작용하기 위한 인터페이스"
   ]
  },
  {
   "cell_type": "markdown",
   "id": "c864b33a",
   "metadata": {},
   "source": [
    "### PythonREPLTool"
   ]
  },
  {
   "cell_type": "code",
   "execution_count": 3,
   "id": "e1f7c74f",
   "metadata": {},
   "outputs": [],
   "source": [
    "from langchain_experimental.tools import PythonREPLTool\n",
    "\n",
    "# Agent에 바로 붙여서 사용\n",
    "# 파이썬 코드를 실행하는 도구를 생성합니다.\n",
    "python_tool = PythonREPLTool()"
   ]
  },
  {
   "cell_type": "code",
   "execution_count": 4,
   "id": "f1cc7601",
   "metadata": {},
   "outputs": [
    {
     "name": "stderr",
     "output_type": "stream",
     "text": [
      "Python REPL can execute arbitrary code. Use with caution.\n"
     ]
    },
    {
     "name": "stdout",
     "output_type": "stream",
     "text": [
      "300\n",
      "\n"
     ]
    }
   ],
   "source": [
    "# 파이썬 코드를 실행하고 결과를 반환합니다.\n",
    "print(python_tool.invoke(\"print(100 + 200)\"))"
   ]
  },
  {
   "cell_type": "code",
   "execution_count": 8,
   "id": "a8ad80a9",
   "metadata": {},
   "outputs": [],
   "source": [
    "from langchain_openai import ChatOpenAI\n",
    "from langchain_core.prompts import ChatPromptTemplate\n",
    "from langchain_core.output_parsers import StrOutputParser\n",
    "from langchain_core.runnables import RunnableLambda\n",
    "\n",
    "def print_and_execute(code, debug=False):\n",
    "    if debug:\n",
    "        print(\"CODE: \")\n",
    "        print(code)\n",
    "    return python_tool.invoke(code)\n",
    "\n",
    "# 파이썬코드 작성을 요청\n",
    "prompt = ChatPromptTemplate.from_messages(\n",
    "    [\n",
    "        (\n",
    "            \"system\",\n",
    "            \"You are Raymond Hetting, an expert python programmer, well versed in meta-programming and elegant, concise and short but well documented code. You follow the PEP8 style guide. \"\n",
    "            \"Return only the code, no intro, no explanation, no chatty, no markdown, no code block, no nothing. Just the code.\",\n",
    "        ),\n",
    "        (\"human\", \"{input}\"),\n",
    "    ]\n",
    ")\n",
    "\n",
    "\n",
    "# LLM 모델 생성\n",
    "llm = ChatOpenAI(model=\"gpt-4o\", temperature=0)\n",
    "\n",
    "# StrOutputParser까지 실행하면 코드를 받아온다(content를 확인하면 알수 있음)\n",
    "# RunnableLambda 코드를 바다아서 실행한다\n",
    "chain = prompt | llm | StrOutputParser() | RunnableLambda(print_and_execute)"
   ]
  },
  {
   "cell_type": "code",
   "execution_count": null,
   "id": "427d4695",
   "metadata": {},
   "outputs": [
    {
     "name": "stdout",
     "output_type": "stream",
     "text": [
      "import random\n",
      "\n",
      "def generate_lotto_numbers():\n",
      "    return sorted(random.sample(range(1, 46), 6))\n",
      "\n",
      "print(generate_lotto_numbers())\n"
     ]
    }
   ],
   "source": [
    "# 결과 출력(StrOutputParser까지 실행)\n",
    "print(chain.invoke(\"로또 번호 생성기를 출력하는 코드를 작성하세요.\"))"
   ]
  },
  {
   "cell_type": "code",
   "execution_count": null,
   "id": "f53d8502",
   "metadata": {},
   "outputs": [
    {
     "name": "stdout",
     "output_type": "stream",
     "text": [
      "[8, 18, 22, 28, 29, 37]\n",
      "\n"
     ]
    }
   ],
   "source": [
    "# 결과 출력(RunnableLambda까지 실행)\n",
    "print(chain.invoke(\"로또 번호 생성기를 출력하는 코드를 작성하세요.\"))"
   ]
  },
  {
   "cell_type": "markdown",
   "id": "cca57744",
   "metadata": {},
   "source": [
    "### Tavily 검색 API를 활용하여 검색"
   ]
  },
  {
   "cell_type": "code",
   "execution_count": 10,
   "id": "8e02cdab",
   "metadata": {},
   "outputs": [
    {
     "name": "stderr",
     "output_type": "stream",
     "text": [
      "C:\\Users\\yujap\\AppData\\Local\\Temp\\ipykernel_10756\\1850249003.py:4: LangChainDeprecationWarning: The class `TavilySearchResults` was deprecated in LangChain 0.3.25 and will be removed in 1.0. An updated version of the class exists in the :class:`~langchain-tavily package and should be used instead. To use it run `pip install -U :class:`~langchain-tavily` and import as `from :class:`~langchain_tavily import TavilySearch``.\n",
      "  tool = TavilySearchResults(\n"
     ]
    }
   ],
   "source": [
    "from langchain_community.tools.tavily_search import TavilySearchResults\n",
    "\n",
    "# 도구 생성\n",
    "tool = TavilySearchResults(\n",
    "    # 반환할 최대 검색 결과수 \n",
    "    max_results=6,\n",
    "    # 짧은 답변 포함여부\n",
    "    include_answer=True,\n",
    "    # html 컨텐츠 포함여부\n",
    "    include_raw_content=True,\n",
    "    # include_images=True,\n",
    "\n",
    "    # 검색 깊이\n",
    "    # advanced를 사용하면 더 자세히 조사하는 대신 비용이 더 든다\n",
    "    # search_depth=\"advanced\", # or \"basic\"\n",
    "\n",
    "    # 검색을 할 도메인을 지정\n",
    "    include_domains=[\"github.io\", \"wikidocs.net\"],\n",
    "\n",
    "    # 검색에서 제외할 도메인 목록 지정\n",
    "    # exclude_domains = []\n",
    ")"
   ]
  },
  {
   "cell_type": "code",
   "execution_count": null,
   "id": "12b27bc6",
   "metadata": {},
   "outputs": [],
   "source": [
    "# 도구 실행\n",
    "tool.invoke({\"query\": \"Gemini에 대해 알려주세요\"})"
   ]
  },
  {
   "cell_type": "markdown",
   "id": "15d0de6e",
   "metadata": {},
   "source": [
    "### 사용자 정의 도구"
   ]
  },
  {
   "cell_type": "code",
   "execution_count": 13,
   "id": "e6611726",
   "metadata": {},
   "outputs": [],
   "source": [
    "from langchain.tools import tool\n",
    "\n",
    "@tool\n",
    "def add_numbers(a: int, b: int) -> int:\n",
    "    \"\"\"Add tow numbers\"\"\"\n",
    "    return a+b\n",
    "\n",
    "\n",
    "@tool\n",
    "def multiply_numbers(a: int, b: int) -> int:\n",
    "    \"\"\"Add tow numbers\"\"\"\n",
    "    return a*b"
   ]
  },
  {
   "cell_type": "code",
   "execution_count": null,
   "id": "ae864ebf",
   "metadata": {},
   "outputs": [
    {
     "data": {
      "text/plain": [
       "7"
      ]
     },
     "execution_count": 15,
     "metadata": {},
     "output_type": "execute_result"
    }
   ],
   "source": [
    "# tool 실행\n",
    "add_numbers.invoke({\"a\":3, \"b\":4})"
   ]
  },
  {
   "cell_type": "code",
   "execution_count": null,
   "id": "6ecdd75e",
   "metadata": {},
   "outputs": [
    {
     "data": {
      "text/plain": [
       "15"
      ]
     },
     "execution_count": 16,
     "metadata": {},
     "output_type": "execute_result"
    }
   ],
   "source": [
    "# tool 실행\n",
    "multiply_numbers.invoke({\"a\":3, \"b\":5})"
   ]
  },
  {
   "cell_type": "markdown",
   "id": "d434705d",
   "metadata": {},
   "source": [
    "### 뉴스기사 검색도구"
   ]
  },
  {
   "cell_type": "code",
   "execution_count": 17,
   "id": "60889dad",
   "metadata": {},
   "outputs": [
    {
     "data": {
      "text/plain": [
       "[{'url': 'https://news.google.com/rss/articles/CBMib0FVX3lxTE5OZHNfZEdDR2lSMDF2dGZHVEZrSTBoMjJiQk1DX3dEQXc2SkdVSmwwTk5oUGJXSXNVUXBidTlYbWpybldmbFhZakZQbEJqQW55RmhTbHZ5WU9xSTdRaE4wdUozLTZkRDVNcjRmVk43SQ?oc=5',\n",
       "  'content': '구금 한국인 출국 절차 시작...재입국 불이익 우려 해소될까 - 한겨레'},\n",
       " {'url': 'https://news.google.com/rss/articles/CBMiWkFVX3lxTFBrZkQ0NklGXzlqNVo1NkpPOXMyX3FSdUZWWENGdGRPYnFSRnZEYWVkMFJXckVmYXpRVFgzX3pDM2ZSdXAxYlhGR3M3dkRvMk1UUXpzQjdPbFAzZ9IBX0FVX3lxTE1UUnpJWE1fVTdEUVRvMVJMODNYblB1RDgzSHduWEJKN01mb0JfUHg0QmtpUVlqLS1ianprUTZZaDBtNmdxVEdCWkZQUWc2OVc4WGJxeTZ2OENaWDNXQmtR?oc=5',\n",
       "  'content': '특검 “권성동, 비서관 통해 공범에 몰래 접촉 시도···증거인멸 우려” - 경향신문'}]"
      ]
     },
     "execution_count": 17,
     "metadata": {},
     "output_type": "execute_result"
    }
   ],
   "source": [
    "from langchain_teddynote.tools import GoogleNews\n",
    "\n",
    "# 도구 생성\n",
    "news_tool = GoogleNews()\n",
    "# 최신 뉴스 검색\n",
    "news_tool.search_latest(k=2)"
   ]
  },
  {
   "cell_type": "code",
   "execution_count": 18,
   "id": "aaa05f36",
   "metadata": {},
   "outputs": [
    {
     "data": {
      "text/plain": [
       "[{'url': 'https://news.google.com/rss/articles/CBMi0AFBVV95cUxOeUZIMnpXVXFWQ1ZWVVF1OEZvNHBDYWNMeEJGM2padXQ0dUtuV2hLblhBZDl4QUNzd0FrN0lRVDBGVU5GaGRjRmxKQzJuMWNQUkRfaW0yd1R0ak1HUm51TDVkd3FBNmc3dlUxdUpsaUVkVUpqS0JWUGc3Sk90WHhoaHh0ZVdkZ2FCWFlKYmxaaFd2UEplamRqVDdINlNuU3JhZS1CbzJHZDVIdWNES0p6MFZWV1ZNbFY0bEdWaHpIeWE1aVBmbnFBYUE3c1V6TUd4?oc=5',\n",
       "  'content': '기술 9/9: 중국 AI 기업 5,000개 돌파, OpenAI 1,150억 달러 투자, Deep Fission 지하 원자로 가동 - Vietnam.vn'},\n",
       " {'url': 'https://news.google.com/rss/articles/CBMigwFBVV95cUxQMmQ3ejBfYmZoODdaaGVaZDdld295VVd1LTRheUY3SVAtZWMyQnBxSHVORFdnZ3A0REktNDZIUHh1cHBsN192dVBXRGhhWi1sb3ZiZk9XS2V1ZXhQZVdIemdvaVNtQ210N2ZuZGgzSXQ1dE1BQVBGX3lPZkwxRTVwOC1mZw?oc=5',\n",
       "  'content': 'OpenAI, 2029년까지 AI 도입에 1,150억 달러 규모 투자 예상 - Cryptopolitan'},\n",
       " {'url': 'https://news.google.com/rss/articles/CBMidkFVX3lxTE5ZUUktTTJJNDZmMGhzdFVQWkhidHNsUThmbTJRRi1yd3BXY2R4M19SU3NlT3pieFlHVHcxUUl2YUFmRlJCaGV4U2pVbktKSU1sN0t6OEZqMHE1ZXhqNXB6UVRSQk5GVmtFajJReXp2NEJ6MVdWX3c?oc=5',\n",
       "  'content': 'Foundry Models에서의 Azure OpenAI - Microsoft Azure'}]"
      ]
     },
     "execution_count": 18,
     "metadata": {},
     "output_type": "execute_result"
    }
   ],
   "source": [
    "# 키워드로 뉴스 검색\n",
    "news_tool.search_by_keyword(\"openai\", k=3)"
   ]
  },
  {
   "cell_type": "code",
   "execution_count": 19,
   "id": "30bcf478",
   "metadata": {},
   "outputs": [],
   "source": [
    "from langchain_teddynote.tools import GoogleNews\n",
    "from langchain.tools import tool\n",
    "from typing import List, Dict\n",
    "\n",
    "\n",
    "# 키워드로 뉴스 검색하는 도구 생성\n",
    "@tool\n",
    "def search_keyword(query: str) -> List[Dict[str, str]]:\n",
    "    \"\"\"Look up news by keyword\"\"\"\n",
    "    print(query)\n",
    "    news_tool = GoogleNews()\n",
    "    return news_tool.search_by_keyword(query, k=5)"
   ]
  },
  {
   "cell_type": "code",
   "execution_count": 20,
   "id": "0901d8a4",
   "metadata": {},
   "outputs": [
    {
     "name": "stdout",
     "output_type": "stream",
     "text": [
      "Google gemini\n"
     ]
    },
    {
     "data": {
      "text/plain": [
       "[{'url': 'https://news.google.com/rss/articles/CBMi5wJBVV95cUxPWXFtN01vZzJERDZSSWhsUVJVejZvYkl2QU1TYV9ZSHE4bUphMHFLR1NucGU3eE5KR0QwazBfNEhLWE9nUW5qUGtuUGhoMkxZaW9lRkF3OGJCR2tTYkN1NktpR0MxeU1qdy1zV1JVRnRiUF9sdjFWQmtTWnh1THI1Wlo2Si1tT0ZNZnNHRGNCbkJEOHFzR3RkUlpWSElQNkR0dktscl9xNktyVUlaSlUtRE9GVHFuQzVDQlhidHREMTZEOWJzcDBUMGVUVUJObF9OcGt6b2JKY3l6QUxUM0w5bktKZXR1TUViNDQ1Sm9PWV81VWlPeWVUWmVXSVA2Q0c4SnZoLS1TQ0ZfRFU3SUs0ZkdxQzZkYkpXeWtUYlRmVHJKdDl4R0NSZ3ZZelQ2RlJKZC12Q0tOd2lzVlU5REhsUnhJNzdYLUIzN284R3dmU0ZTT3VGdEJGb0tsaFEwUENUUDg1d3Rybw?oc=5',\n",
       "  'content': 'Google Search AI 모드는 이제 Gemini 2.5의 사용자 정의 버전을 사용하여 상세하고 개인적인 답변을 제공하는 전 세계적으로 힌디어로 제공됩니다. - pohangtong.com'},\n",
       " {'url': 'https://news.google.com/rss/articles/CBMiSEFVX3lxTFA5U2Ewa3pPU3lZMW96U3VHbFZHU3FQb01QUktUODFTVXd2elJkYll6MjZvTFV1a2RmNHdsRXZoM0piRWtBSWIwWA?oc=5',\n",
       "  'content': 'AI 환경 영향 분석: 구글 Gemini 실제 검증 - 브런치스토리'},\n",
       " {'url': 'https://news.google.com/rss/articles/CBMifEFVX3lxTFBJZVU3cDN5eVhKMUM1eXRDeDFPeGF3NURtTzdGQzU3SjExQ2hBMm9jQ3VKUGZtcldtTnVpS2J3QXV6UllMVDNWWDNFRUxhZ1lPYU5Bd0lvWFdiVl95SnN4R3JQZFhST0hSb0xOMjh3ZmFiaW9tTkNfRGJXZ1E?oc=5',\n",
       "  'content': '최첨단 이미지 모델 Gemini 2.5 Flash Image 출시 - Google for Developers Blog'},\n",
       " {'url': 'https://news.google.com/rss/articles/CBMiiwFBVV95cUxNQnRXX0VZaThKeENGQXZpbGVJSEw3VU1IR0NiREdEdVVKcFJVeTdNN3JQLTFtbDBLWVdpc29RSkIxZ1ZrMGZ2YnNYcncxTlhEaUYtZm9BY2F3Tl82QmhOUnBjbm54NU1sb0xEa2p3ZW93REhFaVQ4LUQ2TC1hQnNWNml3d3IxeEEzQXk4?oc=5',\n",
       "  'content': '아이러니하게도 새로운 Apple Siri는...Google Gemini에 의해 구동됩니다. - Vietnam.vn'},\n",
       " {'url': 'https://news.google.com/rss/articles/CBMifEFVX3lxTE5iSmRBVGg3QVJkUGh4R2hBOGkwZ1JyWW9IWkFlZHF3bXhKVWJUa041QlhieVJtM2ltWVZvSV9RekpheHVfSnk3NmJPMFNPeWRPSmJ5b1pBZHN6LWFJWkNuVzRIWG9Nb29YRXVMR1JmV0JiekNSTTEtX0lmWjU?oc=5',\n",
       "  'content': '구글 제미니, 새로운 평가에서 젊은 사용자에게 고위험으로 분류 - Cryptopolitan'}]"
      ]
     },
     "execution_count": 20,
     "metadata": {},
     "output_type": "execute_result"
    }
   ],
   "source": [
    "# 실행 결과\n",
    "search_keyword.invoke({\"query\": \"Google gemini\"})"
   ]
  },
  {
   "cell_type": "markdown",
   "id": "4df51f0d",
   "metadata": {},
   "source": [
    "## Agent\n",
    "### 1.도구생성"
   ]
  },
  {
   "cell_type": "code",
   "execution_count": 21,
   "id": "bcd9bcff",
   "metadata": {},
   "outputs": [
    {
     "name": "stdout",
     "output_type": "stream",
     "text": [
      "도구 이름: search_news\n",
      "도구 설명: Search Google News by input keyword\n",
      "도구 이름: python_repl_tool\n",
      "도구 설명: Use this to execute python code. If you want to see the output of a value,\n",
      "    you should print it out with `print(...)`. This is visible to the user.\n",
      "도구 이름: read_pdf_with_llamaparse\n",
      "도구 설명: Read a PDF file and return its structured content using LlamaParse.\n",
      "    The function takes the file path as input and returns text formatted as markdown.\n"
     ]
    }
   ],
   "source": [
    "from langchain.tools import tool\n",
    "from typing import List, Dict, Annotated\n",
    "from langchain_teddynote.tools import GoogleNews\n",
    "from langchain_experimental.utilities import PythonREPL\n",
    "from llama_parse import LlamaParse\n",
    "\n",
    "# 도구 생성\n",
    "# GoogleNews 2건을 검색\n",
    "@tool\n",
    "def search_news(query: str) -> List[Dict[str, str]]:\n",
    "    \"\"\"Search Google News by input keyword\"\"\"\n",
    "    news_tool = GoogleNews()\n",
    "    return news_tool.search_by_keyword(query, k=2)\n",
    "\n",
    "\n",
    "@tool\n",
    "def python_repl_tool(\n",
    "    code: Annotated[str, \"The python code to execute to generate your chart.\"],\n",
    "):\n",
    "    \"\"\"Use this to execute python code. If you want to see the output of a value,\n",
    "    you should print it out with `print(...)`. This is visible to the user.\"\"\"\n",
    "    result = \"\"\n",
    "    try:\n",
    "        result = PythonREPL().run(code)\n",
    "    except BaseException as e:\n",
    "        print(f\"Failed to execute. Error: {repr(e)}\")\n",
    "    finally:\n",
    "        return result\n",
    "    \n",
    "\n",
    "\n",
    "@tool\n",
    "def read_pdf_with_llamaparse(file_path: str) -> str:\n",
    "    \"\"\"Read a PDF file and return its structured content using LlamaParse.\n",
    "    The function takes the file path as input and returns text formatted as markdown.\n",
    "    \"\"\"\n",
    "    try:\n",
    "        # LlamaParse 객체 초기화\n",
    "        parser = LlamaParse(\n",
    "            result_type=\"markdown\"  # 결과를 마크다운 형식으로 반환하도록 설정\n",
    "        )\n",
    "\n",
    "        # PDF 파일 파싱\n",
    "        # parse 메서드는 내부적으로 API를 호출하여 파일을 처리\n",
    "        documents = parser.load_data(file_path)\n",
    "\n",
    "        # 파싱된 문서의 내용을 하나의 문자열로 결합\n",
    "        if not documents:\n",
    "            return \"No content found in the PDF file.\"\n",
    "\n",
    "        full_content = \"\"\n",
    "        for doc in documents:\n",
    "            full_content += doc.text\n",
    "        \n",
    "        return full_content\n",
    "    \n",
    "    except Exception as e:\n",
    "        return f\"Error using LlamaParse: {e}\"\n",
    "    \n",
    "\n",
    "print(f\"도구 이름: {search_news.name}\")\n",
    "print(f\"도구 설명: {search_news.description}\")\n",
    "print(f\"도구 이름: {python_repl_tool.name}\")\n",
    "print(f\"도구 설명: {python_repl_tool.description}\")\n",
    "\n",
    "print(f\"도구 이름: {read_pdf_with_llamaparse.name}\")\n",
    "print(f\"도구 설명: {read_pdf_with_llamaparse.description}\")\n"
   ]
  },
  {
   "cell_type": "code",
   "execution_count": 23,
   "id": "19345399",
   "metadata": {},
   "outputs": [],
   "source": [
    "# tools 정의\n",
    "tools = [search_news, python_repl_tool,read_pdf_with_llamaparse]"
   ]
  },
  {
   "cell_type": "markdown",
   "id": "53c14dfd",
   "metadata": {},
   "source": [
    "### 2. Agent 프롬프트 생성"
   ]
  },
  {
   "cell_type": "code",
   "execution_count": 26,
   "id": "957589c2",
   "metadata": {},
   "outputs": [],
   "source": [
    "from langchain_core.prompts import ChatPromptTemplate\n",
    "\n",
    "# 프롬프트 생성\n",
    "# 프롬프트는 에이전트에게 모델이 수행할 작업을 설명하는 텍스트를 제공합니다. (도구의 이름과 역할을 입력)\n",
    "prompt = ChatPromptTemplate.from_messages(\n",
    "    [\n",
    "        (\n",
    "            \"system\",\n",
    "            \"You are a helpful assistant. \"\n",
    "            \"Make sure to use the `read_pdf_with_llamaparse` tool for load pdf file.\",\n",
    "        ),\n",
    "        (\"placeholder\", \"{chat_history}\"), # 멀티턴일때 사용\n",
    "        (\"human\", \"{input}\"),\n",
    "        (\"placeholder\", \"{agent_scratchpad}\"), # agent가 동작하면서 중간중간 메모를 남김\n",
    "    ]\n",
    ")"
   ]
  },
  {
   "cell_type": "markdown",
   "id": "9b95ee27",
   "metadata": {},
   "source": [
    "### 3. Agent 생성"
   ]
  },
  {
   "cell_type": "code",
   "execution_count": 29,
   "id": "ef846620",
   "metadata": {},
   "outputs": [],
   "source": [
    "## 3. Agent 생성\n",
    "from langchain_openai import ChatOpenAI\n",
    "from langchain.agents import create_tool_calling_agent\n",
    "\n",
    "# LLM 정의\n",
    "llm = ChatOpenAI(model=\"gpt-4o-mini\", temperature=0)\n",
    "\n",
    "# Agent 생성\n",
    "agent = create_tool_calling_agent(llm, tools, prompt)"
   ]
  },
  {
   "cell_type": "markdown",
   "id": "079e06b8",
   "metadata": {},
   "source": [
    "### 4. AgentExecutor"
   ]
  },
  {
   "cell_type": "code",
   "execution_count": 31,
   "id": "342df220",
   "metadata": {},
   "outputs": [
    {
     "name": "stdout",
     "output_type": "stream",
     "text": [
      "\n",
      "\n",
      "\u001b[1m> Entering new AgentExecutor chain...\u001b[0m\n",
      "\u001b[32;1m\u001b[1;3m\n",
      "Invoking: `read_pdf_with_llamaparse` with `{'file_path': 'data/deoksugung.pdf'}`\n",
      "\n",
      "\n",
      "\u001b[0mStarted parsing the file under job_id d64c7d8f-7957-495e-9c76-dbe37f4c9643\n",
      "\u001b[38;5;200m\u001b[1;3m관람정보\n",
      "# 관람정보\n",
      "\n",
      "100-120 서울시 중구 세종대로 99 / deoksugung.go.kr / 02-771-9952\n",
      "\n",
      "# 관람시간\n",
      "\n",
      "09:00~21:00\n",
      "\n",
      "●마감 1시간 전까지 입장해야 하며 매주 월요일은 쉽니다\n",
      "\n",
      "# 입장요금\n",
      "\n",
      "어른(19~64세) 1,000원(10인 이상 800원)\n",
      "\n",
      "# 무료 안내 시간\n",
      "\n",
      "| 국어                         | 화                                 | 수                                        | 목요일                                             | 금요일 | 토요일     | 일요일     |     |\n",
      "| -------------------------- | --------------------------------- | ---------------------------------------- | ----------------------------------------------- | --- | ------- | ------- | --- |\n",
      "| 11:00, 14:00, 15:00, 16:30 | 10:00, 11:00, 14:00, 15:00, 16:30 | 10:00, 11:00, 13:00, 14:00, 15:00, 16:30 | 11:00, 13:00, 13:30, 14:00, 14:30, 15:00, 16:30 |     |         |         |     |\n",
      "| 영어                         | 공휴일                               | 화                                        | 수                                               | 목   | 금요일     | 토       | 일요일 |\n",
      "| 10:00, 11:00, 14:00, 15:00 | 10:30                             | 13:40                                    |                                                 |     |         |         |     |\n",
      "| 일어                         | 화                                 | 수                                        | 목                                               | 금요일 | 홀수달 토요일 | 짝수달 일요일 |     |\n",
      "| 09:30, 14:30               | 09:30                             |                                          |                                                 |     |         |         |     |\n",
      "| 중국어                        | 화                                 | 수                                        | 목                                               | 금요일 | 짝수달 토요일 | 홀수달 일요일 |     |\n",
      "| 13:40                      | 13:40                             |                                          |                                                 |     |         |         |     |\n",
      "\n",
      "●금천교를 지나 종합안내판 앞에서 출발하여 약 1시간 정도 소요됩니다\n",
      "\n",
      "●공휴일에는 외국어 안내가 없습니다\n",
      "\n",
      "●자원봉사단체 주말 무료 해설\n",
      "\n",
      "우리궁궐지킴이(전화 02-723-4206, www.rekor.or.kr)\n",
      "\n",
      "우리궁궐길라잡이(전화 02-2273-2276, www.palaceguide.or.kr)\n",
      "\n",
      "# 교통안내\n",
      "\n",
      "지하철: 시청역(1호선) 2번출구, (2호선) 12번 출구\n",
      "\n",
      "버스: 간선(파랑) 101, 103, 150, 172, 263, 401, 402, 406, 408, 421, 472, 504, 507, 600, 602, 603, 604, 607, 703\n",
      "\n",
      "지선(초록) 631, 1002, 1711, 7011, 7016, 7019, 7022\n",
      "\n",
      "광역(빨강) 8600\n",
      "\n",
      "● 자세한 버스 노선은 서울시 홈페이지(http://bus.seoul.go.kr)참고\n",
      "\n",
      "● 매주 월요일(덕수궁, 창덕궁, 창경궁)과 화요일(경복궁, 종묘)은 쉽니다\n",
      "\n",
      "# 통합관람\n",
      "\n",
      "문화재청은 4대궁 및 종묘를 대상으로, 관람객들의 관람 편의 제공을 위해 통합관람 제도를 시행하고 있습니다\n",
      "\n",
      "통합관람 대상 / 4대궁(경복궁, 창덕궁, 창경궁, 덕수궁) 및 종묘\n",
      "\n",
      "통합관람 요금 / 10,000원(각각의 관람권 개별 구입 시 14,000원)\n",
      "\n",
      "통합관람권 구입처 / 4대궁 및 종묘의 매표소\n",
      "\n",
      "유효기간 / 구입일로부터 1개월\n",
      "\n",
      "1\n",
      "\n",
      "구러시아공사관    흥국생명\n",
      "\n",
      "# 예원학교\n",
      "\n",
      "# 중명전\n",
      "\n",
      "# 구세군교회\n",
      "\n",
      "# 구미국공사관저\n",
      "\n",
      "# 정동극장\n",
      "\n",
      "# 조선일보\n",
      "\n",
      "# 영국대사관\n",
      "\n",
      "# 1910년 당시의 궁역\n",
      "\n",
      "# 덕수궁 미술관\n",
      "\n",
      "# 석조전\n",
      "\n",
      "# 준명당\n",
      "\n",
      "# 즉조당\n",
      "\n",
      "# 광명문\n",
      "\n",
      "# 중화전\n",
      "\n",
      "# 석어당\n",
      "\n",
      "# 정관헌\n",
      "\n",
      "# 중화문\n",
      "\n",
      "# 덕홍전\n",
      "\n",
      "# 함녕전\n",
      "\n",
      "# 1910년 당시의 궁역\n",
      "\n",
      "# 대한문\n",
      "\n",
      "| 정보      | 권역       |\n",
      "| ------- | -------- |\n",
      "| 표 파는 곳  | 대한문 일원   |\n",
      "| 지하철     | 중화전 일원   |\n",
      "| 화장실     | 즉조당 일원   |\n",
      "| 기념품점    | 함녕전과 덕홍전 |\n",
      "| 휠체어 보관소 | 정관헌      |\n",
      "\n",
      "디자인 기증 | (재)아름지기 (디자인2X4, 안그라픽스 / 글안창모)\n",
      "\n",
      "\n",
      "\n",
      "# 덕수궁 궁역의 어제와 오늘\n",
      "\n",
      "# 근대 한국의 원(原) 공간 - 덕수궁, 서울의 새로운 중심을 형성하다\n",
      "\n",
      "대한제국의 정궁이었던 덕수궁은 원래 성종(9대)의 형인 월산대군의 저택이었다. 임진왜란으로 인해 서울의 모든 궁궐이 불타 없어지자 1593년(선조 26)부터 선조의 임시 거처로 사용되다가 광해군이 1611년(광해 3) 정릉동 행궁으로 불리던 이곳에 ‘경운궁’이라는 정식 궁호를 붙여 주었다. 그 후 광해군이 1615년(광해 7) 재건한 창덕궁으로 어가를 옮기고 경운궁은 별궁으로 남게 되었다.\n",
      "\n",
      "경운궁은 1897년 대한제국 출범과 함께 한국 근대사의 전면에 등장했다. 전성기 때의 경운궁은 현재 넓이의 3배에 달하는 큰 궁궐이었다. 현재의 미국대사관저 건너편 서쪽에는 중명전을 비롯해 황실 생활을 위한 전각들이 있었고, 북쪽에는 역대 임금들을 제사 지내는 선원전 일원이 있었으며, 동쪽에는 하늘에 제사 지내는 환구단을 설치하여 황제국의 위세를 과시했다. 그러나 고종황제가 황위에서 물러나면서 경운궁은 선황제가 거처하는 궁으로 그 위상이 달라졌고 이름도 덕수궁으로 바뀌었다. 이후 궐내각사 일부와 환구단이 철거되었고 이 지역은 대한제국의 상징 공간으로서의 위상을 잃게 되었다.\n",
      "\n",
      "고종이 승하한 뒤 1920년부터 일제가 선원전과 중명전 일대를 매각하여 궁역이 크게 줄어 들었으며, 1933년에는 많은 전각들을 철거하고 공원으로 조성하여 일반에 공개했다. 이처럼 덕수궁은 일제강점기를 거치면서 원형을 거의 찾아볼 수 없을 정도로 훼손되었으나, 임진왜란과 대한제국기의 역사적 격변을 겪은 궁궐로 국난 극복의 상징적 공간이자 그 중심이었다.\n",
      "\n",
      "# 주변의 높은 빌딩으로 둘러싸인 덕수궁\n",
      "\n",
      "01\n",
      "\n",
      "1 대한문 일원\n",
      "# 대한제국, 근대 세계를 향해 문을 열다\n",
      "\n",
      "원래 경운궁의 정문은 남쪽으로 난 인화문(仁化門)이었다. 그런데 동문(東門)이었던 대안문(大安門) 앞으로 여러 방향의 도로들이 건설되고 환구단이 건립되면서 궁궐의 동쪽이 새로운 도심이 되자 대안문이 실질적인 정문 역할을 하게 되었다.\n",
      "\n",
      "대안문은 ‘크게 편안하다’는 뜻인데 1906년 수리와 함께 대한문(大漢門)으로 이름이 바뀌었다. ‘대한(大漢)’은 ‘한양이 창대해진다’는 뜻이다. &#x3C;대한문상량문(大漢門上樑文)>을 보면 “황하가 맑아지는 천재일우의 시운을 맞았으므로 국운이 길이 창대할 것이고 한양이 억만 년 이어갈 터전에 자리하였으니 문 이름으로 특별히 건다.”고 나와 있다. 한양을 수도로 하여 새로 태어난 대한제국이 영원히 창대하라 는 염원을 담은 말이다.\n",
      "\n",
      "대한문을 지나 건너게 되는 금천교는 1986년 발굴하여 정비한 것이다. 이 다리를 건너 중화문 앞에 이르는 길이 궁궐의 중심 행차로였다.\n",
      "\n",
      "\n",
      "\n",
      "\n",
      "# 대한문의 이동\n",
      "\n",
      "1912년 태평로 확장으로 덕수궁의 궁역은 축소되었으나 대한문의 위치에는 영향을 미치지 않았다. 그러나 1968년 태평로는 다시 한번 확장되었는데 이로 인해 길 중간에 섬처럼 남겨져 있다가 1971년 원래의 자리에서 33m 물러선 현재의 자리로 옮겨졌다. 이후 몇 차례의 수리가 있었고 2005년 완전 해체·보수하였다.\n",
      "\n",
      "# 현재 대 대한문의\n",
      "\n",
      "대한문 大漢門\n",
      "\n",
      "현판\n",
      "\n",
      "금천교 禁川橋\n",
      "\n",
      "# 덕수궁이 된 경운궁\n",
      "\n",
      "덕수궁의 원래 이름은 경운궁이다. 1611년(광해군 3년)부터 고종 재위 마지막 해인 1907년까지 300여 년 동안 경운궁이라는 궁호가 사용되었다. 1907년 헤이그 밀사 사건을 빌미 삼아 일제는 고종을 강제로 퇴위시킨 후, 새로 즉위한 순종만 창덕궁으로 이어시킨다. 고종의 정치적 영향력이 순종에게 미치지 못하도록 하기 위한 조치였다. 그리고 고종이 억류되다시피 남은 경운궁에 덕수궁이라는 궁호를 내렸다. 이 궁호는 조선왕조 초기에 정종이 태조를 위해 지은 궁궐에도 붙인 이름으로, 원래는 ‘상왕이 덕을 누리며 오래 사시라’는 의미이지만, 일제에 의해 강제로 상왕이 된 고종의 시련이 묻어 있는 궁호라고 볼 수 있다.\n",
      "\n",
      "# 03\n",
      "\n",
      "\n",
      "\n",
      "2 중화전 일원\n",
      "# 中和殿\n",
      "\n",
      "공식적 행사를 치렀던 궁궐의 으뜸 전각 중화전은 경운궁의 정전(正殿)으로서 왕의 즉위식, 신하들의 하례, 외국 사신의 접견 등 중요한 국가적 의식을 치르던 곳이다. 고종이 경운궁으로 환어한 후 5년 남짓 즉조당을 정전으로 사용하다가 1902년에 중층의 중화전을 새로 지었다. 이때 중화전 행각 128칸과 중화문, 조원문(朝元門)도 함께 건립되었다. 그러나 1904년 대화재로 소실된 후 1906년에 재건하면서 당시의 어지러운 시국과 궁핍한 재정 상황으로 인해 단층으로 축소되어 건립되었다. 중화전을 둘러싸고 널찍한 마당, 조정(朝廷)을 형성했던 행각들은 고종 승하 후 대부분 헐리고 동남쪽 모퉁이 부분만 남아 있어 옛 모습을 추측할 뿐이다.\n",
      "\n",
      "1\n",
      "\n",
      "\n",
      "# 중화전 中和殿\n",
      "\n",
      "중화전은 이중 월대 위에 건물을 올렸는데, 중화전으로 오르는 계단 답도(踏道)에는 조선 궁궐의 정전 중 유일하게 용 두 마리가 새겨져 있다. 다른 궁궐의 정전에는 모두 봉황이 새겨져 있으나 대한제국 출범 후 지어진 건물이기에 황제를 상징하는 용을 장식한 것이다. 중화전은 중화문과 함께 보물 제819호로 지정되어 있다.\n",
      "\n",
      "# 헤이그 밀사 파견과 고종의 강제 양위\n",
      "\n",
      "고종은 일본과 맺은 을사늑약의 부당함을 세계 각국에 알리고자 1907년 6월 네덜란드 헤이그에서 열린 제2차 만국평화회의에 특사를 파견했다. 그러나 특사들은 회의장에 들어가지도 못한 채 기자들 앞에서 연설하는 데 그쳤으며, 열강들의 냉담한 반응에 이준 열사는 귀국하지 않고 순국하여 대한제국의 의지를 천명하였다. 이 일로 일제는 고종에게 여러 차례 양위를 강요하였고, 결국 고종은 순종에게 대리청정을 명하기에 이른다. 그러나 일제는 세자가 대신 정무를 보는 대리청정을 양위로 바꾸어 그 양위식을 1907년 7월 19일 중화전에서 치른다. 고종과 순종은 양위식 참석을 거부했다.\n",
      "\n",
      "# 중화문 中和門\n",
      "\n",
      "# 행랑 行廊\n",
      "\n",
      "# ‘드므’에 새겨진 ‘만세(萬歲)’의 의미\n",
      "\n",
      "‘드므’란 ‘넓적하게 생긴 큰 독’이라는 뜻의 순수한 우리말이다. 궁궐에서 주요 건물의 월대와 월대 아래 마당에 드므를 설치하고 그 안에 물을 담아 놓았다. 드므에 담긴 물에는 화마(火魔)가 물에 비친 자신의 모습을 보고 놀라서 도망가기를 바라는 마음이 담겨 있다. 중화전 월대에 놓인 드므는 남다른 면이 있다. 드므에 새겨진 ‘만세’라는 글자 때문이다. 중국의 천자를 위해서 사용되었던 만세는 조선에서 사용할 수 없었지만, 대한제국의 출범과 함께 황제국의 격을 갖춘 덕수궁에서는 이 단어를 사용 할 수 있었던 것이다.\n",
      "\n",
      "05\n",
      "\n",
      "\n",
      "\n",
      "\n",
      "# 3 즉조당 일원\n",
      "\n",
      "# 덕수궁의 원(原) 공간\n",
      "\n",
      "즉조당 일원은 임진왜란 때 선조가 임시로 거처했던 곳으로 덕수궁의 모태가 된 곳이다. 1897년 고종이 러시아공사관에서 경운궁으로 환어한 뒤 1902년 중화전을 건립하기 전까지 정전으로 사용된 건물이다. 1904년 화재로 즉조당이 소실되자 고종은 이를 매우 안타까워했다. 인조 즉위 이후 서까래 하나 바꾸지 않고 소중하게 보존해왔던 까닭이다. 현재 즉조당에는 고종이 손수 쓴 편액(扁額)이 걸려 있다.\n",
      "\n",
      "석어당(昔御堂)은 덕수궁에 유일하게 남아 있는 중층 건물로 단청을 하지 않아 소박한 살림집 같다. 인조 즉위 후 경운궁의 전각을 대부분 원래의 주인에게 돌려주었으나, 이 두 건물만은 보존되어 후에 경운궁의 중심이 되었다. 준명당(浚 堂)은 황제가 업무를 보던 편전이며, 즉조당과 복도로 연결되었다. 현재의 세 건물은 1904년에 소실된 후 같은 해에 중건된 것이다.\n",
      "\n",
      "| 준명당 | 즉조당 | 석어당 |\n",
      "| --- | --- | --- |\n",
      "\n",
      "# 서궁 유폐와 인조반정의 현장, 석어당\n",
      "\n",
      "석어당은 선조의 계비인 인목왕후 김씨가 10여 년간 감금생활을 했던 곳이다. 광해군은 왕위에 오른 후 자신의 왕위를 위협할 가능성이 있는 형제들을 차례로 제거하고 인목대비를 폐위시켜 경운궁에 유폐했다. 이때 경운궁은 서궁(西宮)으로 불렸다. 서궁 유폐는 결국 반정을 일으키는 구실이 되었다. 반정에 성공한 능양군(인조)은 경운궁으로 인목대비를 찾아가 정통성을 인정받고 여기서 즉위한다. 유폐의 한이 맺혀 있던 인목대비는 석어당 앞마당에 광해군을 꿇어앉히고 36조의 죄를 물은 후 능양군에게 옥새를 전하였다.\n",
      "\n",
      "\n",
      "\n",
      "4 함녕전과 덕홍전\n",
      "# 함녕전과 덕홍전\n",
      "\n",
      "# 咸寧殿·德弘殿\n",
      "\n",
      "황제의 침전과 접견실\n",
      "\n",
      "함녕전은 고종의 환어와 함께 1897년에 건립된 왕의 침전이다. 1904년 대화재로 소실된 후 중건되었다. 고종은 이곳에서 기거하다가 68세를 일기로 승하하였다. 승하 후 함녕전은 고종의 빈전 및 혼전으로 사용되었다. 함녕전 뒤편에는 계단식 정원을 꾸몄고 전벽돌로 만든 유현문과 아름다운 장식을 한 굴뚝들을 설치했다. 함녕전은 보물 제820호로 지정되어 있다.\n",
      "\n",
      "덕홍전은 명성황후의 혼전으로 사용되었던 경효전(景孝殿)이 위치했던 곳으로, 고종황제가 고위 관료와 외교 사절을 맞이하는 접견실로 사용되었다. 내부는 천장의 샹들리에나 봉황문양의 단청, 창방의 오얏문양 등으로 화려하게 꾸며져 있다.\n",
      "\n",
      "\n",
      "\n",
      "\n",
      "# 함녕전에서 시작된 경운궁 대화재\n",
      "\n",
      "1904년 4월 함녕전에서 발생한 대화재로 경운궁은 거의 잿더미로 변하였다. 당시 일본측 언론에선 ‘함녕전 온돌을 수리한 뒤 말리는 과정에서 불을 잘못 때어 나무 기둥에 불이 옮겨 붙었다’라고 했다. 그러나 온돌의 구조적 특성상 과열되었다고 해서 기둥에 불이 옮겨 붙기는 어렵다는 점, 바람이 거세었다고는 해도 그 피해 범위가 너무나 넓었다는 점 등을 근거로 일제에 의한 방화가 아니냐는 의혹이 제기되고 있다. 당시의 정치적 상황으로 볼 때 각국의 공사관 사이에 위치한 경운궁에 고종이 기거하는 것을 일제가 못마땅해했다는 점도 방화를 의심케 하는 대목이다. 고종은 불이 난 후 다른 궁궐로의 이어 권유를 물리치고 다음날부터 재건 공사에 착수하도록 지시하였다.\n",
      "\n",
      "# 함녕전 咸寧殿\n",
      "\n",
      "# 덕홍전 德弘殿\n",
      "\n",
      "# 김구의 목숨을 살린 함녕전 대청전화\n",
      "\n",
      "1897년에는 고종의 침전과 정부 각 부처를 연결하는 전화가 설치되었다. 함녕전의 대청마루에 전화기가 설치되자 고종은 필요할 때마다 전화기로 대신들에게 지시를 내렸다. 이 전화를 ‘대청 전화’라고 했는데 대청전화 덕분에 김구가 사형 직전에 목숨을 건진 일화가 ‘백범일지’에 실려 있다. 고종이 김구의 사형집행 서류를 검토 중 형집행 직전에 전화로 사형집행정지 명령을 내려 목숨을 구했다는 것이다.\n",
      "\n",
      "\n",
      "\n",
      "5 정관헌\n",
      "# 정관헌(靜觀軒)\n",
      "\n",
      "전통 건축과 서양 건축의 조화\n",
      "\n",
      "정관헌(靜觀軒)은 그 이름처럼 궁궐 후원의 언덕 위에서 ‘조용히 궁궐을 내려다보는’ 휴식용 건물이다. 위치도 함녕전 뒤에 자리 잡고 있어, 전통 궁궐에서 후원의 정자 기능을 대신하는 건물이라 할 수 있다. 1900년경 러시아 건축가 사바친(A. I. Sabatin)이 한식과 양식을 절충해 설계한 건축물이다. 기단 위에 로마네스크 양식의 인조석 기둥을 둘러서 내부 공간을 만들었고, 바깥에는 동남서 세 방향에 기둥을 세운 베란다가 둘러쳐 있다. 흥미로운 것은 석재를 기본으로 하는 서양식 기둥이 나무로 만들어졌다는 점과, 기둥 상부에 청룡과 황룡, 박쥐, 꽃병 등 한국 전통 문양이 새겨져 있다는 사실이다. 고종황제는 정관헌에서 커피를 마시며 외교 사절들과 연회를 즐겼다고 한다.\n",
      "\n",
      "# 커피와 고종 독살미수 사건\n",
      "\n",
      "고종은 1896년 아관파천 때 러시아공사관에서 처음으로 커피를 맛보았는데 경운궁으로 환어한 뒤에도 그 맛을 잊지 못해 계속 즐겼다. 1898년에 커피와 관련된 고종 독살미수 사건이 발생했다. 김홍륙이란 자가 하수인을 시켜 고종과 황태자가 즐겨 마시는 커피에 독을 넣은 것이다. 김홍륙은 역관 출신으로 아관파천 때 고종의 눈에 들어 승승장구했으나 통역을 빙자해 국정을 농단한 것이 발각되어 유배형을 받았는데 이에 앙심을 품고 이러한 일을 저질렀다. 다행히 고종은 입에 품었던 독차를 뱉었지만 이미 한 모금 마신 황태자(뒤의 순종)는 그것을 토했음에도 그 여독으로 많은 고생을 해야 했다.\n",
      "\n",
      "09\n",
      "\n",
      "6 석조전 일원\n",
      "# 석조전\n",
      "\n",
      "# 근대국가의 상징\n",
      "\n",
      "석조전은 고종황제가 침전 겸 편전으로 사용하기 위해 1900년부터 1910년에 걸쳐 지은 서양식 석조건물이다. 경운궁에 서양식 건축물들을 건립한 것은 대한제국 근대화를 위한 정책의 일환이었다. 석조전은 서양의 신고전주의 건축양식으로 지어졌으며, 건물의 앞과 동서 양면에 베란다가 설치된 것이 특징이다. 1층은 시종이 기거하는 방과 부속 시설로, 돌계단을 올라 들어서는 2층은 대접견실과 대기실로, 3층은 황제와 황후가 거처하는 침실과 여러 용도의 방으로 구성되었다. 고종 황제 승하 후에 경운궁이 황폐해지는 과정에서 석조전은 일본 회화미술관으로 사용되었다. 1938년에 서측 별관이 들어서 이왕가미술관으로 사용되기도 하였다.\n",
      "\n",
      "\n",
      "\n",
      "\n",
      "\n",
      "# 석조전 앞의 분수\n",
      "\n",
      "석조전 앞에 있는 정원과 청동제 분수는 서구형 정원으로 1938년에 조성된 것으로 알려져 있다. 우리의 전통 정원은 건물의 뒤에 배치하여 후원이라 하는 데 반해, 석조전은 건물 앞에 정원을 조성하였다. 또한 우리 전통 조경에서는 분수를 찾아볼 수 없는데, 이는 한국인의 자연관에서 비롯된 것이다. 우리 조상들은 물은 높은 곳에서 낮은 곳으로 흐르는 것이 자연의 이치라 여겼기에, 정원에 인공으로 폭포를 만들긴 했지만 물이 역으로 치솟는 분수는 만들지 않았던 것이다.\n",
      "\n",
      "# 석조전 石造殿\n",
      "\n",
      "# 덕수궁 미술관 德壽宮美術館\n",
      "\n",
      "# 광명문 光明門\n",
      "\n",
      "# 물시계 자격루(自擊漏, 국보 229호)\n",
      "\n",
      "# 석조전을 시공한 오쿠라 토목회사\n",
      "\n",
      "석조전은 처음에 대한제국의 재정고문이었던 영국인 브라운(J. M. Brown)이 발의하여 짓기 시작했으며 설계도 영국인 하딩(G. R. Harding) 등이 하였다. 그러다가 1905년에 일본인 메가다가 대한제국의 재정고문이 되면서 일본의 오쿠라 토목회사가 시공을 맡게 된다. 오쿠라 토목회사는 아시아 여러 나라 수만 점의 문화재를 일본으로 빼돌린 기업으로도 유명하다. 실제로 1917년 경복궁 자선당을 해체해 일본으로 빼돌려 오쿠라의 개인 저택에 세우고 ‘조선관’이라는 이름의 사설박물관으로 사용했다. 자선당은 1923년 관동 대지진으로 불타 버려 초석만 남았다가 1995년 한국으로 돌아왔다.\n",
      "\n",
      "\n",
      "\n",
      "7 궐내각사 터와 환구단\n",
      "# 환구단, 황제국 선포를 하늘에 고하다\n",
      "\n",
      "현재의 덕수궁 동쪽 담장 안쪽과 담장 너머 서울광장 일부는 궁궐 안 관청들이 있던 궐내각사 일원이었다. 경운궁으로 정궁을 이전하면서 군사권을 관장하던 원수부와 황실의 업무를 보던 궁내부를 비롯해 시강원, 태의원, 전화국 등 여러 관청이 궐내에 위치하게 되었다. 후에 태평로 개설로 인해 절반 이상의 전각이 사라졌고, 나머지 전각 역시 1933년 공원으로 조성되는 과정에서 철거되었다. 환구단은 현 서울광장 너머에 있었던 남별궁 터(현 조선호텔 자리)에 건축되었다. 남별궁은 본디 태종의 둘째 공주인 경정공주가 거주했던 곳으로 1583년(선조 16년)에 의안군이 거주하면서 남별궁이라 불렸다. 이후 인조 때 중국 사신을 접대하던 태평관이 철폐되자 중국 사신의 거처로 사용되다가, 1897년 고종이 황위에 오름을 하늘에 고하기 위한 환구단이 이곳에 건축되었다. 이후 1914년 조선철도호텔 건설 때 파괴되었으나 신위를 모셨던 황궁우와 돌북(石鼓)이 남아 대한제국의 흔적을 보여주고 있다. 환구단은 사적 제157호로 지정되었다.\n",
      "\n",
      "서울프라자호텔\n",
      "\n",
      "황궁우 皇穹宇\n",
      "\n",
      "서울시청 首爾市廳    서울광장 首爾廣場\n",
      "\n",
      "# 궐내각사 터\n",
      "\n",
      "환구단의 규모 환구단은 돌을 쌓아올린 3층의 거대한 원형 제단이었으며, 신위를 모신 부속 건물 황궁우를 비롯하여 긴 담장과 사면의 홍살문까지 갖추었다. 1층의 지름이 140m인 엄청난 규모여서 1000여 명의 숙련된 인원이 거의 한 달 동안 쉴 새 없이 일해서 완성했다. 환구단은 1914년 조선철도호텔 건설 때 파괴되었으나, 신령의 위패를 모신 황궁우와 돌북(石鼓)이 남아 있어 대한제국의 흔적을 보여 준다.\n",
      "\n",
      "12\n",
      "\n",
      "8 선원전 터\n",
      "# 璿源殿址\n",
      "\n",
      "# 대한제국 영욕의 현장\n",
      "\n",
      "1897년 대한제국의 으뜸 궁궐이 된 경운궁은 예원학교와 덕수초등학교, 옛 경기여고 터를 포함하는 넓은 영역이었으나 1919년 고종황제가 세상을 떠난 후 궁역이 해체되면서 오늘의 덕수궁 영역으로 축소되었다. 현재의 석조전 뒤편에는 돈덕전(惇德殿)이 있었다. 서양 건축양식으로 지어진 돈덕전은 1907년 순종이 즉위한 곳이지만, 1922년 궁역 해체와 동시에 미국대사관저와 덕수궁 사이에 도로가 개설되면서 철거되었다. 미국대사관저 서쪽에 위치한 중명전 일원에는 환벽정과 만희당 등이 있었으나 경술국치와 함께 해체되기 시작하여 현 예원학교 터의 토지 소유권은 미국감리교선교부, 이화학당에 넘어갔다.\n",
      "\n",
      "1900년에 완성된 선원전에는 숙종을 비롯한 7위의 어진(御眞, 임금의 초상화)을 모셔 황실의 격을 갖추었고, 빈전(殯殿)과 혼전(魂殿)도 설치했다. 선원전 일대는 대한제국을 상징하는 신성한 공간이었으나, 1919년 고종황제 승하 후 1년제가 끝나자마자 일제는 어진들을 돌볼 사람이 없다는 이유로 선원전을 헐어 순종이 있는 창덕궁으로 옮겼고, 그 부지는 조선은행, 식산은행, 경성일보사 등에 매각했다. 이후 해인사의 불교중앙포교소와 경성여자공립보통학교(현 덕수초등학교 터), 경성제일공립고등여학교(옛 경기여고 터)가 차례로 건축되면서 이 일대는 완전히 해체되었다. 현재는 경기여고 터의 선원전 복원을 비롯한 덕수궁 장기 복원계획이 수립되어 추진 중이다.\n",
      "\n",
      "# 영친왕의 선원전 참배\n",
      "\n",
      "13\n",
      "\n",
      "\n",
      "\n",
      "# 영성문 대궐\n",
      "\n",
      "1900년 10월 14일에 궁궐 동쪽의 포덕문 안에 위치했던 선원 전에 화재가 발생해 건물은 물론 어진까지 모두 불타고 말았다. 고종은 명당을 골라 속히 중건하도록 명령을 내렸고, 그 결과 북서쪽의 영성문(永成門) 안으로 옮겨지면서 선원전은 ‘영성문 대궐’로도 불렸다.\n",
      "\n",
      "# 선원전도(璿源殿圖)\n",
      "\n",
      "구세군교회 救世軍敎會\n",
      "\n",
      "흥국생명 興國生命    조선일보사 朝鮮日報社\n",
      "\n",
      "# 1910년 당시의 궁역\n",
      "\n",
      "# 빈전과 혼전\n",
      "\n",
      "빈전은 장례를 치를 때까지 임금 또는 왕비의 관을 모셔 두는 전각을 일컫는다. 1896년 9월 4일 명성황후의 혼백과 시신을 경복궁의 태원전(泰元殿)에서 경운궁의 경소전(景昭殿)으로 옮겼는데, 태원전과 경소전이 빈전이다. 혼전은 임금이나 왕비의 국상 중 장사를 마치고 종묘에 입향할 때까지 신위를 모셔 두는 곳이다. 명성황후의 혼전인 경효전(景孝殿)은 빈전으로 쓰였던 경소전을 중수하여 사용하였다. 영성문 대궐에 있는 건물들을 빈전과 혼전으로 사용한 것에서 이 권역을 신성한 영역으로 만들고자 했던 고종의 의도를 엿볼 수 있다.\n",
      "\n",
      "\n",
      "\n",
      "9 중명전 일원\n",
      "# 重Ⳕ殿\n",
      "\n",
      "# 황제국 건설의 희망과 절망\n",
      "\n",
      "중명전 일대는 경운궁을 확장할 때 가장 먼저 궁궐로 편입된 곳이지만, 경운궁과 중명전 사이에 이미 미국공사관이 자리 잡고 있던 터라 별궁처럼 되었다. 중명전은 러시아 건축가 사바친이 설계한 2층의 붉은 벽돌 건물로 경운궁에 지어진 최초의 서양식 건물이었다. 처음에는 수옥헌으로 불리며 황실도서관으로 지어졌으나 1904년 대화재로 고종이 임시 기거하면서 연회장이나 외국 사절의 접견소로도 이용되었다. 수옥헌이 중명전으로 불리게 된 것은 1906년 이후로 보여 진다. 이 일대에는 환벽정과 만희당을 비롯한 10여 채의 전각들이 들어차 있었다. 1905년 을사늑약이 체결된 곳도 중명전이고, 1907년 헤이그 만국평화회의 특사 파견이 이루어진 곳도 중명전이다. 이처럼 중명전은 대한제국의 좌절과 국권 수호 의지가 모두 담긴 역사의 현장이다.\n",
      "\n",
      "# 예원학교 藝園學校      미국대사관저 美國大使館邸\n",
      "\n",
      "# 중명전 重Ⳕ殿\n",
      "\n",
      "# 1910년 당시의 궁역\n",
      "\n",
      "# 중명전에서 공포 분위기 속에 을사늑약 체결\n",
      "\n",
      "1905년 11월 17일 밤, 일제는 경운궁 안팎에 무장한 일본군을 배치하고 당시 고종이 기거하고 있던 중명전에서 고종과 대신들에게 보호조약에 조인할 것을 강요하였다. 이날 일본공사 하야 시가 이미 일본대사관으로 대신들을 불러 협약 체결을 종용하였으나 오후가 되도록 뜻을 이루지 못하자 경운궁에서 어전회의를 연 것이었다. 공포 분위기 속에서도 고종과 대신들은 어전회의에서 조인을 거부하였고, 이토 히로부미는 세 번에 걸쳐 고종을 협박하였다. 고종이 끝내 거부하자 이토는 찬성하는 대신들(을사오적)만 데리고 조약을 체결하였다. 고종은 서명이나 옥새 날인을 하지 않음으로써 끝까지 이를 승인하지 않았다.\n",
      "\n",
      "15\n",
      "\n",
      "발행 · 2011\u001b[0m\u001b[32;1m\u001b[1;3m\u001b[0m\n",
      "\n",
      "\u001b[1m> Finished chain.\u001b[0m\n",
      "Agent 실행 결과:\n",
      "Agent stopped due to max iterations.\n"
     ]
    }
   ],
   "source": [
    "from langchain.agents import AgentExecutor\n",
    "import nest_asyncio\n",
    "\n",
    "nest_asyncio.apply()\n",
    "# AgentExecutor 생성\n",
    "# Agnent를 AgentExecutor를 이용해야만 실행하고 컨트롤이 가능함\n",
    "agent_executor = AgentExecutor(\n",
    "    agent=agent,\n",
    "    tools=tools,\n",
    "    verbose=True, # Agent가 실행 될때마다 실행 기록을 남겨둠. 메시지를 보려면 True\n",
    "    max_iterations=10,\n",
    "    max_execution_time=10,\n",
    "    handle_parsing_errors=True,\n",
    ")\n",
    "\n",
    "# AgentExecutor 실행\n",
    "result = agent_executor.invoke({\"input\": \"data/deoksugung.pdf\"})\n",
    "\n",
    "print(\"Agent 실행 결과:\")\n",
    "print(result[\"output\"])"
   ]
  },
  {
   "cell_type": "markdown",
   "id": "e086ec9e",
   "metadata": {},
   "source": [
    "### Stream출력으로 단계별 결과 확인"
   ]
  },
  {
   "cell_type": "code",
   "execution_count": 32,
   "id": "2294fcef",
   "metadata": {},
   "outputs": [],
   "source": [
    "from langchain.agents import AgentExecutor\n",
    "\n",
    "# AgentExecutor 생성\n",
    "agent_executor = AgentExecutor(\n",
    "    agent=agent,\n",
    "    tools=tools,\n",
    "    verbose=False,\n",
    "    handle_parsing_errors=True,\n",
    ")"
   ]
  },
  {
   "cell_type": "code",
   "execution_count": 33,
   "id": "cf7800b9",
   "metadata": {},
   "outputs": [
    {
     "name": "stdout",
     "output_type": "stream",
     "text": [
      "{'actions': [ToolAgentAction(tool='search_news', tool_input={'query': 'AI 투자'}, log=\"\\nInvoking: `search_news` with `{'query': 'AI 투자'}`\\n\\n\\n\", message_log=[AIMessageChunk(content='', additional_kwargs={'tool_calls': [{'index': 0, 'id': 'call_zCnXS76t9Rh0qY3HaHZ8YHjF', 'function': {'arguments': '{\"query\":\"AI 투자\"}', 'name': 'search_news'}, 'type': 'function'}]}, response_metadata={'finish_reason': 'tool_calls', 'model_name': 'gpt-4o-mini-2024-07-18', 'system_fingerprint': 'fp_8bda4d3a2c', 'service_tier': 'default'}, id='run--aad0672d-e749-4938-b566-e8c53e5145c3', tool_calls=[{'name': 'search_news', 'args': {'query': 'AI 투자'}, 'id': 'call_zCnXS76t9Rh0qY3HaHZ8YHjF', 'type': 'tool_call'}], tool_call_chunks=[{'name': 'search_news', 'args': '{\"query\":\"AI 투자\"}', 'id': 'call_zCnXS76t9Rh0qY3HaHZ8YHjF', 'index': 0, 'type': 'tool_call_chunk'}])], tool_call_id='call_zCnXS76t9Rh0qY3HaHZ8YHjF')], 'messages': [AIMessageChunk(content='', additional_kwargs={'tool_calls': [{'index': 0, 'id': 'call_zCnXS76t9Rh0qY3HaHZ8YHjF', 'function': {'arguments': '{\"query\":\"AI 투자\"}', 'name': 'search_news'}, 'type': 'function'}]}, response_metadata={'finish_reason': 'tool_calls', 'model_name': 'gpt-4o-mini-2024-07-18', 'system_fingerprint': 'fp_8bda4d3a2c', 'service_tier': 'default'}, id='run--aad0672d-e749-4938-b566-e8c53e5145c3', tool_calls=[{'name': 'search_news', 'args': {'query': 'AI 투자'}, 'id': 'call_zCnXS76t9Rh0qY3HaHZ8YHjF', 'type': 'tool_call'}], tool_call_chunks=[{'name': 'search_news', 'args': '{\"query\":\"AI 투자\"}', 'id': 'call_zCnXS76t9Rh0qY3HaHZ8YHjF', 'index': 0, 'type': 'tool_call_chunk'}])]}\n",
      "============================================================\n",
      "{'steps': [AgentStep(action=ToolAgentAction(tool='search_news', tool_input={'query': 'AI 투자'}, log=\"\\nInvoking: `search_news` with `{'query': 'AI 투자'}`\\n\\n\\n\", message_log=[AIMessageChunk(content='', additional_kwargs={'tool_calls': [{'index': 0, 'id': 'call_zCnXS76t9Rh0qY3HaHZ8YHjF', 'function': {'arguments': '{\"query\":\"AI 투자\"}', 'name': 'search_news'}, 'type': 'function'}]}, response_metadata={'finish_reason': 'tool_calls', 'model_name': 'gpt-4o-mini-2024-07-18', 'system_fingerprint': 'fp_8bda4d3a2c', 'service_tier': 'default'}, id='run--aad0672d-e749-4938-b566-e8c53e5145c3', tool_calls=[{'name': 'search_news', 'args': {'query': 'AI 투자'}, 'id': 'call_zCnXS76t9Rh0qY3HaHZ8YHjF', 'type': 'tool_call'}], tool_call_chunks=[{'name': 'search_news', 'args': '{\"query\":\"AI 투자\"}', 'id': 'call_zCnXS76t9Rh0qY3HaHZ8YHjF', 'index': 0, 'type': 'tool_call_chunk'}])], tool_call_id='call_zCnXS76t9Rh0qY3HaHZ8YHjF'), observation=[{'url': 'https://news.google.com/rss/articles/CBMiYEFVX3lxTE5vUFFSQS1uWEowWVZKUWJmSGd3Rm1mendLeWU0blJtdFVMRDVER1JnTHBKc2MzZ1F5eUtaLVROSldDRXVwa0g5UFpzcE9tZkhlQlhGT3ZOVEc2UGJCdWgxXw?oc=5', 'content': '\"8월 국내 벤처투자 1조원 돌파\"…AI 쏠림 강화 - 아시아경제'}, {'url': 'https://news.google.com/rss/articles/CBMigwFBVV95cUxQVXQzb1lMdlA0M1haT2dCR1FRLS1OWWw1QlFpZ00wOUdaTzBKblZkMWtJM2sxalhOS1ZWR2o5SU9VaTN0R0l3bmpYZE4ycklacWktVm5TVGlDZ0d3TXZFS1RRMFZvOWh3djJoSTVQNFpWNF9PZEROcUl5c2pQNVd5OGFYNA?oc=5', 'content': \"VC업계, 피지컬 AI·로봇 선점 경쟁...정책 리스크에 뜨는 '자동화' - 인베스트조선\"}])], 'messages': [FunctionMessage(content='[{\"url\": \"https://news.google.com/rss/articles/CBMiYEFVX3lxTE5vUFFSQS1uWEowWVZKUWJmSGd3Rm1mendLeWU0blJtdFVMRDVER1JnTHBKc2MzZ1F5eUtaLVROSldDRXVwa0g5UFpzcE9tZkhlQlhGT3ZOVEc2UGJCdWgxXw?oc=5\", \"content\": \"\\\\\"8월 국내 벤처투자 1조원 돌파\\\\\"…AI 쏠림 강화 - 아시아경제\"}, {\"url\": \"https://news.google.com/rss/articles/CBMigwFBVV95cUxQVXQzb1lMdlA0M1haT2dCR1FRLS1OWWw1QlFpZ00wOUdaTzBKblZkMWtJM2sxalhOS1ZWR2o5SU9VaTN0R0l3bmpYZE4ycklacWktVm5TVGlDZ0d3TXZFS1RRMFZvOWh3djJoSTVQNFpWNF9PZEROcUl5c2pQNVd5OGFYNA?oc=5\", \"content\": \"VC업계, 피지컬 AI·로봇 선점 경쟁...정책 리스크에 뜨는 \\'자동화\\' - 인베스트조선\"}]', additional_kwargs={}, response_metadata={}, name='search_news')]}\n",
      "============================================================\n",
      "{'output': \"다음은 AI 투자와 관련된 최근 뉴스입니다:\\n\\n1. **[8월 국내 벤처투자 1조원 돌파…AI 쏠림 강화 - 아시아경제](https://news.google.com/rss/articles/CBMiYEFVX3lxTE5vUFFSQS1uWEowWVZKUWJmSGd3Rm1mendLeWU0blJtdFVMRDVER1JnTHBKc2MzZ1F5eUtaLVROSldDRXVwa0g5UFpzcE9tZkhlQlhGT3ZOVEc2UGJCdWgxXw?oc=5)**  \\n   8월에 국내 벤처투자가 1조원을 돌파하며 AI 분야에 대한 투자 집중이 강화되고 있다는 내용입니다.\\n\\n2. **[VC업계, 피지컬 AI·로봇 선점 경쟁...정책 리스크에 뜨는 '자동화' - 인베스트조선](https://news.google.com/rss/articles/CBMigwFBVV95cUxQVXQzb1lMdlA0M1haT2dCR1FRLS1OWWw1QlFpZ00wOUdaTzBKblZkMWtJM2sxalhOS1ZWR2o5SU9VaTN0R0l3bmpYZE4ycklacWktVm5TVGlDZ0d3TXZFS1RRMFZvOWh3djJoSTVQNFpWNF9PZEROcUl5c2pQNVd5OGFYNA?oc=5)**  \\n   VC 업계에서 피지컬 AI와 로봇 분야의 선점을 위한 경쟁이 치열해지고 있으며, 정책 리스크 속에서 자동화 기술이 주목받고 있다는 기사입니다.\\n\\n더 많은 정보가 필요하시면 말씀해 주세요!\", 'messages': [AIMessage(content=\"다음은 AI 투자와 관련된 최근 뉴스입니다:\\n\\n1. **[8월 국내 벤처투자 1조원 돌파…AI 쏠림 강화 - 아시아경제](https://news.google.com/rss/articles/CBMiYEFVX3lxTE5vUFFSQS1uWEowWVZKUWJmSGd3Rm1mendLeWU0blJtdFVMRDVER1JnTHBKc2MzZ1F5eUtaLVROSldDRXVwa0g5UFpzcE9tZkhlQlhGT3ZOVEc2UGJCdWgxXw?oc=5)**  \\n   8월에 국내 벤처투자가 1조원을 돌파하며 AI 분야에 대한 투자 집중이 강화되고 있다는 내용입니다.\\n\\n2. **[VC업계, 피지컬 AI·로봇 선점 경쟁...정책 리스크에 뜨는 '자동화' - 인베스트조선](https://news.google.com/rss/articles/CBMigwFBVV95cUxQVXQzb1lMdlA0M1haT2dCR1FRLS1OWWw1QlFpZ00wOUdaTzBKblZkMWtJM2sxalhOS1ZWR2o5SU9VaTN0R0l3bmpYZE4ycklacWktVm5TVGlDZ0d3TXZFS1RRMFZvOWh3djJoSTVQNFpWNF9PZEROcUl5c2pQNVd5OGFYNA?oc=5)**  \\n   VC 업계에서 피지컬 AI와 로봇 분야의 선점을 위한 경쟁이 치열해지고 있으며, 정책 리스크 속에서 자동화 기술이 주목받고 있다는 기사입니다.\\n\\n더 많은 정보가 필요하시면 말씀해 주세요!\", additional_kwargs={}, response_metadata={})]}\n",
      "============================================================\n"
     ]
    }
   ],
   "source": [
    "# 스트리밍 모드로 실행합니다\n",
    "result = agent_executor.stream({\"input\": \"AI 투자와 관련된 뉴스를 검색해 주세요.\"})\n",
    "\n",
    "for step in result:\n",
    "    # 중간 단계 출력\n",
    "    print(step)\n",
    "    print(\"===\" * 20)"
   ]
  },
  {
   "cell_type": "markdown",
   "id": "af67ff61",
   "metadata": {},
   "source": [
    "### 중간 단계 출력을 사용자 정의 함수로 출력\n",
    "실행시에 중간 단계를 출력해 사용자에게 제공(디버깅용)"
   ]
  },
  {
   "cell_type": "code",
   "execution_count": 34,
   "id": "33719e3f",
   "metadata": {},
   "outputs": [],
   "source": [
    "from langchain_teddynote.messages import AgentStreamParser\n",
    "\n",
    "agent_stream_parser = AgentStreamParser()"
   ]
  },
  {
   "cell_type": "code",
   "execution_count": null,
   "id": "a18553c1",
   "metadata": {},
   "outputs": [],
   "source": [
    "# 질의에 대한 답변을 스트리밍으로 출력 요청\n",
    "result = agent_executor.stream(\n",
    "    {\"input\": \"matplotlib 을 사용하여 pie 차트를 그리는 코드를 작성하고 실행하세요.\"}\n",
    ")\n",
    "\n",
    "for step in result:\n",
    "    # 중간 단계를 parser 를 사용하여 단계별로 출력\n",
    "    # print(step)\n",
    "    agent_stream_parser.process_agent_steps(step)"
   ]
  },
  {
   "cell_type": "code",
   "execution_count": 35,
   "id": "360e6999",
   "metadata": {},
   "outputs": [
    {
     "name": "stdout",
     "output_type": "stream",
     "text": [
      "[도구 호출]\n",
      "Tool: python_repl_tool\n",
      "code: import matplotlib.pyplot as plt\n",
      "import numpy as np\n",
      "\n",
      "# 데이터 준비\n",
      "categories = ['A', 'B', 'C', 'D']\n",
      "values = [10, 15, 7, 12]\n",
      "\n",
      "# 막대그래프 그리기\n",
      "plt.bar(categories, values, color='blue')\n",
      "\n",
      "# 그래프 제목과 레이블 설정\n",
      "plt.title('Sample Bar Graph')\n",
      "plt.xlabel('Categories')\n",
      "plt.ylabel('Values')\n",
      "\n",
      "# 그래프 보여주기\n",
      "plt.show()\n",
      "Log: \n",
      "Invoking: `python_repl_tool` with `{'code': \"import matplotlib.pyplot as plt\\nimport numpy as np\\n\\n# 데이터 준비\\ncategories = ['A', 'B', 'C', 'D']\\nvalues = [10, 15, 7, 12]\\n\\n# 막대그래프 그리기\\nplt.bar(categories, values, color='blue')\\n\\n# 그래프 제목과 레이블 설정\\nplt.title('Sample Bar Graph')\\nplt.xlabel('Categories')\\nplt.ylabel('Values')\\n\\n# 그래프 보여주기\\nplt.show()\"}`\n",
      "\n",
      "\n",
      "\n"
     ]
    },
    {
     "data": {
      "image/png": "[encoded data removed]",
      "text/plain": [
       "<Figure size 640x480 with 1 Axes>"
      ]
     },
     "metadata": {},
     "output_type": "display_data"
    },
    {
     "name": "stdout",
     "output_type": "stream",
     "text": [
      "[관찰 내용]\n",
      "Observation: \n",
      "[최종 답변]\n",
      "막대그래프를 성공적으로 그렸습니다. 그래프는 카테고리 A, B, C, D에 대한 값들을 보여주고 있습니다. 각 카테고리는 서로 다른 높이의 막대로 표현되어 있습니다. 추가적인 질문이나 다른 그래프를 원하시면 말씀해 주세요!\n"
     ]
    }
   ],
   "source": [
    "# 스트리밍 방식으로 결과를 출력\n",
    "# 질의에 대한 답변을 스트리밍으로 출력 요청\n",
    "result = agent_executor.stream(\n",
    "    {\"input\": \"matplotlib 을 사용하여  막대그래프를 그리는 코드를 작성하고 실행하세요.\"}\n",
    ")\n",
    "\n",
    "for step in result:\n",
    "    # 중간 단계를 parser 를 사용하여 단계별로 출력\n",
    "    # print(step)\n",
    "    agent_stream_parser.process_agent_steps(step)"
   ]
  },
  {
   "cell_type": "code",
   "execution_count": 36,
   "id": "ff54848c",
   "metadata": {},
   "outputs": [],
   "source": [
    "# AgentCallbacks와 AgentStreamParser를 langchain_teddynote.messages에서 가져옵니다.\n",
    "from langchain_teddynote.messages import AgentCallbacks, AgentStreamParser\n",
    "\n",
    "\n",
    "# 도구 호출 시 실행되는 콜백 함수입니다.\n",
    "def tool_callback(tool) -> None:\n",
    "    print(\"<<<<<<< 도구 호출 >>>>>>\")\n",
    "    print(f\"Tool: {tool.get('tool')}\")  # 사용된 도구의 이름을 출력합니다.\n",
    "    print(\"<<<<<<< 도구 호출 >>>>>>\")\n",
    "\n",
    "\n",
    "# 관찰 결과를 출력하는 콜백 함수입니다.\n",
    "# 관찰 결과를 통해 LLM은 원하는 정보를 얻었는지 확인\n",
    "def observation_callback(observation) -> None:\n",
    "    print(\"<<<<<<< 관찰 내용 >>>>>>\")\n",
    "    print(\n",
    "        f\"Observation: {observation.get('observation')[0]}\"\n",
    "    )  # 관찰 내용을 출력합니다.\n",
    "    print(\"<<<<<<< 관찰 내용 >>>>>>\")\n",
    "\n",
    "\n",
    "# 최종 결과를 출력하는 콜백 함수입니다.\n",
    "def result_callback(result: str) -> None:\n",
    "    print(\"<<<<<<< 최종 답변 >>>>>>\")\n",
    "    print(result)  # 최종 답변을 출력합니다.\n",
    "    print(\"<<<<<<< 최종 답변 >>>>>>\")\n",
    "\n",
    "\n",
    "# AgentCallbacks 객체를 생성하여 각 단계별 콜백 함수를 설정합니다.\n",
    "agent_callbacks = AgentCallbacks(\n",
    "    tool_callback=tool_callback,\n",
    "    observation_callback=observation_callback,\n",
    "    result_callback=result_callback,\n",
    ")\n",
    "\n",
    "# AgentStreamParser 객체를 생성하여 에이전트의 실행 과정을 파싱합니다.\n",
    "agent_stream_parser = AgentStreamParser(agent_callbacks)"
   ]
  },
  {
   "cell_type": "code",
   "execution_count": 38,
   "id": "09a95d51",
   "metadata": {},
   "outputs": [
    {
     "name": "stdout",
     "output_type": "stream",
     "text": [
      "<<<<<<< 도구 호출 >>>>>>\n",
      "Tool: search_news\n",
      "<<<<<<< 도구 호출 >>>>>>\n",
      "<<<<<<< 관찰 내용 >>>>>>\n",
      "Observation: {'url': 'https://news.google.com/rss/articles/CBMiYEFVX3lxTE5vUFFSQS1uWEowWVZKUWJmSGd3Rm1mendLeWU0blJtdFVMRDVER1JnTHBKc2MzZ1F5eUtaLVROSldDRXVwa0g5UFpzcE9tZkhlQlhGT3ZOVEc2UGJCdWgxXw?oc=5', 'content': '\"8월 국내 벤처투자 1조원 돌파\"…AI 쏠림 강화 - 아시아경제'}\n",
      "<<<<<<< 관찰 내용 >>>>>>\n",
      "<<<<<<< 최종 답변 >>>>>>\n",
      "다음은 AI 투자와 관련된 최근 뉴스입니다:\n",
      "\n",
      "1. **[8월 국내 벤처투자 1조원 돌파…AI 쏠림 강화 - 아시아경제](https://news.google.com/rss/articles/CBMiYEFVX3lxTE5vUFFSQS1uWEowWVZKUWJmSGd3Rm1mendLeWU0blJtdFVMRDVER1JnTHBKc2MzZ1F5eUtaLVROSldDRXVwa0g5UFpzcE9tZkhlQlhGT3ZOVEc2UGJCdWgxXw?oc=5)**  \n",
      "   이 기사는 8월에 국내 벤처투자가 1조원을 돌파했으며, AI 분야에 대한 투자 집중이 강화되고 있다는 내용을 다루고 있습니다.\n",
      "\n",
      "2. **[VC업계, 피지컬 AI·로봇 선점 경쟁...정책 리스크에 뜨는 '자동화' - 인베스트조선](https://news.google.com/rss/articles/CBMigwFBVV95cUxQVXQzb1lMdlA0M1haT2dCR1FRLS1OWWw1QlFpZ00wOUdaTzBKblZkMWtJM2sxalhOS1ZWR2o5SU9VaTN0R0l3bmpYZE4ycklacWktVm5TVGlDZ0d3TXZFS1RRMFZvOWh3djJoSTVQNFpWNF9PZEROcUl5c2pQNVd5OGFYNA?oc=5)**  \n",
      "   이 기사에서는 VC 업계에서 피지컬 AI와 로봇 기술을 선점하기 위한 경쟁이 치열하며, 정책 리스크 속에서 자동화 기술이 주목받고 있다는 내용을 다루고 있습니다.\n",
      "\n",
      "더 많은 정보가 필요하시면 말씀해 주세요!\n",
      "<<<<<<< 최종 답변 >>>>>>\n"
     ]
    }
   ],
   "source": [
    "# 질의에 대한 답변을 스트리밍으로 출력 요청\n",
    "result = agent_executor.stream({\"input\": \"AI 투자관련 뉴스를 검색해 주세요.\"})\n",
    "\n",
    "for step in result:\n",
    "    # 중간 단계를 parser 를 사용하여 단계별로 출력\n",
    "    agent_stream_parser.process_agent_steps(step)"
   ]
  }
 ],
 "metadata": {
  "kernelspec": {
   "display_name": "langchain-kr-IB4QDBKG-py3.11",
   "language": "python",
   "name": "python3"
  },
  "language_info": {
   "codemirror_mode": {
    "name": "ipython",
    "version": 3
   },
   "file_extension": ".py",
   "mimetype": "text/x-python",
   "name": "python",
   "nbconvert_exporter": "python",
   "pygments_lexer": "ipython3",
   "version": "3.11.9"
  }
 },
 "nbformat": 4,
 "nbformat_minor": 5
}
